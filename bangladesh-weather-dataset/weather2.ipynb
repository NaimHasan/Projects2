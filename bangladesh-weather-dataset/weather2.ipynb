{
 "cells": [
  {
   "cell_type": "code",
   "execution_count": 1,
   "metadata": {},
   "outputs": [
    {
     "name": "stderr",
     "output_type": "stream",
     "text": [
      "C:\\Users\\NaimHasan\\Anaconda3\\envs\\tensorflow_gpuenv\\lib\\site-packages\\tensorflow\\python\\framework\\dtypes.py:526: FutureWarning: Passing (type, 1) or '1type' as a synonym of type is deprecated; in a future version of numpy, it will be understood as (type, (1,)) / '(1,)type'.\n",
      "  _np_qint8 = np.dtype([(\"qint8\", np.int8, 1)])\n",
      "C:\\Users\\NaimHasan\\Anaconda3\\envs\\tensorflow_gpuenv\\lib\\site-packages\\tensorflow\\python\\framework\\dtypes.py:527: FutureWarning: Passing (type, 1) or '1type' as a synonym of type is deprecated; in a future version of numpy, it will be understood as (type, (1,)) / '(1,)type'.\n",
      "  _np_quint8 = np.dtype([(\"quint8\", np.uint8, 1)])\n",
      "C:\\Users\\NaimHasan\\Anaconda3\\envs\\tensorflow_gpuenv\\lib\\site-packages\\tensorflow\\python\\framework\\dtypes.py:528: FutureWarning: Passing (type, 1) or '1type' as a synonym of type is deprecated; in a future version of numpy, it will be understood as (type, (1,)) / '(1,)type'.\n",
      "  _np_qint16 = np.dtype([(\"qint16\", np.int16, 1)])\n",
      "C:\\Users\\NaimHasan\\Anaconda3\\envs\\tensorflow_gpuenv\\lib\\site-packages\\tensorflow\\python\\framework\\dtypes.py:529: FutureWarning: Passing (type, 1) or '1type' as a synonym of type is deprecated; in a future version of numpy, it will be understood as (type, (1,)) / '(1,)type'.\n",
      "  _np_quint16 = np.dtype([(\"quint16\", np.uint16, 1)])\n",
      "C:\\Users\\NaimHasan\\Anaconda3\\envs\\tensorflow_gpuenv\\lib\\site-packages\\tensorflow\\python\\framework\\dtypes.py:530: FutureWarning: Passing (type, 1) or '1type' as a synonym of type is deprecated; in a future version of numpy, it will be understood as (type, (1,)) / '(1,)type'.\n",
      "  _np_qint32 = np.dtype([(\"qint32\", np.int32, 1)])\n",
      "C:\\Users\\NaimHasan\\Anaconda3\\envs\\tensorflow_gpuenv\\lib\\site-packages\\tensorflow\\python\\framework\\dtypes.py:535: FutureWarning: Passing (type, 1) or '1type' as a synonym of type is deprecated; in a future version of numpy, it will be understood as (type, (1,)) / '(1,)type'.\n",
      "  np_resource = np.dtype([(\"resource\", np.ubyte, 1)])\n"
     ]
    }
   ],
   "source": [
    "#Recurrent Nural Net Approach¶\n",
    "import pandas as pd\n",
    "import matplotlib.pyplot as plt\n",
    "import seaborn as sns\n",
    "import math\n",
    "import numpy as np\n",
    "import tensorflow as tf\n",
    "%matplotlib inline"
   ]
  },
  {
   "cell_type": "code",
   "execution_count": 2,
   "metadata": {},
   "outputs": [
    {
     "data": {
      "text/plain": [
       "'C:\\\\SPB_Data\\\\bangladesh-weather-dataset\\\\bangladesh-weather-dataset'"
      ]
     },
     "execution_count": 2,
     "metadata": {},
     "output_type": "execute_result"
    }
   ],
   "source": [
    "pwd"
   ]
  },
  {
   "cell_type": "code",
   "execution_count": 5,
   "metadata": {},
   "outputs": [
    {
     "data": {
      "text/html": [
       "<div>\n",
       "<style scoped>\n",
       "    .dataframe tbody tr th:only-of-type {\n",
       "        vertical-align: middle;\n",
       "    }\n",
       "\n",
       "    .dataframe tbody tr th {\n",
       "        vertical-align: top;\n",
       "    }\n",
       "\n",
       "    .dataframe thead th {\n",
       "        text-align: right;\n",
       "    }\n",
       "</style>\n",
       "<table border=\"1\" class=\"dataframe\">\n",
       "  <thead>\n",
       "    <tr style=\"text-align: right;\">\n",
       "      <th></th>\n",
       "      <th>tem</th>\n",
       "      <th>Month</th>\n",
       "      <th>Year</th>\n",
       "      <th>rain</th>\n",
       "    </tr>\n",
       "  </thead>\n",
       "  <tbody>\n",
       "    <tr>\n",
       "      <td>0</td>\n",
       "      <td>16.9760</td>\n",
       "      <td>1</td>\n",
       "      <td>1901</td>\n",
       "      <td>18.5356</td>\n",
       "    </tr>\n",
       "    <tr>\n",
       "      <td>1</td>\n",
       "      <td>19.9026</td>\n",
       "      <td>2</td>\n",
       "      <td>1901</td>\n",
       "      <td>16.2548</td>\n",
       "    </tr>\n",
       "    <tr>\n",
       "      <td>2</td>\n",
       "      <td>24.3158</td>\n",
       "      <td>3</td>\n",
       "      <td>1901</td>\n",
       "      <td>70.7981</td>\n",
       "    </tr>\n",
       "    <tr>\n",
       "      <td>3</td>\n",
       "      <td>28.1834</td>\n",
       "      <td>4</td>\n",
       "      <td>1901</td>\n",
       "      <td>66.1616</td>\n",
       "    </tr>\n",
       "    <tr>\n",
       "      <td>4</td>\n",
       "      <td>27.8892</td>\n",
       "      <td>5</td>\n",
       "      <td>1901</td>\n",
       "      <td>267.2150</td>\n",
       "    </tr>\n",
       "  </tbody>\n",
       "</table>\n",
       "</div>"
      ],
      "text/plain": [
       "       tem  Month  Year      rain\n",
       "0  16.9760      1  1901   18.5356\n",
       "1  19.9026      2  1901   16.2548\n",
       "2  24.3158      3  1901   70.7981\n",
       "3  28.1834      4  1901   66.1616\n",
       "4  27.8892      5  1901  267.2150"
      ]
     },
     "execution_count": 5,
     "metadata": {},
     "output_type": "execute_result"
    }
   ],
   "source": [
    "#importing dataset\n",
    "weather = pd.read_csv(r\"C:\\SPB_Data\\bangladesh-weather-dataset\\bangladesh-weather-dataset\\datasets\\weather\\weather.csv\")\n",
    "weather.head()"
   ]
  },
  {
   "cell_type": "code",
   "execution_count": 6,
   "metadata": {},
   "outputs": [
    {
     "data": {
      "text/plain": [
       "tem      0\n",
       "Month    0\n",
       "Year     0\n",
       "rain     0\n",
       "dtype: int64"
      ]
     },
     "execution_count": 6,
     "metadata": {},
     "output_type": "execute_result"
    }
   ],
   "source": [
    "#checking missing data\n",
    "#No missing value\n",
    "weather.isnull().sum()"
   ]
  },
  {
   "cell_type": "code",
   "execution_count": 7,
   "metadata": {},
   "outputs": [
    {
     "data": {
      "text/plain": [
       "<matplotlib.axes._subplots.AxesSubplot at 0x28155d99e80>"
      ]
     },
     "execution_count": 7,
     "metadata": {},
     "output_type": "execute_result"
    },
    {
     "data": {
      "image/png": "[encoded data removed]",
      "text/plain": [
       "<Figure size 432x288 with 1 Axes>"
      ]
     },
     "metadata": {
      "needs_background": "light"
     },
     "output_type": "display_data"
    }
   ],
   "source": [
    "weather[['rain']].plot()"
   ]
  },
  {
   "cell_type": "code",
   "execution_count": 8,
   "metadata": {},
   "outputs": [
    {
     "data": {
      "text/plain": [
       "<matplotlib.axes._subplots.AxesSubplot at 0x28155ee89e8>"
      ]
     },
     "execution_count": 8,
     "metadata": {},
     "output_type": "execute_result"
    },
    {
     "data": {
      "image/png": "[encoded data removed]",
      "text/plain": [
       "<Figure size 432x288 with 1 Axes>"
      ]
     },
     "metadata": {
      "needs_background": "light"
     },
     "output_type": "display_data"
    }
   ],
   "source": [
    "#histogram of the rain\n",
    "weather.rain.hist()"
   ]
  },
  {
   "cell_type": "code",
   "execution_count": 9,
   "metadata": {},
   "outputs": [
    {
     "data": {
      "text/plain": [
       "<matplotlib.axes._subplots.AxesSubplot at 0x2815e728be0>"
      ]
     },
     "execution_count": 9,
     "metadata": {},
     "output_type": "execute_result"
    },
    {
     "data": {
      "image/png": "[encoded data removed]",
      "text/plain": [
       "<Figure size 432x288 with 1 Axes>"
      ]
     },
     "metadata": {
      "needs_background": "light"
     },
     "output_type": "display_data"
    }
   ],
   "source": [
    "#histogram of the temp¶\n",
    "weather.tem.hist()"
   ]
  },
  {
   "cell_type": "code",
   "execution_count": 10,
   "metadata": {},
   "outputs": [
    {
     "name": "stderr",
     "output_type": "stream",
     "text": [
      "No handles with labels found to put in legend.\n"
     ]
    },
    {
     "data": {
      "text/plain": [
       "<matplotlib.legend.Legend at 0x2815e7ad5f8>"
      ]
     },
     "execution_count": 10,
     "metadata": {},
     "output_type": "execute_result"
    },
    {
     "data": {
      "image/png": "[encoded data removed]",
      "text/plain": [
       "<Figure size 432x288 with 1 Axes>"
      ]
     },
     "metadata": {
      "needs_background": "light"
     },
     "output_type": "display_data"
    }
   ],
   "source": [
    "#Rain in different year\n",
    "plt.bar(weather['Year'],weather['rain'])\n",
    "plt.xlabel(\"Year\")\n",
    "plt.ylabel(\"Rain\")\n",
    "plt.legend()"
   ]
  },
  {
   "cell_type": "code",
   "execution_count": 11,
   "metadata": {},
   "outputs": [
    {
     "name": "stderr",
     "output_type": "stream",
     "text": [
      "No handles with labels found to put in legend.\n"
     ]
    },
    {
     "data": {
      "text/plain": [
       "<matplotlib.legend.Legend at 0x281608cae80>"
      ]
     },
     "execution_count": 11,
     "metadata": {},
     "output_type": "execute_result"
    },
    {
     "data": {
      "image/png": "[encoded data removed]",
      "text/plain": [
       "<Figure size 432x288 with 1 Axes>"
      ]
     },
     "metadata": {
      "needs_background": "light"
     },
     "output_type": "display_data"
    }
   ],
   "source": [
    "#Temp to Rain plot\n",
    "plt.bar(weather['tem'],weather['rain'])\n",
    "plt.xlabel(\"TEMP\")\n",
    "plt.ylabel(\"Rain\")\n",
    "plt.legend()"
   ]
  },
  {
   "cell_type": "code",
   "execution_count": 12,
   "metadata": {},
   "outputs": [],
   "source": [
    "correlation = weather.corr()"
   ]
  },
  {
   "cell_type": "code",
   "execution_count": 13,
   "metadata": {},
   "outputs": [
    {
     "data": {
      "text/html": [
       "<div>\n",
       "<style scoped>\n",
       "    .dataframe tbody tr th:only-of-type {\n",
       "        vertical-align: middle;\n",
       "    }\n",
       "\n",
       "    .dataframe tbody tr th {\n",
       "        vertical-align: top;\n",
       "    }\n",
       "\n",
       "    .dataframe thead th {\n",
       "        text-align: right;\n",
       "    }\n",
       "</style>\n",
       "<table border=\"1\" class=\"dataframe\">\n",
       "  <thead>\n",
       "    <tr style=\"text-align: right;\">\n",
       "      <th></th>\n",
       "      <th>tem</th>\n",
       "      <th>Month</th>\n",
       "      <th>Year</th>\n",
       "      <th>rain</th>\n",
       "    </tr>\n",
       "  </thead>\n",
       "  <tbody>\n",
       "    <tr>\n",
       "      <td>tem</td>\n",
       "      <td>1.000000</td>\n",
       "      <td>0.159809</td>\n",
       "      <td>0.051686</td>\n",
       "      <td>0.699846</td>\n",
       "    </tr>\n",
       "    <tr>\n",
       "      <td>Month</td>\n",
       "      <td>0.159809</td>\n",
       "      <td>1.000000</td>\n",
       "      <td>0.000000</td>\n",
       "      <td>0.135204</td>\n",
       "    </tr>\n",
       "    <tr>\n",
       "      <td>Year</td>\n",
       "      <td>0.051686</td>\n",
       "      <td>0.000000</td>\n",
       "      <td>1.000000</td>\n",
       "      <td>-0.027024</td>\n",
       "    </tr>\n",
       "    <tr>\n",
       "      <td>rain</td>\n",
       "      <td>0.699846</td>\n",
       "      <td>0.135204</td>\n",
       "      <td>-0.027024</td>\n",
       "      <td>1.000000</td>\n",
       "    </tr>\n",
       "  </tbody>\n",
       "</table>\n",
       "</div>"
      ],
      "text/plain": [
       "            tem     Month      Year      rain\n",
       "tem    1.000000  0.159809  0.051686  0.699846\n",
       "Month  0.159809  1.000000  0.000000  0.135204\n",
       "Year   0.051686  0.000000  1.000000 -0.027024\n",
       "rain   0.699846  0.135204 -0.027024  1.000000"
      ]
     },
     "execution_count": 13,
     "metadata": {},
     "output_type": "execute_result"
    }
   ],
   "source": [
    "#Correlation matrix\n",
    "correlation"
   ]
  },
  {
   "cell_type": "code",
   "execution_count": 14,
   "metadata": {},
   "outputs": [
    {
     "data": {
      "text/plain": [
       "<matplotlib.axes._subplots.AxesSubplot at 0x2816158eba8>"
      ]
     },
     "execution_count": 14,
     "metadata": {},
     "output_type": "execute_result"
    },
    {
     "data": {
      "image/png": "[encoded data removed]",
      "text/plain": [
       "<Figure size 432x288 with 2 Axes>"
      ]
     },
     "metadata": {
      "needs_background": "light"
     },
     "output_type": "display_data"
    }
   ],
   "source": [
    "sns.heatmap(correlation,cmap='coolwarm',annot=True)"
   ]
  },
  {
   "cell_type": "code",
   "execution_count": 15,
   "metadata": {},
   "outputs": [],
   "source": [
    "sns.set(style=\"whitegrid\",color_codes=True)"
   ]
  },
  {
   "cell_type": "code",
   "execution_count": 16,
   "metadata": {},
   "outputs": [
    {
     "data": {
      "image/png": "[encoded data removed]",
      "text/plain": [
       "<Figure size 432x288 with 1 Axes>"
      ]
     },
     "metadata": {},
     "output_type": "display_data"
    }
   ],
   "source": [
    "sns.distplot(weather['rain'], kde=False, bins=100);"
   ]
  },
  {
   "cell_type": "code",
   "execution_count": 17,
   "metadata": {},
   "outputs": [
    {
     "data": {
      "image/png": "[encoded data removed]",
      "text/plain": [
       "<Figure size 432x288 with 1 Axes>"
      ]
     },
     "metadata": {},
     "output_type": "display_data"
    }
   ],
   "source": [
    "sns.distplot(weather['tem'],kde=False, bins=100);"
   ]
  },
  {
   "cell_type": "code",
   "execution_count": 18,
   "metadata": {},
   "outputs": [
    {
     "data": {
      "image/png": "[encoded data removed]",
      "text/plain": [
       "<Figure size 360x360 with 1 Axes>"
      ]
     },
     "metadata": {},
     "output_type": "display_data"
    }
   ],
   "source": [
    "#relational scatter plot of differnt rain quantity in different Year\n",
    "sns.relplot(x=\"Year\", y=\"rain\", data=weather);"
   ]
  },
  {
   "cell_type": "code",
   "execution_count": 17,
   "metadata": {},
   "outputs": [
    {
     "data": {
      "image/png": "[encoded data removed]",
      "text/plain": [
       "<Figure size 360x360 with 1 Axes>"
      ]
     },
     "metadata": {},
     "output_type": "display_data"
    }
   ],
   "source": [
    "sns.relplot(x=\"Year\", y=\"tem\", data=weather);"
   ]
  },
  {
   "cell_type": "code",
   "execution_count": 19,
   "metadata": {},
   "outputs": [
    {
     "data": {
      "image/png": "[encoded data removed]",
      "text/plain": [
       "<Figure size 433.35x360 with 1 Axes>"
      ]
     },
     "metadata": {},
     "output_type": "display_data"
    }
   ],
   "source": [
    "#relation betwen temp and rain in different year\n",
    "sns.relplot(x=\"Year\", y=\"tem\", hue=\"rain\", data=weather);"
   ]
  },
  {
   "cell_type": "code",
   "execution_count": 20,
   "metadata": {},
   "outputs": [
    {
     "data": {
      "text/plain": [
       "<matplotlib.axes._subplots.AxesSubplot at 0x281619bd9e8>"
      ]
     },
     "execution_count": 20,
     "metadata": {},
     "output_type": "execute_result"
    },
    {
     "data": {
      "image/png": "[encoded data removed]",
      "text/plain": [
       "<Figure size 432x288 with 1 Axes>"
      ]
     },
     "metadata": {},
     "output_type": "display_data"
    }
   ],
   "source": [
    "#box plot\n",
    "sns.boxplot(data=weather,orient='h')"
   ]
  },
  {
   "cell_type": "code",
   "execution_count": 22,
   "metadata": {},
   "outputs": [],
   "source": [
    "#model selection with preprocessing\n",
    "from sklearn.model_selection import train_test_split\n",
    "from sklearn.preprocessing import MinMaxScaler\n"
   ]
  },
  {
   "cell_type": "code",
   "execution_count": 24,
   "metadata": {},
   "outputs": [],
   "source": [
    "#splitting the feature matrix and target\n",
    "weather.head()\n",
    "X = weather.drop('rain',axis=1)\n",
    "y = weather[['rain']]"
   ]
  },
  {
   "cell_type": "code",
   "execution_count": 25,
   "metadata": {},
   "outputs": [
    {
     "data": {
      "text/html": [
       "<div>\n",
       "<style scoped>\n",
       "    .dataframe tbody tr th:only-of-type {\n",
       "        vertical-align: middle;\n",
       "    }\n",
       "\n",
       "    .dataframe tbody tr th {\n",
       "        vertical-align: top;\n",
       "    }\n",
       "\n",
       "    .dataframe thead th {\n",
       "        text-align: right;\n",
       "    }\n",
       "</style>\n",
       "<table border=\"1\" class=\"dataframe\">\n",
       "  <thead>\n",
       "    <tr style=\"text-align: right;\">\n",
       "      <th></th>\n",
       "      <th>tem</th>\n",
       "      <th>Month</th>\n",
       "      <th>Year</th>\n",
       "    </tr>\n",
       "  </thead>\n",
       "  <tbody>\n",
       "    <tr>\n",
       "      <td>0</td>\n",
       "      <td>16.9760</td>\n",
       "      <td>1</td>\n",
       "      <td>1901</td>\n",
       "    </tr>\n",
       "    <tr>\n",
       "      <td>1</td>\n",
       "      <td>19.9026</td>\n",
       "      <td>2</td>\n",
       "      <td>1901</td>\n",
       "    </tr>\n",
       "    <tr>\n",
       "      <td>2</td>\n",
       "      <td>24.3158</td>\n",
       "      <td>3</td>\n",
       "      <td>1901</td>\n",
       "    </tr>\n",
       "    <tr>\n",
       "      <td>3</td>\n",
       "      <td>28.1834</td>\n",
       "      <td>4</td>\n",
       "      <td>1901</td>\n",
       "    </tr>\n",
       "    <tr>\n",
       "      <td>4</td>\n",
       "      <td>27.8892</td>\n",
       "      <td>5</td>\n",
       "      <td>1901</td>\n",
       "    </tr>\n",
       "  </tbody>\n",
       "</table>\n",
       "</div>"
      ],
      "text/plain": [
       "       tem  Month  Year\n",
       "0  16.9760      1  1901\n",
       "1  19.9026      2  1901\n",
       "2  24.3158      3  1901\n",
       "3  28.1834      4  1901\n",
       "4  27.8892      5  1901"
      ]
     },
     "execution_count": 25,
     "metadata": {},
     "output_type": "execute_result"
    }
   ],
   "source": [
    "X.head()"
   ]
  },
  {
   "cell_type": "code",
   "execution_count": 26,
   "metadata": {},
   "outputs": [
    {
     "data": {
      "text/html": [
       "<div>\n",
       "<style scoped>\n",
       "    .dataframe tbody tr th:only-of-type {\n",
       "        vertical-align: middle;\n",
       "    }\n",
       "\n",
       "    .dataframe tbody tr th {\n",
       "        vertical-align: top;\n",
       "    }\n",
       "\n",
       "    .dataframe thead th {\n",
       "        text-align: right;\n",
       "    }\n",
       "</style>\n",
       "<table border=\"1\" class=\"dataframe\">\n",
       "  <thead>\n",
       "    <tr style=\"text-align: right;\">\n",
       "      <th></th>\n",
       "      <th>rain</th>\n",
       "    </tr>\n",
       "  </thead>\n",
       "  <tbody>\n",
       "    <tr>\n",
       "      <td>0</td>\n",
       "      <td>18.5356</td>\n",
       "    </tr>\n",
       "    <tr>\n",
       "      <td>1</td>\n",
       "      <td>16.2548</td>\n",
       "    </tr>\n",
       "    <tr>\n",
       "      <td>2</td>\n",
       "      <td>70.7981</td>\n",
       "    </tr>\n",
       "    <tr>\n",
       "      <td>3</td>\n",
       "      <td>66.1616</td>\n",
       "    </tr>\n",
       "    <tr>\n",
       "      <td>4</td>\n",
       "      <td>267.2150</td>\n",
       "    </tr>\n",
       "  </tbody>\n",
       "</table>\n",
       "</div>"
      ],
      "text/plain": [
       "       rain\n",
       "0   18.5356\n",
       "1   16.2548\n",
       "2   70.7981\n",
       "3   66.1616\n",
       "4  267.2150"
      ]
     },
     "execution_count": 26,
     "metadata": {},
     "output_type": "execute_result"
    }
   ],
   "source": [
    "y.head()"
   ]
  },
  {
   "cell_type": "code",
   "execution_count": 27,
   "metadata": {},
   "outputs": [],
   "source": [
    "#to use RNN you have to maintain the value between a limit hence transforming it\n",
    "#we transform the y so after predict we have to inverse transeform it¶\n",
    "x_train,x_test,y_train,y_test = train_test_split(X,y,test_size=.2)\n",
    "result = y_test\n",
    "scaler = MinMaxScaler()\n",
    "\n",
    "scaler.fit(y_train)\n",
    "y_train =scaler.transform(y_train) # we transform the y so after predict we have to inverse transeform it\n",
    "scaler.fit(y_test)\n",
    "y_test =scaler.transform(y_test) # we transform the y so after predict we have to inverse transeform it"
   ]
  },
  {
   "cell_type": "code",
   "execution_count": 28,
   "metadata": {},
   "outputs": [
    {
     "name": "stderr",
     "output_type": "stream",
     "text": [
      "Using TensorFlow backend.\n"
     ]
    }
   ],
   "source": [
    "#importing RNN module\n",
    "from keras import Sequential\n",
    "from keras.layers import Dense,Dropout,LSTM,Flatten\n"
   ]
  },
  {
   "cell_type": "code",
   "execution_count": 29,
   "metadata": {},
   "outputs": [
    {
     "name": "stdout",
     "output_type": "stream",
     "text": [
      "(1104, 3)\n",
      "(276, 3)\n"
     ]
    }
   ],
   "source": [
    "print (x_train.shape)\n",
    "print (x_test.shape)"
   ]
  },
  {
   "cell_type": "code",
   "execution_count": 30,
   "metadata": {},
   "outputs": [],
   "source": [
    "x_train = np.array(x_train)\n",
    "x_test = np.array(x_test)"
   ]
  },
  {
   "cell_type": "code",
   "execution_count": 31,
   "metadata": {},
   "outputs": [
    {
     "data": {
      "text/plain": [
       "array([[2.72340e+01, 4.00000e+00, 1.95500e+03],\n",
       "       [2.81650e+01, 4.00000e+00, 1.95900e+03],\n",
       "       [1.94921e+01, 1.00000e+00, 2.00600e+03],\n",
       "       ...,\n",
       "       [2.70494e+01, 1.00000e+01, 1.95500e+03],\n",
       "       [2.26849e+01, 1.10000e+01, 1.93700e+03],\n",
       "       [2.84513e+01, 8.00000e+00, 2.00100e+03]])"
      ]
     },
     "execution_count": 31,
     "metadata": {},
     "output_type": "execute_result"
    }
   ],
   "source": [
    "x_train"
   ]
  },
  {
   "cell_type": "code",
   "execution_count": 32,
   "metadata": {},
   "outputs": [],
   "source": [
    "#this reshaping is very important before feeding to RNN\n",
    "x_train = np.reshape(x_train, (x_train.shape[0],x_train.shape[1],1))\n",
    "x_test = np.reshape(x_test, (x_test.shape[0],x_test.shape[1],1))"
   ]
  },
  {
   "cell_type": "code",
   "execution_count": 33,
   "metadata": {},
   "outputs": [
    {
     "name": "stdout",
     "output_type": "stream",
     "text": [
      "(1104, 3, 1)\n",
      "(276, 3, 1)\n",
      "(1104, 1)\n",
      "(276, 1)\n"
     ]
    }
   ],
   "source": [
    "print (x_train.shape)\n",
    "print (x_test.shape)\n",
    "print (y_train.shape)\n",
    "print (y_test.shape)"
   ]
  },
  {
   "cell_type": "code",
   "execution_count": 34,
   "metadata": {},
   "outputs": [],
   "source": [
    "#CREATE A BASIC RNN MODE"
   ]
  },
  {
   "cell_type": "code",
   "execution_count": 35,
   "metadata": {},
   "outputs": [],
   "source": [
    "def RNN_model():\n",
    "    regressor = Sequential()\n",
    "    regressor.add(LSTM(units = 50,return_sequences = True))\n",
    "    regressor.add(Dropout(.2))\n",
    "    regressor.add(LSTM(units = 50))\n",
    "    regressor.add(Dropout(0.2))\n",
    "    regressor.add(Dense(units = 1)) #we want single feature output which is df['Close']\n",
    "    regressor.compile(optimizer = 'adam',loss = 'mean_squared_error')\n",
    "    return regressor"
   ]
  },
  {
   "cell_type": "code",
   "execution_count": 36,
   "metadata": {},
   "outputs": [
    {
     "name": "stdout",
     "output_type": "stream",
     "text": [
      "WARNING:tensorflow:From C:\\Users\\NaimHasan\\Anaconda3\\envs\\tensorflow_gpuenv\\lib\\site-packages\\tensorflow\\python\\framework\\op_def_library.py:263: colocate_with (from tensorflow.python.framework.ops) is deprecated and will be removed in a future version.\n",
      "Instructions for updating:\n",
      "Colocations handled automatically by placer.\n"
     ]
    }
   ],
   "source": [
    "regressor = RNN_model()"
   ]
  },
  {
   "cell_type": "code",
   "execution_count": 37,
   "metadata": {},
   "outputs": [
    {
     "name": "stdout",
     "output_type": "stream",
     "text": [
      "WARNING:tensorflow:From C:\\Users\\NaimHasan\\Anaconda3\\envs\\tensorflow_gpuenv\\lib\\site-packages\\keras\\backend\\tensorflow_backend.py:3445: calling dropout (from tensorflow.python.ops.nn_ops) with keep_prob is deprecated and will be removed in a future version.\n",
      "Instructions for updating:\n",
      "Please use `rate` instead of `keep_prob`. Rate should be set to `rate = 1 - keep_prob`.\n",
      "WARNING:tensorflow:From C:\\Users\\NaimHasan\\Anaconda3\\envs\\tensorflow_gpuenv\\lib\\site-packages\\tensorflow\\python\\ops\\math_ops.py:3066: to_int32 (from tensorflow.python.ops.math_ops) is deprecated and will be removed in a future version.\n",
      "Instructions for updating:\n",
      "Use tf.cast instead.\n",
      "Epoch 1/100\n",
      "1104/1104 [==============================] - 27s 24ms/step - loss: 0.0463\n",
      "Epoch 2/100\n",
      "1104/1104 [==============================] - 1s 636us/step - loss: 0.0326\n",
      "Epoch 3/100\n",
      "1104/1104 [==============================] - 0s 399us/step - loss: 0.0244\n",
      "Epoch 4/100\n",
      "1104/1104 [==============================] - 0s 419us/step - loss: 0.0215\n",
      "Epoch 5/100\n",
      "1104/1104 [==============================] - 0s 444us/step - loss: 0.0206\n",
      "Epoch 6/100\n",
      "1104/1104 [==============================] - 1s 615us/step - loss: 0.0182\n",
      "Epoch 7/100\n",
      "1104/1104 [==============================] - 0s 439us/step - loss: 0.0179\n",
      "Epoch 8/100\n",
      "1104/1104 [==============================] - 1s 458us/step - loss: 0.0168\n",
      "Epoch 9/100\n",
      "1104/1104 [==============================] - 1s 491us/step - loss: 0.0156\n",
      "Epoch 10/100\n",
      "1104/1104 [==============================] - 1s 533us/step - loss: 0.0146\n",
      "Epoch 11/100\n",
      "1104/1104 [==============================] - 0s 445us/step - loss: 0.0145\n",
      "Epoch 12/100\n",
      "1104/1104 [==============================] - 1s 483us/step - loss: 0.0134\n",
      "Epoch 13/100\n",
      "1104/1104 [==============================] - 0s 446us/step - loss: 0.0118\n",
      "Epoch 14/100\n",
      "1104/1104 [==============================] - 1s 582us/step - loss: 0.0118\n",
      "Epoch 15/100\n",
      "1104/1104 [==============================] - 1s 660us/step - loss: 0.0107\n",
      "Epoch 16/100\n",
      "1104/1104 [==============================] - 0s 420us/step - loss: 0.0105\n",
      "Epoch 17/100\n",
      "1104/1104 [==============================] - 1s 542us/step - loss: 0.0114\n",
      "Epoch 18/100\n",
      "1104/1104 [==============================] - 1s 560us/step - loss: 0.0107\n",
      "Epoch 19/100\n",
      "1104/1104 [==============================] - 1s 573us/step - loss: 0.0100\n",
      "Epoch 20/100\n",
      "1104/1104 [==============================] - 1s 459us/step - loss: 0.0092\n",
      "Epoch 21/100\n",
      "1104/1104 [==============================] - 0s 420us/step - loss: 0.0096\n",
      "Epoch 22/100\n",
      "1104/1104 [==============================] - 0s 437us/step - loss: 0.0090\n",
      "Epoch 23/100\n",
      "1104/1104 [==============================] - 1s 475us/step - loss: 0.0089\n",
      "Epoch 24/100\n",
      "1104/1104 [==============================] - 0s 431us/step - loss: 0.0091\n",
      "Epoch 25/100\n",
      "1104/1104 [==============================] - 0s 430us/step - loss: 0.0097\n",
      "Epoch 26/100\n",
      "1104/1104 [==============================] - 1s 471us/step - loss: 0.0090\n",
      "Epoch 27/100\n",
      "1104/1104 [==============================] - 1s 468us/step - loss: 0.0090\n",
      "Epoch 28/100\n",
      "1104/1104 [==============================] - 0s 450us/step - loss: 0.0084\n",
      "Epoch 29/100\n",
      "1104/1104 [==============================] - 1s 499us/step - loss: 0.0084\n",
      "Epoch 30/100\n",
      "1104/1104 [==============================] - 1s 528us/step - loss: 0.0085\n",
      "Epoch 31/100\n",
      "1104/1104 [==============================] - 0s 440us/step - loss: 0.0091\n",
      "Epoch 32/100\n",
      "1104/1104 [==============================] - 1s 456us/step - loss: 0.0090\n",
      "Epoch 33/100\n",
      "1104/1104 [==============================] - 0s 405us/step - loss: 0.0087\n",
      "Epoch 34/100\n",
      "1104/1104 [==============================] - 1s 473us/step - loss: 0.0087\n",
      "Epoch 35/100\n",
      "1104/1104 [==============================] - 1s 458us/step - loss: 0.0088\n",
      "Epoch 36/100\n",
      "1104/1104 [==============================] - 1s 499us/step - loss: 0.0091\n",
      "Epoch 37/100\n",
      "1104/1104 [==============================] - 0s 436us/step - loss: 0.0097\n",
      "Epoch 38/100\n",
      "1104/1104 [==============================] - 1s 472us/step - loss: 0.0084\n",
      "Epoch 39/100\n",
      "1104/1104 [==============================] - 1s 490us/step - loss: 0.0080\n",
      "Epoch 40/100\n",
      "1104/1104 [==============================] - 1s 725us/step - loss: 0.0083\n",
      "Epoch 41/100\n",
      "1104/1104 [==============================] - 1s 511us/step - loss: 0.0078\n",
      "Epoch 42/100\n",
      "1104/1104 [==============================] - 0s 412us/step - loss: 0.0081\n",
      "Epoch 43/100\n",
      "1104/1104 [==============================] - 1s 490us/step - loss: 0.0079\n",
      "Epoch 44/100\n",
      "1104/1104 [==============================] - 1s 455us/step - loss: 0.0088\n",
      "Epoch 45/100\n",
      "1104/1104 [==============================] - 0s 401us/step - loss: 0.0081\n",
      "Epoch 46/100\n",
      "1104/1104 [==============================] - 0s 393us/step - loss: 0.0083\n",
      "Epoch 47/100\n",
      "1104/1104 [==============================] - 0s 407us/step - loss: 0.0078\n",
      "Epoch 48/100\n",
      "1104/1104 [==============================] - 1s 484us/step - loss: 0.0091\n",
      "Epoch 49/100\n",
      "1104/1104 [==============================] - 0s 452us/step - loss: 0.0084\n",
      "Epoch 50/100\n",
      "1104/1104 [==============================] - 1s 458us/step - loss: 0.0083\n",
      "Epoch 51/100\n",
      "1104/1104 [==============================] - 1s 490us/step - loss: 0.0081\n",
      "Epoch 52/100\n",
      "1104/1104 [==============================] - 1s 491us/step - loss: 0.0078\n",
      "Epoch 53/100\n",
      "1104/1104 [==============================] - 1s 553us/step - loss: 0.0081\n",
      "Epoch 54/100\n",
      "1104/1104 [==============================] - 0s 443us/step - loss: 0.0081\n",
      "Epoch 55/100\n",
      "1104/1104 [==============================] - 1s 509us/step - loss: 0.0088\n",
      "Epoch 56/100\n",
      "1104/1104 [==============================] - 1s 555us/step - loss: 0.0080\n",
      "Epoch 57/100\n",
      "1104/1104 [==============================] - 1s 475us/step - loss: 0.0081\n",
      "Epoch 58/100\n",
      "1104/1104 [==============================] - 0s 433us/step - loss: 0.0080\n",
      "Epoch 59/100\n",
      "1104/1104 [==============================] - 1s 513us/step - loss: 0.0083\n",
      "Epoch 60/100\n",
      "1104/1104 [==============================] - 1s 641us/step - loss: 0.0078 0s - loss: \n",
      "Epoch 61/100\n",
      "1104/1104 [==============================] - 1s 490us/step - loss: 0.0079\n",
      "Epoch 62/100\n",
      "1104/1104 [==============================] - 0s 429us/step - loss: 0.0082\n",
      "Epoch 63/100\n",
      "1104/1104 [==============================] - 0s 393us/step - loss: 0.0084\n",
      "Epoch 64/100\n",
      "1104/1104 [==============================] - 1s 494us/step - loss: 0.0080\n",
      "Epoch 65/100\n",
      "1104/1104 [==============================] - 1s 589us/step - loss: 0.0079\n",
      "Epoch 66/100\n",
      "1104/1104 [==============================] - 0s 446us/step - loss: 0.0077\n",
      "Epoch 67/100\n",
      "1104/1104 [==============================] - 0s 414us/step - loss: 0.0077\n",
      "Epoch 68/100\n",
      "1104/1104 [==============================] - 1s 486us/step - loss: 0.0086\n",
      "Epoch 69/100\n",
      "1104/1104 [==============================] - 0s 438us/step - loss: 0.0073\n",
      "Epoch 70/100\n",
      "1104/1104 [==============================] - 1s 468us/step - loss: 0.0080\n",
      "Epoch 71/100\n",
      "1104/1104 [==============================] - 1s 464us/step - loss: 0.0078\n",
      "Epoch 72/100\n",
      "1104/1104 [==============================] - 1s 465us/step - loss: 0.0080\n",
      "Epoch 73/100\n",
      "1104/1104 [==============================] - 0s 417us/step - loss: 0.0075\n",
      "Epoch 74/100\n",
      "1104/1104 [==============================] - 0s 418us/step - loss: 0.0082\n",
      "Epoch 75/100\n",
      "1104/1104 [==============================] - 0s 398us/step - loss: 0.0075\n",
      "Epoch 76/100\n",
      "1104/1104 [==============================] - 1s 503us/step - loss: 0.0077\n",
      "Epoch 77/100\n",
      "1104/1104 [==============================] - 1s 476us/step - loss: 0.0080\n",
      "Epoch 78/100\n",
      "1104/1104 [==============================] - 1s 453us/step - loss: 0.0073\n",
      "Epoch 79/100\n",
      "1104/1104 [==============================] - 0s 395us/step - loss: 0.0081\n",
      "Epoch 80/100\n",
      "1104/1104 [==============================] - 0s 435us/step - loss: 0.0074\n",
      "Epoch 81/100\n",
      "1104/1104 [==============================] - 1s 471us/step - loss: 0.0074\n",
      "Epoch 82/100\n",
      "1104/1104 [==============================] - 1s 482us/step - loss: 0.0074\n",
      "Epoch 83/100\n",
      "1104/1104 [==============================] - 1s 486us/step - loss: 0.0079\n",
      "Epoch 84/100\n",
      "1104/1104 [==============================] - 0s 432us/step - loss: 0.0071\n",
      "Epoch 85/100\n",
      "1104/1104 [==============================] - 0s 403us/step - loss: 0.0073\n",
      "Epoch 86/100\n",
      "1104/1104 [==============================] - 1s 457us/step - loss: 0.0072\n",
      "Epoch 87/100\n"
     ]
    },
    {
     "name": "stdout",
     "output_type": "stream",
     "text": [
      "1104/1104 [==============================] - 0s 431us/step - loss: 0.0076\n",
      "Epoch 88/100\n",
      "1104/1104 [==============================] - 0s 417us/step - loss: 0.0072\n",
      "Epoch 89/100\n",
      "1104/1104 [==============================] - 1s 469us/step - loss: 0.0072 0s - loss:\n",
      "Epoch 90/100\n",
      "1104/1104 [==============================] - 1s 494us/step - loss: 0.0076\n",
      "Epoch 91/100\n",
      "1104/1104 [==============================] - 0s 423us/step - loss: 0.0078\n",
      "Epoch 92/100\n",
      "1104/1104 [==============================] - 0s 400us/step - loss: 0.0073\n",
      "Epoch 93/100\n",
      "1104/1104 [==============================] - 0s 385us/step - loss: 0.0072\n",
      "Epoch 94/100\n",
      "1104/1104 [==============================] - 0s 411us/step - loss: 0.0072\n",
      "Epoch 95/100\n",
      "1104/1104 [==============================] - 1s 497us/step - loss: 0.0074\n",
      "Epoch 96/100\n",
      "1104/1104 [==============================] - 0s 439us/step - loss: 0.0075\n",
      "Epoch 97/100\n",
      "1104/1104 [==============================] - 0s 403us/step - loss: 0.0073\n",
      "Epoch 98/100\n",
      "1104/1104 [==============================] - 0s 434us/step - loss: 0.0069\n",
      "Epoch 99/100\n",
      "1104/1104 [==============================] - 1s 472us/step - loss: 0.0077\n",
      "Epoch 100/100\n",
      "1104/1104 [==============================] - 0s 411us/step - loss: 0.0070\n"
     ]
    },
    {
     "data": {
      "text/plain": [
       "<keras.callbacks.History at 0x281634e0fd0>"
      ]
     },
     "execution_count": 37,
     "metadata": {},
     "output_type": "execute_result"
    }
   ],
   "source": [
    "regressor.fit(x_train,y_train,epochs = 100)"
   ]
  },
  {
   "cell_type": "code",
   "execution_count": 38,
   "metadata": {},
   "outputs": [],
   "source": [
    "y_pred = regressor.predict(x_test)"
   ]
  },
  {
   "cell_type": "code",
   "execution_count": 39,
   "metadata": {},
   "outputs": [
    {
     "data": {
      "text/plain": [
       "array([[ 1.71810538e-02],\n",
       "       [ 4.96542037e-01],\n",
       "       [ 6.57935143e-02],\n",
       "       [ 6.63513616e-02],\n",
       "       [ 1.69140086e-01],\n",
       "       [ 1.77978158e-01],\n",
       "       [ 3.23597908e-01],\n",
       "       [ 1.67956874e-02],\n",
       "       [ 4.20409530e-01],\n",
       "       [ 3.44569147e-01],\n",
       "       [ 1.27134100e-02],\n",
       "       [ 1.43996626e-01],\n",
       "       [ 5.13361394e-01],\n",
       "       [-1.45424902e-03],\n",
       "       [ 2.11919323e-02],\n",
       "       [-4.22146171e-03],\n",
       "       [ 2.02667952e-01],\n",
       "       [ 2.12474093e-02],\n",
       "       [ 2.94820219e-01],\n",
       "       [ 3.00199091e-01],\n",
       "       [ 9.57116038e-02],\n",
       "       [ 1.33549646e-01],\n",
       "       [ 2.07883567e-02],\n",
       "       [ 1.67417228e-02],\n",
       "       [ 7.35102743e-02],\n",
       "       [ 6.72797933e-02],\n",
       "       [ 8.42130929e-03],\n",
       "       [-5.49748540e-04],\n",
       "       [ 2.94965148e-01],\n",
       "       [ 7.18967170e-02],\n",
       "       [ 2.05159158e-01],\n",
       "       [ 3.12548667e-01],\n",
       "       [-1.56704336e-03],\n",
       "       [ 1.74563378e-02],\n",
       "       [ 5.04195690e-01],\n",
       "       [ 5.11380613e-01],\n",
       "       [ 2.94852138e-01],\n",
       "       [ 5.24833322e-01],\n",
       "       [ 1.88092530e-01],\n",
       "       [ 6.99356794e-02],\n",
       "       [ 1.79093868e-01],\n",
       "       [-2.25602090e-03],\n",
       "       [ 4.20824200e-01],\n",
       "       [ 7.20013678e-03],\n",
       "       [ 3.10778618e-04],\n",
       "       [ 1.38109520e-01],\n",
       "       [ 2.94922471e-01],\n",
       "       [ 4.92882818e-01],\n",
       "       [ 5.26374817e-01],\n",
       "       [ 2.94911474e-01],\n",
       "       [ 1.46334156e-01],\n",
       "       [ 3.44005913e-01],\n",
       "       [ 2.54584551e-02],\n",
       "       [ 4.17259455e-01],\n",
       "       [ 1.68891966e-01],\n",
       "       [ 4.19331014e-01],\n",
       "       [ 1.85225785e-01],\n",
       "       [ 5.24529636e-01],\n",
       "       [ 2.94940859e-01],\n",
       "       [ 4.51475948e-01],\n",
       "       [ 4.18586254e-01],\n",
       "       [-1.21557713e-03],\n",
       "       [ 5.82641959e-02],\n",
       "       [-1.87509507e-03],\n",
       "       [ 1.56932101e-02],\n",
       "       [ 4.18699473e-01],\n",
       "       [ 1.51411444e-01],\n",
       "       [ 2.58502454e-01],\n",
       "       [ 1.05604008e-02],\n",
       "       [ 5.07267356e-01],\n",
       "       [ 1.93229839e-01],\n",
       "       [ 2.94949383e-01],\n",
       "       [ 2.94913173e-01],\n",
       "       [-2.99505144e-03],\n",
       "       [ 4.15014505e-01],\n",
       "       [ 5.21390319e-01],\n",
       "       [ 4.80936974e-01],\n",
       "       [ 2.94842839e-01],\n",
       "       [ 1.44039541e-02],\n",
       "       [ 3.88090938e-01],\n",
       "       [ 4.20300215e-01],\n",
       "       [ 3.79698128e-01],\n",
       "       [ 1.27563477e-02],\n",
       "       [ 1.28402784e-02],\n",
       "       [ 2.94705719e-01],\n",
       "       [ 2.76070237e-01],\n",
       "       [ 2.01626465e-01],\n",
       "       [-1.87081099e-03],\n",
       "       [ 2.06180140e-02],\n",
       "       [ 5.99958003e-02],\n",
       "       [ 5.08746326e-01],\n",
       "       [ 4.23733830e-01],\n",
       "       [ 2.07917318e-02],\n",
       "       [ 7.02605471e-02],\n",
       "       [ 2.94614226e-01],\n",
       "       [ 7.09811449e-02],\n",
       "       [ 1.48781896e-01],\n",
       "       [ 1.82682872e-01],\n",
       "       [ 1.03695914e-02],\n",
       "       [ 4.15120542e-01],\n",
       "       [ 2.94955343e-01],\n",
       "       [ 1.79181173e-02],\n",
       "       [ 3.14290673e-01],\n",
       "       [ 2.02944726e-02],\n",
       "       [ 2.02923417e-01],\n",
       "       [ 3.38331833e-02],\n",
       "       [ 6.99846447e-02],\n",
       "       [ 5.36380589e-01],\n",
       "       [ 1.70175061e-02],\n",
       "       [ 5.04528463e-01],\n",
       "       [ 1.79538727e-01],\n",
       "       [ 5.38046777e-01],\n",
       "       [ 4.70242947e-02],\n",
       "       [ 2.27581412e-02],\n",
       "       [ 2.94734359e-01],\n",
       "       [ 9.64285955e-02],\n",
       "       [ 1.76127359e-01],\n",
       "       [ 1.17711872e-02],\n",
       "       [ 2.04508483e-01],\n",
       "       [ 2.98283279e-01],\n",
       "       [ 4.22389507e-01],\n",
       "       [ 1.70506805e-01],\n",
       "       [ 3.72905195e-01],\n",
       "       [ 6.60268515e-02],\n",
       "       [ 4.20315534e-01],\n",
       "       [-1.05338544e-03],\n",
       "       [ 1.61419630e-01],\n",
       "       [ 6.37023747e-02],\n",
       "       [ 4.54298139e-01],\n",
       "       [ 2.95002311e-01],\n",
       "       [-7.03639537e-03],\n",
       "       [ 1.20324120e-02],\n",
       "       [-8.03895295e-04],\n",
       "       [ 4.66616750e-01],\n",
       "       [-2.69915164e-03],\n",
       "       [-1.25458837e-03],\n",
       "       [ 5.52429855e-02],\n",
       "       [ 4.90877450e-01],\n",
       "       [ 1.54164210e-02],\n",
       "       [ 3.11647832e-01],\n",
       "       [ 4.09358025e-01],\n",
       "       [ 2.94850260e-01],\n",
       "       [ 1.83811426e-01],\n",
       "       [ 1.89209282e-02],\n",
       "       [ 2.06091046e-01],\n",
       "       [ 4.96033311e-01],\n",
       "       [ 3.32945660e-02],\n",
       "       [ 3.24716359e-01],\n",
       "       [ 2.77975053e-01],\n",
       "       [ 4.18837994e-01],\n",
       "       [ 1.63405359e-01],\n",
       "       [ 6.92330897e-02],\n",
       "       [ 1.74108624e-01],\n",
       "       [ 3.10719341e-01],\n",
       "       [ 6.76480383e-02],\n",
       "       [ 2.05940604e-01],\n",
       "       [ 4.57686633e-01],\n",
       "       [ 5.85592464e-02],\n",
       "       [ 5.20569146e-01],\n",
       "       [ 1.61408961e-01],\n",
       "       [ 1.81014910e-02],\n",
       "       [ 2.94864774e-01],\n",
       "       [ 1.73944473e-01],\n",
       "       [ 1.43429220e-01],\n",
       "       [-1.27729028e-03],\n",
       "       [ 1.78498462e-01],\n",
       "       [-1.16124749e-03],\n",
       "       [ 1.88524276e-02],\n",
       "       [ 4.20428097e-01],\n",
       "       [ 1.82191283e-03],\n",
       "       [ 1.49331689e-02],\n",
       "       [-1.51025504e-03],\n",
       "       [ 1.64347082e-01],\n",
       "       [ 2.05715597e-01],\n",
       "       [ 2.10276395e-02],\n",
       "       [ 1.63773447e-02],\n",
       "       [ 4.87459928e-01],\n",
       "       [ 1.84903622e-01],\n",
       "       [ 1.78427026e-02],\n",
       "       [ 1.88578248e-01],\n",
       "       [-1.71748549e-03],\n",
       "       [ 2.83068866e-02],\n",
       "       [ 3.19038004e-01],\n",
       "       [ 4.25954908e-03],\n",
       "       [ 4.17851448e-01],\n",
       "       [ 3.08120251e-03],\n",
       "       [ 3.51317227e-03],\n",
       "       [ 1.82602704e-02],\n",
       "       [ 5.25563121e-01],\n",
       "       [ 1.81138888e-02],\n",
       "       [ 1.84203118e-01],\n",
       "       [-3.91244888e-04],\n",
       "       [ 1.00184307e-02],\n",
       "       [ 4.34330553e-01],\n",
       "       [-1.39931589e-03],\n",
       "       [ 2.03949139e-02],\n",
       "       [ 6.12407587e-02],\n",
       "       [ 3.31559628e-01],\n",
       "       [-1.61945075e-03],\n",
       "       [ 5.22272766e-01],\n",
       "       [ 1.76321268e-02],\n",
       "       [ 5.13110310e-03],\n",
       "       [ 1.25667155e-02],\n",
       "       [ 4.20757055e-01],\n",
       "       [ 2.94945687e-01],\n",
       "       [ 5.30319870e-01],\n",
       "       [ 1.18231550e-02],\n",
       "       [ 1.12989247e-02],\n",
       "       [ 5.20529628e-01],\n",
       "       [-1.01379305e-03],\n",
       "       [-1.78173929e-03],\n",
       "       [ 2.94997156e-01],\n",
       "       [ 3.49461436e-01],\n",
       "       [ 1.72870308e-02],\n",
       "       [ 6.33226037e-02],\n",
       "       [ 2.94480413e-01],\n",
       "       [ 2.09070668e-02],\n",
       "       [ 7.51926750e-03],\n",
       "       [ 7.00352862e-02],\n",
       "       [ 2.80496478e-03],\n",
       "       [ 2.94850379e-01],\n",
       "       [ 5.13019562e-01],\n",
       "       [ 7.67929107e-03],\n",
       "       [ 4.87746418e-01],\n",
       "       [ 6.54948056e-02],\n",
       "       [ 5.10075271e-01],\n",
       "       [ 4.20694292e-01],\n",
       "       [ 4.22986120e-01],\n",
       "       [ 4.20633465e-01],\n",
       "       [ 5.47158122e-02],\n",
       "       [ 3.75172168e-01],\n",
       "       [ 3.90740305e-01],\n",
       "       [ 6.28705025e-02],\n",
       "       [ 2.91954696e-01],\n",
       "       [ 5.18182039e-01],\n",
       "       [ 1.87834889e-01],\n",
       "       [ 1.48405924e-01],\n",
       "       [ 1.83619618e-01],\n",
       "       [ 4.22412246e-01],\n",
       "       [ 5.17145276e-01],\n",
       "       [ 5.22417784e-01],\n",
       "       [ 2.07942426e-02],\n",
       "       [ 4.23713982e-01],\n",
       "       [ 1.21097237e-01],\n",
       "       [ 5.39466381e-01],\n",
       "       [ 4.16552931e-01],\n",
       "       [-6.72884285e-04],\n",
       "       [ 1.32994875e-02],\n",
       "       [ 2.69369870e-01],\n",
       "       [ 4.24267262e-01],\n",
       "       [ 4.70682949e-01],\n",
       "       [ 5.08082032e-01],\n",
       "       [ 6.48663864e-02],\n",
       "       [ 6.90156072e-02],\n",
       "       [ 1.85964167e-01],\n",
       "       [ 1.63582489e-02],\n",
       "       [ 4.86733019e-01],\n",
       "       [ 5.04588008e-01],\n",
       "       [ 2.15581283e-02],\n",
       "       [ 5.25917649e-01],\n",
       "       [ 9.61157680e-03],\n",
       "       [ 4.13647294e-01],\n",
       "       [-5.68201393e-03],\n",
       "       [ 4.19044971e-01],\n",
       "       [ 4.19747293e-01],\n",
       "       [ 1.46494806e-02],\n",
       "       [ 5.12166619e-01],\n",
       "       [ 4.21155900e-01],\n",
       "       [ 3.41946632e-03],\n",
       "       [ 1.40195221e-01],\n",
       "       [ 4.64569837e-01],\n",
       "       [ 4.13840830e-01],\n",
       "       [ 2.94892490e-01],\n",
       "       [-5.11065871e-03],\n",
       "       [ 3.30635369e-01],\n",
       "       [ 2.94881135e-01]], dtype=float32)"
      ]
     },
     "execution_count": 39,
     "metadata": {},
     "output_type": "execute_result"
    }
   ],
   "source": [
    "y_pred"
   ]
  },
  {
   "cell_type": "code",
   "execution_count": 40,
   "metadata": {},
   "outputs": [],
   "source": [
    "output = scaler.inverse_transform(y_pred)"
   ]
  },
  {
   "cell_type": "code",
   "execution_count": 41,
   "metadata": {},
   "outputs": [],
   "source": [
    "real_output = []\n",
    "for item in output:\n",
    "    real_output.append((item[0]))"
   ]
  },
  {
   "cell_type": "code",
   "execution_count": 42,
   "metadata": {},
   "outputs": [
    {
     "data": {
      "text/plain": [
       "[13.465238,\n",
       " 389.12802,\n",
       " 51.56156,\n",
       " 51.998734,\n",
       " 132.55159,\n",
       " 139.47777,\n",
       " 253.59619,\n",
       " 13.163236,\n",
       " 329.46497,\n",
       " 270.0308,\n",
       " 9.96406,\n",
       " 112.84731,\n",
       " 402.30893,\n",
       " -1.1387674,\n",
       " 16.60846,\n",
       " -3.3073602,\n",
       " 158.8265,\n",
       " 16.651936,\n",
       " 231.04385,\n",
       " 235.25914,\n",
       " 75.00759,\n",
       " 104.660286,\n",
       " 16.292187,\n",
       " 13.120945,\n",
       " 57.608986,\n",
       " 52.72632,\n",
       " 6.600452,\n",
       " -0.4299337,\n",
       " 231.15744,\n",
       " 56.344482,\n",
       " 160.77881,\n",
       " 244.93718,\n",
       " -1.2271614,\n",
       " 13.68097,\n",
       " 395.126,\n",
       " 400.75662,\n",
       " 231.06888,\n",
       " 411.29916,\n",
       " 147.40413,\n",
       " 54.80767,\n",
       " 140.35211,\n",
       " -1.7670951,\n",
       " 329.78992,\n",
       " 5.6434507,\n",
       " 0.24443917,\n",
       " 108.23374,\n",
       " 231.124,\n",
       " 386.26038,\n",
       " 412.5072,\n",
       " 231.11537,\n",
       " 114.67918,\n",
       " 269.58942,\n",
       " 19.952023,\n",
       " 326.9963,\n",
       " 132.35715,\n",
       " 328.61975,\n",
       " 145.15755,\n",
       " 411.0612,\n",
       " 231.1384,\n",
       " 353.8109,\n",
       " 328.0361,\n",
       " -0.9517264,\n",
       " 45.661034,\n",
       " -1.4685735,\n",
       " 12.2992525,\n",
       " 328.12482,\n",
       " 118.65812,\n",
       " 202.58257,\n",
       " 8.276802,\n",
       " 397.53317,\n",
       " 151.43011,\n",
       " 231.14508,\n",
       " 231.1167,\n",
       " -2.346254,\n",
       " 325.237,\n",
       " 408.60098,\n",
       " 376.89874,\n",
       " 231.06158,\n",
       " 11.288896,\n",
       " 304.1377,\n",
       " 329.37927,\n",
       " 297.5605,\n",
       " 9.997709,\n",
       " 10.063483,\n",
       " 230.95413,\n",
       " 216.34999,\n",
       " 158.01033,\n",
       " -1.4652162,\n",
       " 16.158693,\n",
       " 47.018047,\n",
       " 398.6922,\n",
       " 332.07013,\n",
       " 16.294832,\n",
       " 55.06226,\n",
       " 230.88243,\n",
       " 55.626972,\n",
       " 116.597404,\n",
       " 143.16472,\n",
       " 8.12727,\n",
       " 325.3201,\n",
       " 231.14975,\n",
       " 14.042855,\n",
       " 246.30235,\n",
       " 15.905143,\n",
       " 159.02672,\n",
       " 26.51508,\n",
       " 54.846043,\n",
       " 420.34848,\n",
       " 13.3370695,\n",
       " 395.38678,\n",
       " 140.70074,\n",
       " 421.6542,\n",
       " 36.85261,\n",
       " 17.835857,\n",
       " 230.97658,\n",
       " 75.56948,\n",
       " 138.02734,\n",
       " 9.225664,\n",
       " 160.26889,\n",
       " 233.75777,\n",
       " 331.0166,\n",
       " 133.62265,\n",
       " 292.23703,\n",
       " 51.744423,\n",
       " 329.3913,\n",
       " -0.8246209,\n",
       " 126.501274,\n",
       " 49.92279,\n",
       " 356.02258,\n",
       " 231.18655,\n",
       " -5.513351,\n",
       " 9.43038,\n",
       " -0.62910193,\n",
       " 365.67636,\n",
       " -2.114365,\n",
       " -0.98229843,\n",
       " 43.29339,\n",
       " 384.68884,\n",
       " 12.082339,\n",
       " 244.23123,\n",
       " 320.80417,\n",
       " 231.0674,\n",
       " 144.04915,\n",
       " 14.8287325,\n",
       " 161.50911,\n",
       " 388.72934,\n",
       " 26.09298,\n",
       " 254.47269,\n",
       " 217.84274,\n",
       " 328.23337,\n",
       " 128.05743,\n",
       " 54.25707,\n",
       " 136.44531,\n",
       " 243.50359,\n",
       " 53.014904,\n",
       " 161.3912,\n",
       " 358.67804,\n",
       " 45.892254,\n",
       " 407.95746,\n",
       " 126.49291,\n",
       " 14.186561,\n",
       " 231.07878,\n",
       " 136.31667,\n",
       " 112.40266,\n",
       " -1.0000894,\n",
       " 139.88551,\n",
       " -0.90914965,\n",
       " 14.77505,\n",
       " 329.4795,\n",
       " 1.4286759,\n",
       " 11.703628,\n",
       " -1.1826578,\n",
       " 128.79544,\n",
       " 161.21487,\n",
       " 16.479708,\n",
       " 12.835391,\n",
       " 382.01062,\n",
       " 144.90508,\n",
       " 13.983754,\n",
       " 147.78477,\n",
       " -1.3450589,\n",
       " 22.184265,\n",
       " 250.0227,\n",
       " 3.3389883,\n",
       " 327.46024,\n",
       " 2.4155488,\n",
       " 2.7540722,\n",
       " 14.310991,\n",
       " 411.8711,\n",
       " 14.196276,\n",
       " 144.35611,\n",
       " -0.30571848,\n",
       " 7.8520746,\n",
       " 340.3745,\n",
       " -1.0957177,\n",
       " 15.983856,\n",
       " 47.993687,\n",
       " 259.83557,\n",
       " -1.2682316,\n",
       " 409.29254,\n",
       " 13.818731,\n",
       " 4.0220027,\n",
       " 9.849099,\n",
       " 329.7373,\n",
       " 231.14218,\n",
       " 415.59885,\n",
       " 9.26639,\n",
       " 8.855564,\n",
       " 407.92648,\n",
       " -0.7935934,\n",
       " -1.395413,\n",
       " 231.18253,\n",
       " 273.86478,\n",
       " 13.548289,\n",
       " 49.62517,\n",
       " 230.77756,\n",
       " 16.385218,\n",
       " 5.893545,\n",
       " 54.885727,\n",
       " 2.1990683,\n",
       " 231.06749,\n",
       " 402.04105,\n",
       " 6.0189514,\n",
       " 382.23514,\n",
       " 51.327473,\n",
       " 399.73367,\n",
       " 329.6881,\n",
       " 331.48416,\n",
       " 329.64044,\n",
       " 42.880257,\n",
       " 294.0136,\n",
       " 306.21396,\n",
       " 49.270874,\n",
       " 228.79822,\n",
       " 406.08673,\n",
       " 147.20222,\n",
       " 116.302765,\n",
       " 143.89883,\n",
       " 331.03442,\n",
       " 405.27426,\n",
       " 409.4062,\n",
       " 16.2968,\n",
       " 332.05457,\n",
       " 94.90166,\n",
       " 422.76672,\n",
       " 326.44263,\n",
       " -0.526432,\n",
       " 10.423354,\n",
       " 211.09908,\n",
       " 332.48816,\n",
       " 368.8629,\n",
       " 398.17163,\n",
       " 50.834995,\n",
       " 54.08663,\n",
       " 145.73619,\n",
       " 12.820427,\n",
       " 381.44095,\n",
       " 395.43344,\n",
       " 16.895437,\n",
       " 412.14893,\n",
       " 7.5332336,\n",
       " 324.16556,\n",
       " -4.451957,\n",
       " 328.39557,\n",
       " 328.94598,\n",
       " 11.481308,\n",
       " 401.37262,\n",
       " 330.04987,\n",
       " 2.6806374,\n",
       " 109.868256,\n",
       " 364.07224,\n",
       " 324.31723,\n",
       " 231.1005,\n",
       " -4.004201,\n",
       " 259.11127,\n",
       " 231.0916]"
      ]
     },
     "execution_count": 42,
     "metadata": {},
     "output_type": "execute_result"
    }
   ],
   "source": [
    "real_output"
   ]
  },
  {
   "cell_type": "code",
   "execution_count": 43,
   "metadata": {},
   "outputs": [
    {
     "name": "stderr",
     "output_type": "stream",
     "text": [
      "C:\\Users\\NaimHasan\\Anaconda3\\envs\\tensorflow_gpuenv\\lib\\site-packages\\ipykernel_launcher.py:1: SettingWithCopyWarning: \n",
      "A value is trying to be set on a copy of a slice from a DataFrame.\n",
      "Try using .loc[row_indexer,col_indexer] = value instead\n",
      "\n",
      "See the caveats in the documentation: http://pandas.pydata.org/pandas-docs/stable/user_guide/indexing.html#returning-a-view-versus-a-copy\n",
      "  \"\"\"Entry point for launching an IPython kernel.\n"
     ]
    }
   ],
   "source": [
    "result['predited value'] = np.array(real_output)\n"
   ]
  },
  {
   "cell_type": "code",
   "execution_count": 44,
   "metadata": {},
   "outputs": [
    {
     "data": {
      "text/html": [
       "<div>\n",
       "<style scoped>\n",
       "    .dataframe tbody tr th:only-of-type {\n",
       "        vertical-align: middle;\n",
       "    }\n",
       "\n",
       "    .dataframe tbody tr th {\n",
       "        vertical-align: top;\n",
       "    }\n",
       "\n",
       "    .dataframe thead th {\n",
       "        text-align: right;\n",
       "    }\n",
       "</style>\n",
       "<table border=\"1\" class=\"dataframe\">\n",
       "  <thead>\n",
       "    <tr style=\"text-align: right;\">\n",
       "      <th></th>\n",
       "      <th>rain</th>\n",
       "      <th>predited value</th>\n",
       "    </tr>\n",
       "  </thead>\n",
       "  <tbody>\n",
       "    <tr>\n",
       "      <td>82</td>\n",
       "      <td>9.41034</td>\n",
       "      <td>13.465238</td>\n",
       "    </tr>\n",
       "    <tr>\n",
       "      <td>485</td>\n",
       "      <td>783.67500</td>\n",
       "      <td>389.128021</td>\n",
       "    </tr>\n",
       "    <tr>\n",
       "      <td>1094</td>\n",
       "      <td>9.63505</td>\n",
       "      <td>51.561562</td>\n",
       "    </tr>\n",
       "    <tr>\n",
       "      <td>1046</td>\n",
       "      <td>70.32300</td>\n",
       "      <td>51.998734</td>\n",
       "    </tr>\n",
       "    <tr>\n",
       "      <td>909</td>\n",
       "      <td>98.27700</td>\n",
       "      <td>132.551590</td>\n",
       "    </tr>\n",
       "  </tbody>\n",
       "</table>\n",
       "</div>"
      ],
      "text/plain": [
       "           rain  predited value\n",
       "82      9.41034       13.465238\n",
       "485   783.67500      389.128021\n",
       "1094    9.63505       51.561562\n",
       "1046   70.32300       51.998734\n",
       "909    98.27700      132.551590"
      ]
     },
     "execution_count": 44,
     "metadata": {},
     "output_type": "execute_result"
    }
   ],
   "source": [
    "result.head()\n"
   ]
  },
  {
   "cell_type": "code",
   "execution_count": 45,
   "metadata": {},
   "outputs": [],
   "source": [
    "from sklearn.metrics import mean_squared_error\n",
    "mse = mean_squared_error(np.array(result['rain']), np.array(result['predited value']))"
   ]
  },
  {
   "cell_type": "code",
   "execution_count": 46,
   "metadata": {},
   "outputs": [
    {
     "name": "stdout",
     "output_type": "stream",
     "text": [
      "MSE: 10397.624492699817\n",
      "MSE: 101.96874272393387\n"
     ]
    }
   ],
   "source": [
    "import math\n",
    "print (\"MSE: \"+str(mse))\n",
    "print (\"MSE: \"+str(math.sqrt(mse)))"
   ]
  },
  {
   "cell_type": "code",
   "execution_count": 47,
   "metadata": {},
   "outputs": [],
   "source": [
    "#KNN APPROACH¶\n",
    "weather = pd.read_csv(r\"C:\\SPB_Data\\bangladesh-weather-dataset\\bangladesh-weather-dataset\\datasets\\weather\\weather.csv\")\n",
    "X = weather.drop('rain',axis=1)\n",
    "y = weather[['rain']]\n",
    "x_train,x_test,y_train,y_test = train_test_split(X,y,test_size=.2)"
   ]
  },
  {
   "cell_type": "code",
   "execution_count": 48,
   "metadata": {},
   "outputs": [],
   "source": [
    "from sklearn.neighbors import KNeighborsRegressor"
   ]
  },
  {
   "cell_type": "code",
   "execution_count": 49,
   "metadata": {
    "scrolled": true
   },
   "outputs": [],
   "source": [
    "knn = KNeighborsRegressor(n_neighbors=5)\n"
   ]
  },
  {
   "cell_type": "code",
   "execution_count": 50,
   "metadata": {},
   "outputs": [],
   "source": [
    "knn.fit(x_train,y_train)\n",
    "predicted=knn.predict(x_test)"
   ]
  },
  {
   "cell_type": "code",
   "execution_count": 51,
   "metadata": {},
   "outputs": [
    {
     "data": {
      "text/plain": [
       "array([[423.7144  ],\n",
       "       [103.366038],\n",
       "       [463.4112  ],\n",
       "       [ 26.06528 ],\n",
       "       [  9.213452],\n",
       "       [405.4728  ],\n",
       "       [ 17.349946],\n",
       "       [  7.396664],\n",
       "       [261.4406  ],\n",
       "       [233.6952  ],\n",
       "       [ 20.529498],\n",
       "       [ 43.861304],\n",
       "       [ 14.264388],\n",
       "       [ 11.36567 ],\n",
       "       [ 13.418488],\n",
       "       [531.2346  ],\n",
       "       [355.668   ],\n",
       "       [  5.332474],\n",
       "       [386.6252  ],\n",
       "       [371.63804 ],\n",
       "       [423.829   ],\n",
       "       [254.2922  ],\n",
       "       [190.3216  ],\n",
       "       [  8.693364],\n",
       "       [109.79904 ],\n",
       "       [ 19.568078],\n",
       "       [ 23.447076],\n",
       "       [203.8962  ],\n",
       "       [392.3976  ],\n",
       "       [230.98188 ],\n",
       "       [239.3352  ],\n",
       "       [ 22.195642],\n",
       "       [139.14654 ],\n",
       "       [182.20969 ],\n",
       "       [ 14.503156],\n",
       "       [427.4698  ],\n",
       "       [ 16.338964],\n",
       "       [  3.602638],\n",
       "       [521.3612  ],\n",
       "       [323.4042  ],\n",
       "       [409.4492  ],\n",
       "       [346.1524  ],\n",
       "       [  5.26876 ],\n",
       "       [ 23.447076],\n",
       "       [ 16.971852],\n",
       "       [  0.688962],\n",
       "       [366.9268  ],\n",
       "       [429.7624  ],\n",
       "       [281.6662  ],\n",
       "       [267.7128  ],\n",
       "       [236.6834  ],\n",
       "       [ 16.29235 ],\n",
       "       [  4.731134],\n",
       "       [ 93.720578],\n",
       "       [404.60864 ],\n",
       "       [ 18.192176],\n",
       "       [ 86.983386],\n",
       "       [ 52.56052 ],\n",
       "       [495.6028  ],\n",
       "       [ 21.75363 ],\n",
       "       [  9.758626],\n",
       "       [223.03172 ],\n",
       "       [251.7316  ],\n",
       "       [374.1244  ],\n",
       "       [333.3584  ],\n",
       "       [ 11.736196],\n",
       "       [321.4876  ],\n",
       "       [432.0618  ],\n",
       "       [ 39.2624  ],\n",
       "       [487.5444  ],\n",
       "       [  1.219094],\n",
       "       [ 30.527004],\n",
       "       [280.6216  ],\n",
       "       [215.8928  ],\n",
       "       [229.34984 ],\n",
       "       [355.0272  ],\n",
       "       [427.1992  ],\n",
       "       [ 28.764854],\n",
       "       [238.6304  ],\n",
       "       [478.0034  ],\n",
       "       [  4.492808],\n",
       "       [  2.245274],\n",
       "       [395.7806  ],\n",
       "       [467.973   ],\n",
       "       [ 66.643032],\n",
       "       [413.077   ],\n",
       "       [ 11.36    ],\n",
       "       [530.9896  ],\n",
       "       [364.46266 ],\n",
       "       [265.7224  ],\n",
       "       [395.2524  ],\n",
       "       [439.5806  ],\n",
       "       [524.7742  ],\n",
       "       [ 21.432598],\n",
       "       [250.6081  ],\n",
       "       [289.7608  ],\n",
       "       [202.4674  ],\n",
       "       [439.1056  ],\n",
       "       [  7.01988 ],\n",
       "       [  6.370852],\n",
       "       [411.2706  ],\n",
       "       [301.2098  ],\n",
       "       [313.2972  ],\n",
       "       [167.46944 ],\n",
       "       [527.2232  ],\n",
       "       [177.39538 ],\n",
       "       [415.38198 ],\n",
       "       [111.595602],\n",
       "       [191.7152  ],\n",
       "       [604.157   ],\n",
       "       [  7.06147 ],\n",
       "       [286.6809  ],\n",
       "       [391.4486  ],\n",
       "       [284.7822  ],\n",
       "       [367.4246  ],\n",
       "       [348.2958  ],\n",
       "       [  2.538458],\n",
       "       [  3.628066],\n",
       "       [308.2902  ],\n",
       "       [ 16.614076],\n",
       "       [400.2224  ],\n",
       "       [363.7326  ],\n",
       "       [  4.432506],\n",
       "       [  8.8409  ],\n",
       "       [  3.304386],\n",
       "       [417.4124  ],\n",
       "       [229.4268  ],\n",
       "       [462.1672  ],\n",
       "       [ 27.458728],\n",
       "       [480.4596  ],\n",
       "       [ 39.528614],\n",
       "       [602.1942  ],\n",
       "       [  4.915614],\n",
       "       [ 13.372212],\n",
       "       [208.67868 ],\n",
       "       [414.207   ],\n",
       "       [218.802   ],\n",
       "       [272.3365  ],\n",
       "       [ 13.709536],\n",
       "       [  2.538458],\n",
       "       [398.91166 ],\n",
       "       [  4.134678],\n",
       "       [248.0772  ],\n",
       "       [417.4376  ],\n",
       "       [379.6826  ],\n",
       "       [  4.524398],\n",
       "       [  6.356286],\n",
       "       [ 65.99526 ],\n",
       "       [433.9436  ],\n",
       "       [476.5334  ],\n",
       "       [  3.682806],\n",
       "       [427.3624  ],\n",
       "       [ 53.08288 ],\n",
       "       [ 28.187864],\n",
       "       [427.8452  ],\n",
       "       [ 13.870032],\n",
       "       [223.6173  ],\n",
       "       [237.4346  ],\n",
       "       [  7.157004],\n",
       "       [ 11.571944],\n",
       "       [512.6098  ],\n",
       "       [  7.603342],\n",
       "       [ 75.912764],\n",
       "       [250.5166  ],\n",
       "       [ 12.152004],\n",
       "       [  6.829562],\n",
       "       [494.8318  ],\n",
       "       [ 20.015   ],\n",
       "       [250.12904 ],\n",
       "       [415.9556  ],\n",
       "       [301.07258 ],\n",
       "       [  4.939846],\n",
       "       [420.4148  ],\n",
       "       [249.157   ],\n",
       "       [111.77112 ],\n",
       "       [500.089   ],\n",
       "       [247.5122  ],\n",
       "       [407.3226  ],\n",
       "       [172.1273  ],\n",
       "       [267.6363  ],\n",
       "       [ 30.75389 ],\n",
       "       [168.27198 ],\n",
       "       [  3.465478],\n",
       "       [376.887   ],\n",
       "       [337.9992  ],\n",
       "       [  7.252832],\n",
       "       [360.9982  ],\n",
       "       [  8.68973 ],\n",
       "       [371.4032  ],\n",
       "       [439.3342  ],\n",
       "       [221.7676  ],\n",
       "       [512.644   ],\n",
       "       [545.3664  ],\n",
       "       [ 12.952588],\n",
       "       [317.37046 ],\n",
       "       [ 14.378402],\n",
       "       [211.30022 ],\n",
       "       [168.88252 ],\n",
       "       [283.6366  ],\n",
       "       [317.436   ],\n",
       "       [185.0132  ],\n",
       "       [356.3342  ],\n",
       "       [386.9062  ],\n",
       "       [  4.492808],\n",
       "       [321.2232  ],\n",
       "       [302.3982  ],\n",
       "       [  4.064372],\n",
       "       [293.55292 ],\n",
       "       [ 23.4731  ],\n",
       "       [  5.644566],\n",
       "       [115.697508],\n",
       "       [314.84432 ],\n",
       "       [ 16.298828],\n",
       "       [332.9454  ],\n",
       "       [  3.431572],\n",
       "       [425.979   ],\n",
       "       [337.3852  ],\n",
       "       [350.7398  ],\n",
       "       [464.1162  ],\n",
       "       [469.3198  ],\n",
       "       [ 13.019668],\n",
       "       [252.8204  ],\n",
       "       [313.0798  ],\n",
       "       [ 16.126202],\n",
       "       [367.5826  ],\n",
       "       [315.3772  ],\n",
       "       [440.7276  ],\n",
       "       [  9.66645 ],\n",
       "       [442.5312  ],\n",
       "       [434.4046  ],\n",
       "       [110.16444 ],\n",
       "       [  7.43929 ],\n",
       "       [442.8912  ],\n",
       "       [113.652292],\n",
       "       [ 56.845242],\n",
       "       [375.60484 ],\n",
       "       [ 24.791562],\n",
       "       [  5.519744],\n",
       "       [ 98.59724 ],\n",
       "       [ 72.239996],\n",
       "       [395.0822  ],\n",
       "       [ 96.58391 ],\n",
       "       [454.3956  ],\n",
       "       [397.2598  ],\n",
       "       [321.72644 ],\n",
       "       [ 55.68336 ],\n",
       "       [ 11.543994],\n",
       "       [430.2276  ],\n",
       "       [ 29.994402],\n",
       "       [418.1578  ],\n",
       "       [  8.097252],\n",
       "       [492.898   ],\n",
       "       [ 11.725394],\n",
       "       [ 77.234572],\n",
       "       [323.7318  ],\n",
       "       [464.317   ],\n",
       "       [ 15.04642 ],\n",
       "       [ 37.016576],\n",
       "       [ 30.713302],\n",
       "       [ 15.69154 ],\n",
       "       [ 30.994002],\n",
       "       [  5.213184],\n",
       "       [311.1962  ],\n",
       "       [  5.59073 ],\n",
       "       [  6.562878],\n",
       "       [ 17.856176],\n",
       "       [439.8256  ],\n",
       "       [268.06076 ],\n",
       "       [ 63.32097 ],\n",
       "       [289.4196  ],\n",
       "       [  1.747996],\n",
       "       [235.8174  ],\n",
       "       [195.27845 ],\n",
       "       [514.9692  ],\n",
       "       [453.4974  ],\n",
       "       [416.9598  ]])"
      ]
     },
     "execution_count": 51,
     "metadata": {},
     "output_type": "execute_result"
    }
   ],
   "source": [
    "predicted"
   ]
  },
  {
   "cell_type": "code",
   "execution_count": 52,
   "metadata": {},
   "outputs": [],
   "source": [
    "real_output = []\n",
    "for item in predicted:\n",
    "    real_output.append((item[0]))"
   ]
  },
  {
   "cell_type": "code",
   "execution_count": 53,
   "metadata": {},
   "outputs": [
    {
     "data": {
      "text/plain": [
       "[423.71439999999996,\n",
       " 103.366038,\n",
       " 463.4112,\n",
       " 26.06528,\n",
       " 9.213452,\n",
       " 405.4728,\n",
       " 17.349946,\n",
       " 7.396664000000001,\n",
       " 261.4406,\n",
       " 233.69519999999997,\n",
       " 20.529498,\n",
       " 43.861304,\n",
       " 14.264388,\n",
       " 11.365669999999998,\n",
       " 13.418488000000002,\n",
       " 531.2346,\n",
       " 355.668,\n",
       " 5.332474,\n",
       " 386.62520000000006,\n",
       " 371.63804000000005,\n",
       " 423.82900000000006,\n",
       " 254.2922,\n",
       " 190.3216,\n",
       " 8.693363999999999,\n",
       " 109.79904000000002,\n",
       " 19.568078,\n",
       " 23.447076,\n",
       " 203.8962,\n",
       " 392.39760000000007,\n",
       " 230.98188,\n",
       " 239.33520000000004,\n",
       " 22.195642,\n",
       " 139.14654000000002,\n",
       " 182.20968999999997,\n",
       " 14.503156000000004,\n",
       " 427.4698,\n",
       " 16.338963999999997,\n",
       " 3.6026380000000002,\n",
       " 521.3611999999999,\n",
       " 323.40420000000006,\n",
       " 409.4492,\n",
       " 346.1524,\n",
       " 5.26876,\n",
       " 23.447076,\n",
       " 16.971852000000002,\n",
       " 0.6889620000000001,\n",
       " 366.9268,\n",
       " 429.76239999999996,\n",
       " 281.6662,\n",
       " 267.7128,\n",
       " 236.68339999999998,\n",
       " 16.292350000000003,\n",
       " 4.731134,\n",
       " 93.720578,\n",
       " 404.60864,\n",
       " 18.192176,\n",
       " 86.983386,\n",
       " 52.56052,\n",
       " 495.60279999999995,\n",
       " 21.75363,\n",
       " 9.758626,\n",
       " 223.03172,\n",
       " 251.7316,\n",
       " 374.12440000000004,\n",
       " 333.35839999999996,\n",
       " 11.736196,\n",
       " 321.48760000000004,\n",
       " 432.06180000000006,\n",
       " 39.2624,\n",
       " 487.54440000000005,\n",
       " 1.2190940000000001,\n",
       " 30.527003999999998,\n",
       " 280.6216,\n",
       " 215.8928,\n",
       " 229.34984,\n",
       " 355.0272,\n",
       " 427.1992,\n",
       " 28.764853999999996,\n",
       " 238.6304,\n",
       " 478.00340000000006,\n",
       " 4.492807999999999,\n",
       " 2.2452739999999998,\n",
       " 395.78059999999994,\n",
       " 467.97300000000007,\n",
       " 66.64303199999999,\n",
       " 413.07700000000006,\n",
       " 11.36,\n",
       " 530.9896000000001,\n",
       " 364.46266,\n",
       " 265.7224,\n",
       " 395.2524,\n",
       " 439.58060000000006,\n",
       " 524.7742000000001,\n",
       " 21.432598000000002,\n",
       " 250.6081,\n",
       " 289.7608,\n",
       " 202.4674,\n",
       " 439.1056,\n",
       " 7.019880000000001,\n",
       " 6.370852000000001,\n",
       " 411.2706,\n",
       " 301.2098,\n",
       " 313.2972,\n",
       " 167.46944000000002,\n",
       " 527.2232,\n",
       " 177.39538000000002,\n",
       " 415.38198,\n",
       " 111.59560200000001,\n",
       " 191.71519999999995,\n",
       " 604.1569999999999,\n",
       " 7.061470000000002,\n",
       " 286.68089999999995,\n",
       " 391.44860000000006,\n",
       " 284.7822,\n",
       " 367.4246,\n",
       " 348.2958,\n",
       " 2.538458,\n",
       " 3.6280659999999996,\n",
       " 308.2902,\n",
       " 16.614076,\n",
       " 400.2224,\n",
       " 363.7326,\n",
       " 4.432506,\n",
       " 8.840900000000001,\n",
       " 3.304386,\n",
       " 417.4124,\n",
       " 229.42680000000001,\n",
       " 462.1672,\n",
       " 27.458728,\n",
       " 480.45959999999997,\n",
       " 39.528614,\n",
       " 602.1941999999999,\n",
       " 4.915614,\n",
       " 13.372212000000001,\n",
       " 208.67867999999999,\n",
       " 414.207,\n",
       " 218.802,\n",
       " 272.3365,\n",
       " 13.709536,\n",
       " 2.538458,\n",
       " 398.9116599999999,\n",
       " 4.134677999999999,\n",
       " 248.0772,\n",
       " 417.43760000000003,\n",
       " 379.6826,\n",
       " 4.524398,\n",
       " 6.356286,\n",
       " 65.99526,\n",
       " 433.94359999999995,\n",
       " 476.5334,\n",
       " 3.6828060000000002,\n",
       " 427.3624,\n",
       " 53.08288,\n",
       " 28.187864,\n",
       " 427.8451999999999,\n",
       " 13.870032,\n",
       " 223.61729999999997,\n",
       " 237.4346,\n",
       " 7.157004000000002,\n",
       " 11.571944,\n",
       " 512.6098,\n",
       " 7.603342,\n",
       " 75.91276400000001,\n",
       " 250.51659999999998,\n",
       " 12.152004,\n",
       " 6.829562,\n",
       " 494.83180000000004,\n",
       " 20.014999999999997,\n",
       " 250.12903999999997,\n",
       " 415.95559999999995,\n",
       " 301.07258,\n",
       " 4.939846,\n",
       " 420.4148,\n",
       " 249.157,\n",
       " 111.77112,\n",
       " 500.08900000000006,\n",
       " 247.51219999999998,\n",
       " 407.3226000000001,\n",
       " 172.1273,\n",
       " 267.6363,\n",
       " 30.753889999999995,\n",
       " 168.27197999999999,\n",
       " 3.465478,\n",
       " 376.88700000000006,\n",
       " 337.99920000000003,\n",
       " 7.252832000000001,\n",
       " 360.9982,\n",
       " 8.68973,\n",
       " 371.4032000000001,\n",
       " 439.33420000000007,\n",
       " 221.76760000000004,\n",
       " 512.644,\n",
       " 545.3664,\n",
       " 12.952588,\n",
       " 317.37046,\n",
       " 14.378402,\n",
       " 211.30022,\n",
       " 168.88252,\n",
       " 283.6366,\n",
       " 317.436,\n",
       " 185.01319999999998,\n",
       " 356.3342,\n",
       " 386.9062,\n",
       " 4.492807999999999,\n",
       " 321.2232,\n",
       " 302.3982,\n",
       " 4.0643720000000005,\n",
       " 293.55292,\n",
       " 23.4731,\n",
       " 5.644565999999999,\n",
       " 115.697508,\n",
       " 314.84432000000004,\n",
       " 16.298827999999997,\n",
       " 332.9454,\n",
       " 3.431572,\n",
       " 425.979,\n",
       " 337.3852,\n",
       " 350.7398,\n",
       " 464.11620000000005,\n",
       " 469.31979999999993,\n",
       " 13.019668000000001,\n",
       " 252.82039999999998,\n",
       " 313.0798,\n",
       " 16.126202,\n",
       " 367.58259999999996,\n",
       " 315.3772,\n",
       " 440.7276,\n",
       " 9.66645,\n",
       " 442.5312,\n",
       " 434.4046,\n",
       " 110.16443999999998,\n",
       " 7.43929,\n",
       " 442.8912,\n",
       " 113.65229199999999,\n",
       " 56.845242,\n",
       " 375.60483999999997,\n",
       " 24.791562000000003,\n",
       " 5.519744,\n",
       " 98.59724,\n",
       " 72.239996,\n",
       " 395.08220000000006,\n",
       " 96.58391,\n",
       " 454.3956,\n",
       " 397.25980000000004,\n",
       " 321.72644,\n",
       " 55.68335999999999,\n",
       " 11.543994,\n",
       " 430.2276,\n",
       " 29.994402,\n",
       " 418.15780000000007,\n",
       " 8.097252000000001,\n",
       " 492.89799999999997,\n",
       " 11.725394,\n",
       " 77.23457199999999,\n",
       " 323.73179999999996,\n",
       " 464.317,\n",
       " 15.046420000000001,\n",
       " 37.016576,\n",
       " 30.713302,\n",
       " 15.691539999999998,\n",
       " 30.994002000000002,\n",
       " 5.213184,\n",
       " 311.19620000000003,\n",
       " 5.59073,\n",
       " 6.562878,\n",
       " 17.856175999999998,\n",
       " 439.8256,\n",
       " 268.06076,\n",
       " 63.32097000000001,\n",
       " 289.41960000000006,\n",
       " 1.7479959999999999,\n",
       " 235.8174,\n",
       " 195.27845000000002,\n",
       " 514.9692,\n",
       " 453.4974,\n",
       " 416.9598]"
      ]
     },
     "execution_count": 53,
     "metadata": {},
     "output_type": "execute_result"
    }
   ],
   "source": [
    "real_output"
   ]
  },
  {
   "cell_type": "code",
   "execution_count": 54,
   "metadata": {},
   "outputs": [],
   "source": [
    "from sklearn.metrics import mean_squared_error\n",
    "mse = mean_squared_error(np.array(y_test), np.array(real_output))"
   ]
  },
  {
   "cell_type": "code",
   "execution_count": 55,
   "metadata": {},
   "outputs": [
    {
     "name": "stdout",
     "output_type": "stream",
     "text": [
      "MSE: 10315.181499031622\n",
      "MSE: 101.56368198835459\n"
     ]
    }
   ],
   "source": [
    "import math\n",
    "print (\"MSE: \"+str(mse))\n",
    "print (\"MSE: \"+str(math.sqrt(mse)))"
   ]
  },
  {
   "cell_type": "code",
   "execution_count": 56,
   "metadata": {},
   "outputs": [],
   "source": [
    "accuracy=[]\n",
    "for k in range(1,50):\n",
    "    knn = KNeighborsRegressor(n_neighbors=k)\n",
    "    knn.fit(x_train,y_train)\n",
    "    accuracy.append(knn.score(x_test,y_test))\n"
   ]
  },
  {
   "cell_type": "code",
   "execution_count": 57,
   "metadata": {},
   "outputs": [
    {
     "data": {
      "text/plain": [
       "[<matplotlib.lines.Line2D at 0x28205d89518>]"
      ]
     },
     "execution_count": 57,
     "metadata": {},
     "output_type": "execute_result"
    },
    {
     "data": {
      "image/png": "[encoded data removed]",
      "text/plain": [
       "<Figure size 432x288 with 1 Axes>"
      ]
     },
     "metadata": {},
     "output_type": "display_data"
    }
   ],
   "source": [
    "plt.plot(range(1,50),accuracy)"
   ]
  },
  {
   "cell_type": "code",
   "execution_count": 58,
   "metadata": {},
   "outputs": [
    {
     "data": {
      "text/plain": [
       "<matplotlib.legend.Legend at 0x28205d9a080>"
      ]
     },
     "execution_count": 58,
     "metadata": {},
     "output_type": "execute_result"
    },
    {
     "data": {
      "image/png": "[encoded data removed]",
      "text/plain": [
       "<Figure size 432x288 with 1 Axes>"
      ]
     },
     "metadata": {},
     "output_type": "display_data"
    }
   ],
   "source": [
    "training_accuracy=[]\n",
    "testing_accuracy=[]\n",
    "\n",
    "neighbors = list(range(1,50))\n",
    "\n",
    "\n",
    "for k in neighbors:\n",
    "    knn = KNeighborsRegressor(n_neighbors=k)\n",
    "    knn.fit(x_train,y_train)\n",
    "    training_accuracy.append(knn.score(x_train,y_train))\n",
    "    testing_accuracy.append(knn.score(x_test,y_test))    \n",
    "\n",
    "plt.plot(neighbors,training_accuracy,label='training accuracy')\n",
    "plt.plot(neighbors,testing_accuracy,label='testing accuracy')\n",
    "plt.ylabel(\"Accuracy\")\n",
    "plt.xlabel(\"K value\")\n",
    "plt.legend()"
   ]
  },
  {
   "cell_type": "code",
   "execution_count": 59,
   "metadata": {},
   "outputs": [
    {
     "name": "stdout",
     "output_type": "stream",
     "text": [
      "[0.53926205 0.63794373 0.63591033 0.6132531  0.70957694 0.65164386\n",
      " 0.68751551 0.68529809 0.59948161 0.57247632]\n",
      "0.6332361530807367\n",
      "Mean Accuracy 0.6332361530807367\n"
     ]
    }
   ],
   "source": [
    "#CROSS VAL SCORE\n",
    "from sklearn.model_selection import cross_val_score\n",
    "\n",
    "knn = KNeighborsRegressor(n_neighbors=5)\n",
    "\n",
    "scores = cross_val_score(knn,X,y,cv=10)\n",
    "\n",
    "print (scores)\n",
    "print (scores.mean())\n",
    "\n",
    "print (\"Mean Accuracy \"+str(scores.mean()))"
   ]
  },
  {
   "cell_type": "code",
   "execution_count": 61,
   "metadata": {},
   "outputs": [
    {
     "name": "stdout",
     "output_type": "stream",
     "text": [
      "[0.5890862800332627, 0.6368412357716976, 0.6251761466175294, 0.635131905707175, 0.6332361530807367, 0.6240289491085217, 0.6146147414997081, 0.5932227642880721, 0.5790634878801005, 0.5654580681628537, 0.5539408488627677, 0.5502078592164259, 0.5435095390772633, 0.5371952374012771, 0.5213913830423494, 0.5108500900341703, 0.5000941004449586, 0.48975940807935625, 0.4856129507215143, 0.4746927772419194, 0.46610143580782876, 0.45696397411776524, 0.4449989935124198, 0.436538713158126, 0.4240497048372494, 0.4139526525889913, 0.406609075788854, 0.40160785078752215, 0.39513067306474814, 0.3909585186926251, 0.3824885396086105, 0.3791323790945146, 0.37193650066123923, 0.36629309819768263, 0.36070701438600195, 0.35530915992143586, 0.3490393727230455, 0.34224798499785924, 0.33827620924195567, 0.3332144266850137, 0.327320875525738, 0.3215561550409562, 0.31595712644398144, 0.31063489186640314, 0.3055315803108783, 0.3050221750332077, 0.3051704674402034, 0.30375369421732595, 0.30326175496278523]\n"
     ]
    },
    {
     "data": {
      "text/plain": [
       "Text(0, 0.5, 'scores')"
      ]
     },
     "execution_count": 61,
     "metadata": {},
     "output_type": "execute_result"
    },
    {
     "data": {
      "image/png": "[encoded data removed]",
      "text/plain": [
       "<Figure size 432x288 with 1 Axes>"
      ]
     },
     "metadata": {},
     "output_type": "display_data"
    }
   ],
   "source": [
    "#now we find cross val score for different K value\n",
    "k_range = range(1,50)\n",
    "k_scores = []\n",
    "\n",
    "for k in k_range:\n",
    "    knn = KNeighborsRegressor(n_neighbors=k)\n",
    "    scores = cross_val_score(knn,X,y,cv=10)\n",
    "    k_scores.append(scores.mean())\n",
    "    \n",
    "print (k_scores)\n",
    "\n",
    "\n",
    "plt.plot(k_range,k_scores)\n",
    "plt.xlabel(\"k range\")\n",
    "plt.ylabel(\"scores\")"
   ]
  },
  {
   "cell_type": "code",
   "execution_count": 62,
   "metadata": {},
   "outputs": [],
   "source": [
    "#Decision Tree Regresson\n",
    "from sklearn.tree import DecisionTreeRegressor"
   ]
  },
  {
   "cell_type": "code",
   "execution_count": 63,
   "metadata": {},
   "outputs": [],
   "source": [
    "tree_clf = DecisionTreeRegressor(max_depth=2,random_state=42)"
   ]
  },
  {
   "cell_type": "code",
   "execution_count": 64,
   "metadata": {},
   "outputs": [
    {
     "data": {
      "text/plain": [
       "DecisionTreeRegressor(criterion='mse', max_depth=2, max_features=None,\n",
       "                      max_leaf_nodes=None, min_impurity_decrease=0.0,\n",
       "                      min_impurity_split=None, min_samples_leaf=1,\n",
       "                      min_samples_split=2, min_weight_fraction_leaf=0.0,\n",
       "                      presort=False, random_state=42, splitter='best')"
      ]
     },
     "execution_count": 64,
     "metadata": {},
     "output_type": "execute_result"
    }
   ],
   "source": [
    "tree_clf.fit(X,y)"
   ]
  },
  {
   "cell_type": "code",
   "execution_count": 65,
   "metadata": {},
   "outputs": [
    {
     "data": {
      "text/plain": [
       "0.7059955999135619"
      ]
     },
     "execution_count": 65,
     "metadata": {},
     "output_type": "execute_result"
    }
   ],
   "source": [
    "tree_clf.score(X,y)"
   ]
  },
  {
   "cell_type": "code",
   "execution_count": 66,
   "metadata": {},
   "outputs": [],
   "source": [
    "#For different Depth\n",
    "accuracy=[]\n",
    "for depth in range(1,50):\n",
    "    dt = DecisionTreeRegressor(max_depth=depth,random_state=42)\n",
    "    dt.fit(x_train,y_train)\n",
    "    accuracy.append(dt.score(x_test,y_test))"
   ]
  },
  {
   "cell_type": "code",
   "execution_count": 67,
   "metadata": {},
   "outputs": [
    {
     "data": {
      "text/plain": [
       "[<matplotlib.lines.Line2D at 0x2820afba940>]"
      ]
     },
     "execution_count": 67,
     "metadata": {},
     "output_type": "execute_result"
    },
    {
     "data": {
      "image/png": "[encoded data removed]",
      "text/plain": [
       "<Figure size 432x288 with 1 Axes>"
      ]
     },
     "metadata": {},
     "output_type": "display_data"
    }
   ],
   "source": [
    "plt.plot(range(1,50),accuracy)"
   ]
  },
  {
   "cell_type": "code",
   "execution_count": 68,
   "metadata": {},
   "outputs": [],
   "source": [
    "#RANDOM FOREST\n",
    "from sklearn.ensemble import RandomForestRegressor"
   ]
  },
  {
   "cell_type": "code",
   "execution_count": 69,
   "metadata": {},
   "outputs": [],
   "source": [
    "rnd = RandomForestRegressor(max_depth=10)"
   ]
  },
  {
   "cell_type": "code",
   "execution_count": 70,
   "metadata": {},
   "outputs": [
    {
     "name": "stderr",
     "output_type": "stream",
     "text": [
      "C:\\Users\\NaimHasan\\Anaconda3\\envs\\tensorflow_gpuenv\\lib\\site-packages\\sklearn\\ensemble\\forest.py:245: FutureWarning: The default value of n_estimators will change from 10 in version 0.20 to 100 in 0.22.\n",
      "  \"10 in version 0.20 to 100 in 0.22.\", FutureWarning)\n",
      "C:\\Users\\NaimHasan\\Anaconda3\\envs\\tensorflow_gpuenv\\lib\\site-packages\\ipykernel_launcher.py:1: DataConversionWarning: A column-vector y was passed when a 1d array was expected. Please change the shape of y to (n_samples,), for example using ravel().\n",
      "  \"\"\"Entry point for launching an IPython kernel.\n"
     ]
    },
    {
     "data": {
      "text/plain": [
       "RandomForestRegressor(bootstrap=True, criterion='mse', max_depth=10,\n",
       "                      max_features='auto', max_leaf_nodes=None,\n",
       "                      min_impurity_decrease=0.0, min_impurity_split=None,\n",
       "                      min_samples_leaf=1, min_samples_split=2,\n",
       "                      min_weight_fraction_leaf=0.0, n_estimators=10,\n",
       "                      n_jobs=None, oob_score=False, random_state=None,\n",
       "                      verbose=0, warm_start=False)"
      ]
     },
     "execution_count": 70,
     "metadata": {},
     "output_type": "execute_result"
    }
   ],
   "source": [
    "rnd.fit(x_train,y_train)\n"
   ]
  },
  {
   "cell_type": "code",
   "execution_count": 71,
   "metadata": {},
   "outputs": [
    {
     "data": {
      "text/plain": [
       "0.8458315328740375"
      ]
     },
     "execution_count": 71,
     "metadata": {},
     "output_type": "execute_result"
    }
   ],
   "source": [
    "rnd.score(x_test,y_test)"
   ]
  },
  {
   "cell_type": "code",
   "execution_count": 72,
   "metadata": {},
   "outputs": [
    {
     "name": "stderr",
     "output_type": "stream",
     "text": [
      "C:\\Users\\NaimHasan\\Anaconda3\\envs\\tensorflow_gpuenv\\lib\\site-packages\\sklearn\\ensemble\\forest.py:245: FutureWarning: The default value of n_estimators will change from 10 in version 0.20 to 100 in 0.22.\n",
      "  \"10 in version 0.20 to 100 in 0.22.\", FutureWarning)\n",
      "C:\\Users\\NaimHasan\\Anaconda3\\envs\\tensorflow_gpuenv\\lib\\site-packages\\ipykernel_launcher.py:4: DataConversionWarning: A column-vector y was passed when a 1d array was expected. Please change the shape of y to (n_samples,), for example using ravel().\n",
      "  after removing the cwd from sys.path.\n",
      "C:\\Users\\NaimHasan\\Anaconda3\\envs\\tensorflow_gpuenv\\lib\\site-packages\\sklearn\\ensemble\\forest.py:245: FutureWarning: The default value of n_estimators will change from 10 in version 0.20 to 100 in 0.22.\n",
      "  \"10 in version 0.20 to 100 in 0.22.\", FutureWarning)\n",
      "C:\\Users\\NaimHasan\\Anaconda3\\envs\\tensorflow_gpuenv\\lib\\site-packages\\ipykernel_launcher.py:4: DataConversionWarning: A column-vector y was passed when a 1d array was expected. Please change the shape of y to (n_samples,), for example using ravel().\n",
      "  after removing the cwd from sys.path.\n",
      "C:\\Users\\NaimHasan\\Anaconda3\\envs\\tensorflow_gpuenv\\lib\\site-packages\\sklearn\\ensemble\\forest.py:245: FutureWarning: The default value of n_estimators will change from 10 in version 0.20 to 100 in 0.22.\n",
      "  \"10 in version 0.20 to 100 in 0.22.\", FutureWarning)\n",
      "C:\\Users\\NaimHasan\\Anaconda3\\envs\\tensorflow_gpuenv\\lib\\site-packages\\ipykernel_launcher.py:4: DataConversionWarning: A column-vector y was passed when a 1d array was expected. Please change the shape of y to (n_samples,), for example using ravel().\n",
      "  after removing the cwd from sys.path.\n",
      "C:\\Users\\NaimHasan\\Anaconda3\\envs\\tensorflow_gpuenv\\lib\\site-packages\\sklearn\\ensemble\\forest.py:245: FutureWarning: The default value of n_estimators will change from 10 in version 0.20 to 100 in 0.22.\n",
      "  \"10 in version 0.20 to 100 in 0.22.\", FutureWarning)\n",
      "C:\\Users\\NaimHasan\\Anaconda3\\envs\\tensorflow_gpuenv\\lib\\site-packages\\ipykernel_launcher.py:4: DataConversionWarning: A column-vector y was passed when a 1d array was expected. Please change the shape of y to (n_samples,), for example using ravel().\n",
      "  after removing the cwd from sys.path.\n",
      "C:\\Users\\NaimHasan\\Anaconda3\\envs\\tensorflow_gpuenv\\lib\\site-packages\\sklearn\\ensemble\\forest.py:245: FutureWarning: The default value of n_estimators will change from 10 in version 0.20 to 100 in 0.22.\n",
      "  \"10 in version 0.20 to 100 in 0.22.\", FutureWarning)\n",
      "C:\\Users\\NaimHasan\\Anaconda3\\envs\\tensorflow_gpuenv\\lib\\site-packages\\ipykernel_launcher.py:4: DataConversionWarning: A column-vector y was passed when a 1d array was expected. Please change the shape of y to (n_samples,), for example using ravel().\n",
      "  after removing the cwd from sys.path.\n",
      "C:\\Users\\NaimHasan\\Anaconda3\\envs\\tensorflow_gpuenv\\lib\\site-packages\\sklearn\\ensemble\\forest.py:245: FutureWarning: The default value of n_estimators will change from 10 in version 0.20 to 100 in 0.22.\n",
      "  \"10 in version 0.20 to 100 in 0.22.\", FutureWarning)\n",
      "C:\\Users\\NaimHasan\\Anaconda3\\envs\\tensorflow_gpuenv\\lib\\site-packages\\ipykernel_launcher.py:4: DataConversionWarning: A column-vector y was passed when a 1d array was expected. Please change the shape of y to (n_samples,), for example using ravel().\n",
      "  after removing the cwd from sys.path.\n",
      "C:\\Users\\NaimHasan\\Anaconda3\\envs\\tensorflow_gpuenv\\lib\\site-packages\\sklearn\\ensemble\\forest.py:245: FutureWarning: The default value of n_estimators will change from 10 in version 0.20 to 100 in 0.22.\n",
      "  \"10 in version 0.20 to 100 in 0.22.\", FutureWarning)\n",
      "C:\\Users\\NaimHasan\\Anaconda3\\envs\\tensorflow_gpuenv\\lib\\site-packages\\ipykernel_launcher.py:4: DataConversionWarning: A column-vector y was passed when a 1d array was expected. Please change the shape of y to (n_samples,), for example using ravel().\n",
      "  after removing the cwd from sys.path.\n",
      "C:\\Users\\NaimHasan\\Anaconda3\\envs\\tensorflow_gpuenv\\lib\\site-packages\\sklearn\\ensemble\\forest.py:245: FutureWarning: The default value of n_estimators will change from 10 in version 0.20 to 100 in 0.22.\n",
      "  \"10 in version 0.20 to 100 in 0.22.\", FutureWarning)\n",
      "C:\\Users\\NaimHasan\\Anaconda3\\envs\\tensorflow_gpuenv\\lib\\site-packages\\ipykernel_launcher.py:4: DataConversionWarning: A column-vector y was passed when a 1d array was expected. Please change the shape of y to (n_samples,), for example using ravel().\n",
      "  after removing the cwd from sys.path.\n",
      "C:\\Users\\NaimHasan\\Anaconda3\\envs\\tensorflow_gpuenv\\lib\\site-packages\\sklearn\\ensemble\\forest.py:245: FutureWarning: The default value of n_estimators will change from 10 in version 0.20 to 100 in 0.22.\n",
      "  \"10 in version 0.20 to 100 in 0.22.\", FutureWarning)\n",
      "C:\\Users\\NaimHasan\\Anaconda3\\envs\\tensorflow_gpuenv\\lib\\site-packages\\ipykernel_launcher.py:4: DataConversionWarning: A column-vector y was passed when a 1d array was expected. Please change the shape of y to (n_samples,), for example using ravel().\n",
      "  after removing the cwd from sys.path.\n",
      "C:\\Users\\NaimHasan\\Anaconda3\\envs\\tensorflow_gpuenv\\lib\\site-packages\\sklearn\\ensemble\\forest.py:245: FutureWarning: The default value of n_estimators will change from 10 in version 0.20 to 100 in 0.22.\n",
      "  \"10 in version 0.20 to 100 in 0.22.\", FutureWarning)\n",
      "C:\\Users\\NaimHasan\\Anaconda3\\envs\\tensorflow_gpuenv\\lib\\site-packages\\ipykernel_launcher.py:4: DataConversionWarning: A column-vector y was passed when a 1d array was expected. Please change the shape of y to (n_samples,), for example using ravel().\n",
      "  after removing the cwd from sys.path.\n",
      "C:\\Users\\NaimHasan\\Anaconda3\\envs\\tensorflow_gpuenv\\lib\\site-packages\\sklearn\\ensemble\\forest.py:245: FutureWarning: The default value of n_estimators will change from 10 in version 0.20 to 100 in 0.22.\n",
      "  \"10 in version 0.20 to 100 in 0.22.\", FutureWarning)\n",
      "C:\\Users\\NaimHasan\\Anaconda3\\envs\\tensorflow_gpuenv\\lib\\site-packages\\ipykernel_launcher.py:4: DataConversionWarning: A column-vector y was passed when a 1d array was expected. Please change the shape of y to (n_samples,), for example using ravel().\n",
      "  after removing the cwd from sys.path.\n",
      "C:\\Users\\NaimHasan\\Anaconda3\\envs\\tensorflow_gpuenv\\lib\\site-packages\\sklearn\\ensemble\\forest.py:245: FutureWarning: The default value of n_estimators will change from 10 in version 0.20 to 100 in 0.22.\n",
      "  \"10 in version 0.20 to 100 in 0.22.\", FutureWarning)\n",
      "C:\\Users\\NaimHasan\\Anaconda3\\envs\\tensorflow_gpuenv\\lib\\site-packages\\ipykernel_launcher.py:4: DataConversionWarning: A column-vector y was passed when a 1d array was expected. Please change the shape of y to (n_samples,), for example using ravel().\n",
      "  after removing the cwd from sys.path.\n",
      "C:\\Users\\NaimHasan\\Anaconda3\\envs\\tensorflow_gpuenv\\lib\\site-packages\\sklearn\\ensemble\\forest.py:245: FutureWarning: The default value of n_estimators will change from 10 in version 0.20 to 100 in 0.22.\n",
      "  \"10 in version 0.20 to 100 in 0.22.\", FutureWarning)\n",
      "C:\\Users\\NaimHasan\\Anaconda3\\envs\\tensorflow_gpuenv\\lib\\site-packages\\ipykernel_launcher.py:4: DataConversionWarning: A column-vector y was passed when a 1d array was expected. Please change the shape of y to (n_samples,), for example using ravel().\n",
      "  after removing the cwd from sys.path.\n",
      "C:\\Users\\NaimHasan\\Anaconda3\\envs\\tensorflow_gpuenv\\lib\\site-packages\\sklearn\\ensemble\\forest.py:245: FutureWarning: The default value of n_estimators will change from 10 in version 0.20 to 100 in 0.22.\n",
      "  \"10 in version 0.20 to 100 in 0.22.\", FutureWarning)\n",
      "C:\\Users\\NaimHasan\\Anaconda3\\envs\\tensorflow_gpuenv\\lib\\site-packages\\ipykernel_launcher.py:4: DataConversionWarning: A column-vector y was passed when a 1d array was expected. Please change the shape of y to (n_samples,), for example using ravel().\n",
      "  after removing the cwd from sys.path.\n",
      "C:\\Users\\NaimHasan\\Anaconda3\\envs\\tensorflow_gpuenv\\lib\\site-packages\\sklearn\\ensemble\\forest.py:245: FutureWarning: The default value of n_estimators will change from 10 in version 0.20 to 100 in 0.22.\n",
      "  \"10 in version 0.20 to 100 in 0.22.\", FutureWarning)\n",
      "C:\\Users\\NaimHasan\\Anaconda3\\envs\\tensorflow_gpuenv\\lib\\site-packages\\ipykernel_launcher.py:4: DataConversionWarning: A column-vector y was passed when a 1d array was expected. Please change the shape of y to (n_samples,), for example using ravel().\n",
      "  after removing the cwd from sys.path.\n",
      "C:\\Users\\NaimHasan\\Anaconda3\\envs\\tensorflow_gpuenv\\lib\\site-packages\\sklearn\\ensemble\\forest.py:245: FutureWarning: The default value of n_estimators will change from 10 in version 0.20 to 100 in 0.22.\n",
      "  \"10 in version 0.20 to 100 in 0.22.\", FutureWarning)\n",
      "C:\\Users\\NaimHasan\\Anaconda3\\envs\\tensorflow_gpuenv\\lib\\site-packages\\ipykernel_launcher.py:4: DataConversionWarning: A column-vector y was passed when a 1d array was expected. Please change the shape of y to (n_samples,), for example using ravel().\n",
      "  after removing the cwd from sys.path.\n",
      "C:\\Users\\NaimHasan\\Anaconda3\\envs\\tensorflow_gpuenv\\lib\\site-packages\\sklearn\\ensemble\\forest.py:245: FutureWarning: The default value of n_estimators will change from 10 in version 0.20 to 100 in 0.22.\n",
      "  \"10 in version 0.20 to 100 in 0.22.\", FutureWarning)\n"
     ]
    },
    {
     "name": "stderr",
     "output_type": "stream",
     "text": [
      "C:\\Users\\NaimHasan\\Anaconda3\\envs\\tensorflow_gpuenv\\lib\\site-packages\\ipykernel_launcher.py:4: DataConversionWarning: A column-vector y was passed when a 1d array was expected. Please change the shape of y to (n_samples,), for example using ravel().\n",
      "  after removing the cwd from sys.path.\n",
      "C:\\Users\\NaimHasan\\Anaconda3\\envs\\tensorflow_gpuenv\\lib\\site-packages\\sklearn\\ensemble\\forest.py:245: FutureWarning: The default value of n_estimators will change from 10 in version 0.20 to 100 in 0.22.\n",
      "  \"10 in version 0.20 to 100 in 0.22.\", FutureWarning)\n",
      "C:\\Users\\NaimHasan\\Anaconda3\\envs\\tensorflow_gpuenv\\lib\\site-packages\\ipykernel_launcher.py:4: DataConversionWarning: A column-vector y was passed when a 1d array was expected. Please change the shape of y to (n_samples,), for example using ravel().\n",
      "  after removing the cwd from sys.path.\n",
      "C:\\Users\\NaimHasan\\Anaconda3\\envs\\tensorflow_gpuenv\\lib\\site-packages\\sklearn\\ensemble\\forest.py:245: FutureWarning: The default value of n_estimators will change from 10 in version 0.20 to 100 in 0.22.\n",
      "  \"10 in version 0.20 to 100 in 0.22.\", FutureWarning)\n",
      "C:\\Users\\NaimHasan\\Anaconda3\\envs\\tensorflow_gpuenv\\lib\\site-packages\\ipykernel_launcher.py:4: DataConversionWarning: A column-vector y was passed when a 1d array was expected. Please change the shape of y to (n_samples,), for example using ravel().\n",
      "  after removing the cwd from sys.path.\n",
      "C:\\Users\\NaimHasan\\Anaconda3\\envs\\tensorflow_gpuenv\\lib\\site-packages\\sklearn\\ensemble\\forest.py:245: FutureWarning: The default value of n_estimators will change from 10 in version 0.20 to 100 in 0.22.\n",
      "  \"10 in version 0.20 to 100 in 0.22.\", FutureWarning)\n",
      "C:\\Users\\NaimHasan\\Anaconda3\\envs\\tensorflow_gpuenv\\lib\\site-packages\\ipykernel_launcher.py:4: DataConversionWarning: A column-vector y was passed when a 1d array was expected. Please change the shape of y to (n_samples,), for example using ravel().\n",
      "  after removing the cwd from sys.path.\n",
      "C:\\Users\\NaimHasan\\Anaconda3\\envs\\tensorflow_gpuenv\\lib\\site-packages\\sklearn\\ensemble\\forest.py:245: FutureWarning: The default value of n_estimators will change from 10 in version 0.20 to 100 in 0.22.\n",
      "  \"10 in version 0.20 to 100 in 0.22.\", FutureWarning)\n",
      "C:\\Users\\NaimHasan\\Anaconda3\\envs\\tensorflow_gpuenv\\lib\\site-packages\\ipykernel_launcher.py:4: DataConversionWarning: A column-vector y was passed when a 1d array was expected. Please change the shape of y to (n_samples,), for example using ravel().\n",
      "  after removing the cwd from sys.path.\n",
      "C:\\Users\\NaimHasan\\Anaconda3\\envs\\tensorflow_gpuenv\\lib\\site-packages\\sklearn\\ensemble\\forest.py:245: FutureWarning: The default value of n_estimators will change from 10 in version 0.20 to 100 in 0.22.\n",
      "  \"10 in version 0.20 to 100 in 0.22.\", FutureWarning)\n",
      "C:\\Users\\NaimHasan\\Anaconda3\\envs\\tensorflow_gpuenv\\lib\\site-packages\\ipykernel_launcher.py:4: DataConversionWarning: A column-vector y was passed when a 1d array was expected. Please change the shape of y to (n_samples,), for example using ravel().\n",
      "  after removing the cwd from sys.path.\n",
      "C:\\Users\\NaimHasan\\Anaconda3\\envs\\tensorflow_gpuenv\\lib\\site-packages\\sklearn\\ensemble\\forest.py:245: FutureWarning: The default value of n_estimators will change from 10 in version 0.20 to 100 in 0.22.\n",
      "  \"10 in version 0.20 to 100 in 0.22.\", FutureWarning)\n",
      "C:\\Users\\NaimHasan\\Anaconda3\\envs\\tensorflow_gpuenv\\lib\\site-packages\\ipykernel_launcher.py:4: DataConversionWarning: A column-vector y was passed when a 1d array was expected. Please change the shape of y to (n_samples,), for example using ravel().\n",
      "  after removing the cwd from sys.path.\n",
      "C:\\Users\\NaimHasan\\Anaconda3\\envs\\tensorflow_gpuenv\\lib\\site-packages\\sklearn\\ensemble\\forest.py:245: FutureWarning: The default value of n_estimators will change from 10 in version 0.20 to 100 in 0.22.\n",
      "  \"10 in version 0.20 to 100 in 0.22.\", FutureWarning)\n",
      "C:\\Users\\NaimHasan\\Anaconda3\\envs\\tensorflow_gpuenv\\lib\\site-packages\\ipykernel_launcher.py:4: DataConversionWarning: A column-vector y was passed when a 1d array was expected. Please change the shape of y to (n_samples,), for example using ravel().\n",
      "  after removing the cwd from sys.path.\n",
      "C:\\Users\\NaimHasan\\Anaconda3\\envs\\tensorflow_gpuenv\\lib\\site-packages\\sklearn\\ensemble\\forest.py:245: FutureWarning: The default value of n_estimators will change from 10 in version 0.20 to 100 in 0.22.\n",
      "  \"10 in version 0.20 to 100 in 0.22.\", FutureWarning)\n",
      "C:\\Users\\NaimHasan\\Anaconda3\\envs\\tensorflow_gpuenv\\lib\\site-packages\\ipykernel_launcher.py:4: DataConversionWarning: A column-vector y was passed when a 1d array was expected. Please change the shape of y to (n_samples,), for example using ravel().\n",
      "  after removing the cwd from sys.path.\n",
      "C:\\Users\\NaimHasan\\Anaconda3\\envs\\tensorflow_gpuenv\\lib\\site-packages\\sklearn\\ensemble\\forest.py:245: FutureWarning: The default value of n_estimators will change from 10 in version 0.20 to 100 in 0.22.\n",
      "  \"10 in version 0.20 to 100 in 0.22.\", FutureWarning)\n",
      "C:\\Users\\NaimHasan\\Anaconda3\\envs\\tensorflow_gpuenv\\lib\\site-packages\\ipykernel_launcher.py:4: DataConversionWarning: A column-vector y was passed when a 1d array was expected. Please change the shape of y to (n_samples,), for example using ravel().\n",
      "  after removing the cwd from sys.path.\n",
      "C:\\Users\\NaimHasan\\Anaconda3\\envs\\tensorflow_gpuenv\\lib\\site-packages\\sklearn\\ensemble\\forest.py:245: FutureWarning: The default value of n_estimators will change from 10 in version 0.20 to 100 in 0.22.\n",
      "  \"10 in version 0.20 to 100 in 0.22.\", FutureWarning)\n",
      "C:\\Users\\NaimHasan\\Anaconda3\\envs\\tensorflow_gpuenv\\lib\\site-packages\\ipykernel_launcher.py:4: DataConversionWarning: A column-vector y was passed when a 1d array was expected. Please change the shape of y to (n_samples,), for example using ravel().\n",
      "  after removing the cwd from sys.path.\n",
      "C:\\Users\\NaimHasan\\Anaconda3\\envs\\tensorflow_gpuenv\\lib\\site-packages\\sklearn\\ensemble\\forest.py:245: FutureWarning: The default value of n_estimators will change from 10 in version 0.20 to 100 in 0.22.\n",
      "  \"10 in version 0.20 to 100 in 0.22.\", FutureWarning)\n",
      "C:\\Users\\NaimHasan\\Anaconda3\\envs\\tensorflow_gpuenv\\lib\\site-packages\\ipykernel_launcher.py:4: DataConversionWarning: A column-vector y was passed when a 1d array was expected. Please change the shape of y to (n_samples,), for example using ravel().\n",
      "  after removing the cwd from sys.path.\n",
      "C:\\Users\\NaimHasan\\Anaconda3\\envs\\tensorflow_gpuenv\\lib\\site-packages\\sklearn\\ensemble\\forest.py:245: FutureWarning: The default value of n_estimators will change from 10 in version 0.20 to 100 in 0.22.\n",
      "  \"10 in version 0.20 to 100 in 0.22.\", FutureWarning)\n",
      "C:\\Users\\NaimHasan\\Anaconda3\\envs\\tensorflow_gpuenv\\lib\\site-packages\\ipykernel_launcher.py:4: DataConversionWarning: A column-vector y was passed when a 1d array was expected. Please change the shape of y to (n_samples,), for example using ravel().\n",
      "  after removing the cwd from sys.path.\n",
      "C:\\Users\\NaimHasan\\Anaconda3\\envs\\tensorflow_gpuenv\\lib\\site-packages\\sklearn\\ensemble\\forest.py:245: FutureWarning: The default value of n_estimators will change from 10 in version 0.20 to 100 in 0.22.\n",
      "  \"10 in version 0.20 to 100 in 0.22.\", FutureWarning)\n",
      "C:\\Users\\NaimHasan\\Anaconda3\\envs\\tensorflow_gpuenv\\lib\\site-packages\\ipykernel_launcher.py:4: DataConversionWarning: A column-vector y was passed when a 1d array was expected. Please change the shape of y to (n_samples,), for example using ravel().\n",
      "  after removing the cwd from sys.path.\n",
      "C:\\Users\\NaimHasan\\Anaconda3\\envs\\tensorflow_gpuenv\\lib\\site-packages\\sklearn\\ensemble\\forest.py:245: FutureWarning: The default value of n_estimators will change from 10 in version 0.20 to 100 in 0.22.\n",
      "  \"10 in version 0.20 to 100 in 0.22.\", FutureWarning)\n",
      "C:\\Users\\NaimHasan\\Anaconda3\\envs\\tensorflow_gpuenv\\lib\\site-packages\\ipykernel_launcher.py:4: DataConversionWarning: A column-vector y was passed when a 1d array was expected. Please change the shape of y to (n_samples,), for example using ravel().\n",
      "  after removing the cwd from sys.path.\n",
      "C:\\Users\\NaimHasan\\Anaconda3\\envs\\tensorflow_gpuenv\\lib\\site-packages\\sklearn\\ensemble\\forest.py:245: FutureWarning: The default value of n_estimators will change from 10 in version 0.20 to 100 in 0.22.\n",
      "  \"10 in version 0.20 to 100 in 0.22.\", FutureWarning)\n",
      "C:\\Users\\NaimHasan\\Anaconda3\\envs\\tensorflow_gpuenv\\lib\\site-packages\\ipykernel_launcher.py:4: DataConversionWarning: A column-vector y was passed when a 1d array was expected. Please change the shape of y to (n_samples,), for example using ravel().\n",
      "  after removing the cwd from sys.path.\n",
      "C:\\Users\\NaimHasan\\Anaconda3\\envs\\tensorflow_gpuenv\\lib\\site-packages\\sklearn\\ensemble\\forest.py:245: FutureWarning: The default value of n_estimators will change from 10 in version 0.20 to 100 in 0.22.\n",
      "  \"10 in version 0.20 to 100 in 0.22.\", FutureWarning)\n",
      "C:\\Users\\NaimHasan\\Anaconda3\\envs\\tensorflow_gpuenv\\lib\\site-packages\\ipykernel_launcher.py:4: DataConversionWarning: A column-vector y was passed when a 1d array was expected. Please change the shape of y to (n_samples,), for example using ravel().\n",
      "  after removing the cwd from sys.path.\n",
      "C:\\Users\\NaimHasan\\Anaconda3\\envs\\tensorflow_gpuenv\\lib\\site-packages\\sklearn\\ensemble\\forest.py:245: FutureWarning: The default value of n_estimators will change from 10 in version 0.20 to 100 in 0.22.\n",
      "  \"10 in version 0.20 to 100 in 0.22.\", FutureWarning)\n",
      "C:\\Users\\NaimHasan\\Anaconda3\\envs\\tensorflow_gpuenv\\lib\\site-packages\\ipykernel_launcher.py:4: DataConversionWarning: A column-vector y was passed when a 1d array was expected. Please change the shape of y to (n_samples,), for example using ravel().\n",
      "  after removing the cwd from sys.path.\n"
     ]
    },
    {
     "name": "stderr",
     "output_type": "stream",
     "text": [
      "C:\\Users\\NaimHasan\\Anaconda3\\envs\\tensorflow_gpuenv\\lib\\site-packages\\sklearn\\ensemble\\forest.py:245: FutureWarning: The default value of n_estimators will change from 10 in version 0.20 to 100 in 0.22.\n",
      "  \"10 in version 0.20 to 100 in 0.22.\", FutureWarning)\n",
      "C:\\Users\\NaimHasan\\Anaconda3\\envs\\tensorflow_gpuenv\\lib\\site-packages\\ipykernel_launcher.py:4: DataConversionWarning: A column-vector y was passed when a 1d array was expected. Please change the shape of y to (n_samples,), for example using ravel().\n",
      "  after removing the cwd from sys.path.\n",
      "C:\\Users\\NaimHasan\\Anaconda3\\envs\\tensorflow_gpuenv\\lib\\site-packages\\sklearn\\ensemble\\forest.py:245: FutureWarning: The default value of n_estimators will change from 10 in version 0.20 to 100 in 0.22.\n",
      "  \"10 in version 0.20 to 100 in 0.22.\", FutureWarning)\n",
      "C:\\Users\\NaimHasan\\Anaconda3\\envs\\tensorflow_gpuenv\\lib\\site-packages\\ipykernel_launcher.py:4: DataConversionWarning: A column-vector y was passed when a 1d array was expected. Please change the shape of y to (n_samples,), for example using ravel().\n",
      "  after removing the cwd from sys.path.\n",
      "C:\\Users\\NaimHasan\\Anaconda3\\envs\\tensorflow_gpuenv\\lib\\site-packages\\sklearn\\ensemble\\forest.py:245: FutureWarning: The default value of n_estimators will change from 10 in version 0.20 to 100 in 0.22.\n",
      "  \"10 in version 0.20 to 100 in 0.22.\", FutureWarning)\n",
      "C:\\Users\\NaimHasan\\Anaconda3\\envs\\tensorflow_gpuenv\\lib\\site-packages\\ipykernel_launcher.py:4: DataConversionWarning: A column-vector y was passed when a 1d array was expected. Please change the shape of y to (n_samples,), for example using ravel().\n",
      "  after removing the cwd from sys.path.\n",
      "C:\\Users\\NaimHasan\\Anaconda3\\envs\\tensorflow_gpuenv\\lib\\site-packages\\sklearn\\ensemble\\forest.py:245: FutureWarning: The default value of n_estimators will change from 10 in version 0.20 to 100 in 0.22.\n",
      "  \"10 in version 0.20 to 100 in 0.22.\", FutureWarning)\n",
      "C:\\Users\\NaimHasan\\Anaconda3\\envs\\tensorflow_gpuenv\\lib\\site-packages\\ipykernel_launcher.py:4: DataConversionWarning: A column-vector y was passed when a 1d array was expected. Please change the shape of y to (n_samples,), for example using ravel().\n",
      "  after removing the cwd from sys.path.\n",
      "C:\\Users\\NaimHasan\\Anaconda3\\envs\\tensorflow_gpuenv\\lib\\site-packages\\sklearn\\ensemble\\forest.py:245: FutureWarning: The default value of n_estimators will change from 10 in version 0.20 to 100 in 0.22.\n",
      "  \"10 in version 0.20 to 100 in 0.22.\", FutureWarning)\n",
      "C:\\Users\\NaimHasan\\Anaconda3\\envs\\tensorflow_gpuenv\\lib\\site-packages\\ipykernel_launcher.py:4: DataConversionWarning: A column-vector y was passed when a 1d array was expected. Please change the shape of y to (n_samples,), for example using ravel().\n",
      "  after removing the cwd from sys.path.\n",
      "C:\\Users\\NaimHasan\\Anaconda3\\envs\\tensorflow_gpuenv\\lib\\site-packages\\sklearn\\ensemble\\forest.py:245: FutureWarning: The default value of n_estimators will change from 10 in version 0.20 to 100 in 0.22.\n",
      "  \"10 in version 0.20 to 100 in 0.22.\", FutureWarning)\n",
      "C:\\Users\\NaimHasan\\Anaconda3\\envs\\tensorflow_gpuenv\\lib\\site-packages\\ipykernel_launcher.py:4: DataConversionWarning: A column-vector y was passed when a 1d array was expected. Please change the shape of y to (n_samples,), for example using ravel().\n",
      "  after removing the cwd from sys.path.\n",
      "C:\\Users\\NaimHasan\\Anaconda3\\envs\\tensorflow_gpuenv\\lib\\site-packages\\sklearn\\ensemble\\forest.py:245: FutureWarning: The default value of n_estimators will change from 10 in version 0.20 to 100 in 0.22.\n",
      "  \"10 in version 0.20 to 100 in 0.22.\", FutureWarning)\n",
      "C:\\Users\\NaimHasan\\Anaconda3\\envs\\tensorflow_gpuenv\\lib\\site-packages\\ipykernel_launcher.py:4: DataConversionWarning: A column-vector y was passed when a 1d array was expected. Please change the shape of y to (n_samples,), for example using ravel().\n",
      "  after removing the cwd from sys.path.\n",
      "C:\\Users\\NaimHasan\\Anaconda3\\envs\\tensorflow_gpuenv\\lib\\site-packages\\sklearn\\ensemble\\forest.py:245: FutureWarning: The default value of n_estimators will change from 10 in version 0.20 to 100 in 0.22.\n",
      "  \"10 in version 0.20 to 100 in 0.22.\", FutureWarning)\n",
      "C:\\Users\\NaimHasan\\Anaconda3\\envs\\tensorflow_gpuenv\\lib\\site-packages\\ipykernel_launcher.py:4: DataConversionWarning: A column-vector y was passed when a 1d array was expected. Please change the shape of y to (n_samples,), for example using ravel().\n",
      "  after removing the cwd from sys.path.\n",
      "C:\\Users\\NaimHasan\\Anaconda3\\envs\\tensorflow_gpuenv\\lib\\site-packages\\sklearn\\ensemble\\forest.py:245: FutureWarning: The default value of n_estimators will change from 10 in version 0.20 to 100 in 0.22.\n",
      "  \"10 in version 0.20 to 100 in 0.22.\", FutureWarning)\n",
      "C:\\Users\\NaimHasan\\Anaconda3\\envs\\tensorflow_gpuenv\\lib\\site-packages\\ipykernel_launcher.py:4: DataConversionWarning: A column-vector y was passed when a 1d array was expected. Please change the shape of y to (n_samples,), for example using ravel().\n",
      "  after removing the cwd from sys.path.\n",
      "C:\\Users\\NaimHasan\\Anaconda3\\envs\\tensorflow_gpuenv\\lib\\site-packages\\sklearn\\ensemble\\forest.py:245: FutureWarning: The default value of n_estimators will change from 10 in version 0.20 to 100 in 0.22.\n",
      "  \"10 in version 0.20 to 100 in 0.22.\", FutureWarning)\n",
      "C:\\Users\\NaimHasan\\Anaconda3\\envs\\tensorflow_gpuenv\\lib\\site-packages\\ipykernel_launcher.py:4: DataConversionWarning: A column-vector y was passed when a 1d array was expected. Please change the shape of y to (n_samples,), for example using ravel().\n",
      "  after removing the cwd from sys.path.\n",
      "C:\\Users\\NaimHasan\\Anaconda3\\envs\\tensorflow_gpuenv\\lib\\site-packages\\sklearn\\ensemble\\forest.py:245: FutureWarning: The default value of n_estimators will change from 10 in version 0.20 to 100 in 0.22.\n",
      "  \"10 in version 0.20 to 100 in 0.22.\", FutureWarning)\n",
      "C:\\Users\\NaimHasan\\Anaconda3\\envs\\tensorflow_gpuenv\\lib\\site-packages\\ipykernel_launcher.py:4: DataConversionWarning: A column-vector y was passed when a 1d array was expected. Please change the shape of y to (n_samples,), for example using ravel().\n",
      "  after removing the cwd from sys.path.\n",
      "C:\\Users\\NaimHasan\\Anaconda3\\envs\\tensorflow_gpuenv\\lib\\site-packages\\sklearn\\ensemble\\forest.py:245: FutureWarning: The default value of n_estimators will change from 10 in version 0.20 to 100 in 0.22.\n",
      "  \"10 in version 0.20 to 100 in 0.22.\", FutureWarning)\n",
      "C:\\Users\\NaimHasan\\Anaconda3\\envs\\tensorflow_gpuenv\\lib\\site-packages\\ipykernel_launcher.py:4: DataConversionWarning: A column-vector y was passed when a 1d array was expected. Please change the shape of y to (n_samples,), for example using ravel().\n",
      "  after removing the cwd from sys.path.\n",
      "C:\\Users\\NaimHasan\\Anaconda3\\envs\\tensorflow_gpuenv\\lib\\site-packages\\sklearn\\ensemble\\forest.py:245: FutureWarning: The default value of n_estimators will change from 10 in version 0.20 to 100 in 0.22.\n",
      "  \"10 in version 0.20 to 100 in 0.22.\", FutureWarning)\n",
      "C:\\Users\\NaimHasan\\Anaconda3\\envs\\tensorflow_gpuenv\\lib\\site-packages\\ipykernel_launcher.py:4: DataConversionWarning: A column-vector y was passed when a 1d array was expected. Please change the shape of y to (n_samples,), for example using ravel().\n",
      "  after removing the cwd from sys.path.\n",
      "C:\\Users\\NaimHasan\\Anaconda3\\envs\\tensorflow_gpuenv\\lib\\site-packages\\sklearn\\ensemble\\forest.py:245: FutureWarning: The default value of n_estimators will change from 10 in version 0.20 to 100 in 0.22.\n",
      "  \"10 in version 0.20 to 100 in 0.22.\", FutureWarning)\n",
      "C:\\Users\\NaimHasan\\Anaconda3\\envs\\tensorflow_gpuenv\\lib\\site-packages\\ipykernel_launcher.py:4: DataConversionWarning: A column-vector y was passed when a 1d array was expected. Please change the shape of y to (n_samples,), for example using ravel().\n",
      "  after removing the cwd from sys.path.\n",
      "C:\\Users\\NaimHasan\\Anaconda3\\envs\\tensorflow_gpuenv\\lib\\site-packages\\sklearn\\ensemble\\forest.py:245: FutureWarning: The default value of n_estimators will change from 10 in version 0.20 to 100 in 0.22.\n",
      "  \"10 in version 0.20 to 100 in 0.22.\", FutureWarning)\n",
      "C:\\Users\\NaimHasan\\Anaconda3\\envs\\tensorflow_gpuenv\\lib\\site-packages\\ipykernel_launcher.py:4: DataConversionWarning: A column-vector y was passed when a 1d array was expected. Please change the shape of y to (n_samples,), for example using ravel().\n",
      "  after removing the cwd from sys.path.\n"
     ]
    }
   ],
   "source": [
    "accuracy=[]\n",
    "for depth in range(1,50):\n",
    "    dt = RandomForestRegressor(max_depth=depth,random_state=42)\n",
    "    dt.fit(x_train,y_train)\n",
    "    accuracy.append(dt.score(x_test,y_test))"
   ]
  },
  {
   "cell_type": "code",
   "execution_count": 73,
   "metadata": {},
   "outputs": [
    {
     "data": {
      "text/plain": [
       "[<matplotlib.lines.Line2D at 0x2820d6711d0>]"
      ]
     },
     "execution_count": 73,
     "metadata": {},
     "output_type": "execute_result"
    },
    {
     "data": {
      "image/png": "[encoded data removed]",
      "text/plain": [
       "<Figure size 432x288 with 1 Axes>"
      ]
     },
     "metadata": {},
     "output_type": "display_data"
    }
   ],
   "source": [
    "plt.plot(range(1,50),accuracy)"
   ]
  },
  {
   "cell_type": "code",
   "execution_count": 74,
   "metadata": {},
   "outputs": [],
   "source": [
    "#Combining all the algorithm\n",
    "from sklearn.tree import DecisionTreeRegressor\n",
    "from sklearn.svm import SVR,LinearSVR\n",
    "from sklearn.ensemble import RandomForestRegressor,GradientBoostingRegressor\n",
    "from sklearn.ensemble import BaggingRegressor\n",
    "from sklearn.model_selection import cross_val_score\n",
    "from sklearn.neighbors import KNeighborsRegressor\n",
    "\n",
    "from mlxtend.regressor import StackingRegressor\n",
    "lsvc=LinearSVR()\n",
    "dtc=DecisionTreeRegressor()\n",
    "knnc=KNeighborsRegressor()\n",
    "svc=SVR()\n",
    "gbc=GradientBoostingRegressor()\n",
    "rfc=RandomForestRegressor()"
   ]
  },
  {
   "cell_type": "code",
   "execution_count": 75,
   "metadata": {},
   "outputs": [],
   "source": [
    "stregr = StackingRegressor(regressors=[lsvc,dtc,knnc,svc,gbc,rfc], \n",
    "                           meta_regressor=lsvc)"
   ]
  },
  {
   "cell_type": "code",
   "execution_count": 76,
   "metadata": {},
   "outputs": [
    {
     "name": "stderr",
     "output_type": "stream",
     "text": [
      "C:\\Users\\NaimHasan\\Anaconda3\\envs\\tensorflow_gpuenv\\lib\\site-packages\\sklearn\\utils\\validation.py:724: DataConversionWarning: A column-vector y was passed when a 1d array was expected. Please change the shape of y to (n_samples, ), for example using ravel().\n",
      "  y = column_or_1d(y, warn=True)\n",
      "C:\\Users\\NaimHasan\\Anaconda3\\envs\\tensorflow_gpuenv\\lib\\site-packages\\sklearn\\svm\\base.py:929: ConvergenceWarning: Liblinear failed to converge, increase the number of iterations.\n",
      "  \"the number of iterations.\", ConvergenceWarning)\n",
      "C:\\Users\\NaimHasan\\Anaconda3\\envs\\tensorflow_gpuenv\\lib\\site-packages\\sklearn\\utils\\validation.py:724: DataConversionWarning: A column-vector y was passed when a 1d array was expected. Please change the shape of y to (n_samples, ), for example using ravel().\n",
      "  y = column_or_1d(y, warn=True)\n",
      "C:\\Users\\NaimHasan\\Anaconda3\\envs\\tensorflow_gpuenv\\lib\\site-packages\\sklearn\\svm\\base.py:193: FutureWarning: The default value of gamma will change from 'auto' to 'scale' in version 0.22 to account better for unscaled features. Set gamma explicitly to 'auto' or 'scale' to avoid this warning.\n",
      "  \"avoid this warning.\", FutureWarning)\n",
      "C:\\Users\\NaimHasan\\Anaconda3\\envs\\tensorflow_gpuenv\\lib\\site-packages\\sklearn\\ensemble\\gradient_boosting.py:1450: DataConversionWarning: A column-vector y was passed when a 1d array was expected. Please change the shape of y to (n_samples, ), for example using ravel().\n",
      "  y = column_or_1d(y, warn=True)\n",
      "C:\\Users\\NaimHasan\\Anaconda3\\envs\\tensorflow_gpuenv\\lib\\site-packages\\sklearn\\ensemble\\forest.py:245: FutureWarning: The default value of n_estimators will change from 10 in version 0.20 to 100 in 0.22.\n",
      "  \"10 in version 0.20 to 100 in 0.22.\", FutureWarning)\n",
      "C:\\Users\\NaimHasan\\Anaconda3\\envs\\tensorflow_gpuenv\\lib\\site-packages\\mlxtend\\regressor\\stacking_regression.py:148: DataConversionWarning: A column-vector y was passed when a 1d array was expected. Please change the shape of y to (n_samples,), for example using ravel().\n",
      "  regr.fit(X, y)\n",
      "C:\\Users\\NaimHasan\\Anaconda3\\envs\\tensorflow_gpuenv\\lib\\site-packages\\sklearn\\utils\\validation.py:724: DataConversionWarning: A column-vector y was passed when a 1d array was expected. Please change the shape of y to (n_samples, ), for example using ravel().\n",
      "  y = column_or_1d(y, warn=True)\n"
     ]
    },
    {
     "data": {
      "text/plain": [
       "StackingRegressor(meta_regressor=LinearSVR(C=1.0, dual=True, epsilon=0.0,\n",
       "                                           fit_intercept=True,\n",
       "                                           intercept_scaling=1.0,\n",
       "                                           loss='epsilon_insensitive',\n",
       "                                           max_iter=1000, random_state=None,\n",
       "                                           tol=0.0001, verbose=0),\n",
       "                  refit=True,\n",
       "                  regressors=[LinearSVR(C=1.0, dual=True, epsilon=0.0,\n",
       "                                        fit_intercept=True,\n",
       "                                        intercept_scaling=1.0,\n",
       "                                        loss='epsilon_insensitive',\n",
       "                                        max_iter=1000, random_state=N...\n",
       "                                                    criterion='mse',\n",
       "                                                    max_depth=None,\n",
       "                                                    max_features='auto',\n",
       "                                                    max_leaf_nodes=None,\n",
       "                                                    min_impurity_decrease=0.0,\n",
       "                                                    min_impurity_split=None,\n",
       "                                                    min_samples_leaf=1,\n",
       "                                                    min_samples_split=2,\n",
       "                                                    min_weight_fraction_leaf=0.0,\n",
       "                                                    n_estimators='warn',\n",
       "                                                    n_jobs=None,\n",
       "                                                    oob_score=False,\n",
       "                                                    random_state=None,\n",
       "                                                    verbose=0,\n",
       "                                                    warm_start=False)],\n",
       "                  store_train_meta_features=False,\n",
       "                  use_features_in_secondary=False, verbose=0)"
      ]
     },
     "execution_count": 76,
     "metadata": {},
     "output_type": "execute_result"
    }
   ],
   "source": [
    "stregr.fit(x_train, y_train)"
   ]
  },
  {
   "cell_type": "code",
   "execution_count": 77,
   "metadata": {},
   "outputs": [],
   "source": [
    "prediction = stregr.predict(x_test)"
   ]
  },
  {
   "cell_type": "code",
   "execution_count": 78,
   "metadata": {},
   "outputs": [
    {
     "data": {
      "text/plain": [
       "0.7143132948717168"
      ]
     },
     "execution_count": 78,
     "metadata": {},
     "output_type": "execute_result"
    }
   ],
   "source": [
    "stregr.score(x_test,y_test)"
   ]
  },
  {
   "cell_type": "code",
   "execution_count": null,
   "metadata": {},
   "outputs": [],
   "source": [
    "\n"
   ]
  },
  {
   "cell_type": "code",
   "execution_count": null,
   "metadata": {},
   "outputs": [],
   "source": []
  }
 ],
 "metadata": {
  "kernelspec": {
   "display_name": "Python 3",
   "language": "python",
   "name": "python3"
  },
  "language_info": {
   "codemirror_mode": {
    "name": "ipython",
    "version": 3
   },
   "file_extension": ".py",
   "mimetype": "text/x-python",
   "name": "python",
   "nbconvert_exporter": "python",
   "pygments_lexer": "ipython3",
   "version": "3.7.3"
  }
 },
 "nbformat": 4,
 "nbformat_minor": 2
}

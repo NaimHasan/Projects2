{
 "cells": [
  {
   "cell_type": "code",
   "execution_count": 1,
   "metadata": {},
   "outputs": [
    {
     "name": "stderr",
     "output_type": "stream",
     "text": [
      "C:\\Users\\NaimHasan\\Anaconda3\\envs\\tensorflow_gpuenv\\lib\\site-packages\\tensorflow\\python\\framework\\dtypes.py:526: FutureWarning: Passing (type, 1) or '1type' as a synonym of type is deprecated; in a future version of numpy, it will be understood as (type, (1,)) / '(1,)type'.\n",
      "  _np_qint8 = np.dtype([(\"qint8\", np.int8, 1)])\n",
      "C:\\Users\\NaimHasan\\Anaconda3\\envs\\tensorflow_gpuenv\\lib\\site-packages\\tensorflow\\python\\framework\\dtypes.py:527: FutureWarning: Passing (type, 1) or '1type' as a synonym of type is deprecated; in a future version of numpy, it will be understood as (type, (1,)) / '(1,)type'.\n",
      "  _np_quint8 = np.dtype([(\"quint8\", np.uint8, 1)])\n",
      "C:\\Users\\NaimHasan\\Anaconda3\\envs\\tensorflow_gpuenv\\lib\\site-packages\\tensorflow\\python\\framework\\dtypes.py:528: FutureWarning: Passing (type, 1) or '1type' as a synonym of type is deprecated; in a future version of numpy, it will be understood as (type, (1,)) / '(1,)type'.\n",
      "  _np_qint16 = np.dtype([(\"qint16\", np.int16, 1)])\n",
      "C:\\Users\\NaimHasan\\Anaconda3\\envs\\tensorflow_gpuenv\\lib\\site-packages\\tensorflow\\python\\framework\\dtypes.py:529: FutureWarning: Passing (type, 1) or '1type' as a synonym of type is deprecated; in a future version of numpy, it will be understood as (type, (1,)) / '(1,)type'.\n",
      "  _np_quint16 = np.dtype([(\"quint16\", np.uint16, 1)])\n",
      "C:\\Users\\NaimHasan\\Anaconda3\\envs\\tensorflow_gpuenv\\lib\\site-packages\\tensorflow\\python\\framework\\dtypes.py:530: FutureWarning: Passing (type, 1) or '1type' as a synonym of type is deprecated; in a future version of numpy, it will be understood as (type, (1,)) / '(1,)type'.\n",
      "  _np_qint32 = np.dtype([(\"qint32\", np.int32, 1)])\n",
      "C:\\Users\\NaimHasan\\Anaconda3\\envs\\tensorflow_gpuenv\\lib\\site-packages\\tensorflow\\python\\framework\\dtypes.py:535: FutureWarning: Passing (type, 1) or '1type' as a synonym of type is deprecated; in a future version of numpy, it will be understood as (type, (1,)) / '(1,)type'.\n",
      "  np_resource = np.dtype([(\"resource\", np.ubyte, 1)])\n"
     ]
    }
   ],
   "source": [
    "import pandas as pd\n",
    "import matplotlib.pyplot as plt\n",
    "import seaborn as sns\n",
    "import math\n",
    "import numpy as np\n",
    "import tensorflow as tf\n",
    "%matplotlib inline"
   ]
  },
  {
   "cell_type": "code",
   "execution_count": 2,
   "metadata": {},
   "outputs": [
    {
     "data": {
      "text/plain": [
       "'C:\\\\SPB_Data\\\\bangladesh-weather-dataset\\\\bangladesh-weather-dataset'"
      ]
     },
     "execution_count": 2,
     "metadata": {},
     "output_type": "execute_result"
    }
   ],
   "source": [
    "pwd"
   ]
  },
  {
   "cell_type": "code",
   "execution_count": 3,
   "metadata": {},
   "outputs": [
    {
     "data": {
      "text/html": [
       "<div>\n",
       "<style scoped>\n",
       "    .dataframe tbody tr th:only-of-type {\n",
       "        vertical-align: middle;\n",
       "    }\n",
       "\n",
       "    .dataframe tbody tr th {\n",
       "        vertical-align: top;\n",
       "    }\n",
       "\n",
       "    .dataframe thead th {\n",
       "        text-align: right;\n",
       "    }\n",
       "</style>\n",
       "<table border=\"1\" class=\"dataframe\">\n",
       "  <thead>\n",
       "    <tr style=\"text-align: right;\">\n",
       "      <th></th>\n",
       "      <th>tem</th>\n",
       "      <th>Month</th>\n",
       "      <th>Year</th>\n",
       "      <th>rain</th>\n",
       "    </tr>\n",
       "  </thead>\n",
       "  <tbody>\n",
       "    <tr>\n",
       "      <th>0</th>\n",
       "      <td>16.9760</td>\n",
       "      <td>1</td>\n",
       "      <td>1901</td>\n",
       "      <td>18.5356</td>\n",
       "    </tr>\n",
       "    <tr>\n",
       "      <th>1</th>\n",
       "      <td>19.9026</td>\n",
       "      <td>2</td>\n",
       "      <td>1901</td>\n",
       "      <td>16.2548</td>\n",
       "    </tr>\n",
       "    <tr>\n",
       "      <th>2</th>\n",
       "      <td>24.3158</td>\n",
       "      <td>3</td>\n",
       "      <td>1901</td>\n",
       "      <td>70.7981</td>\n",
       "    </tr>\n",
       "    <tr>\n",
       "      <th>3</th>\n",
       "      <td>28.1834</td>\n",
       "      <td>4</td>\n",
       "      <td>1901</td>\n",
       "      <td>66.1616</td>\n",
       "    </tr>\n",
       "    <tr>\n",
       "      <th>4</th>\n",
       "      <td>27.8892</td>\n",
       "      <td>5</td>\n",
       "      <td>1901</td>\n",
       "      <td>267.2150</td>\n",
       "    </tr>\n",
       "  </tbody>\n",
       "</table>\n",
       "</div>"
      ],
      "text/plain": [
       "       tem  Month  Year      rain\n",
       "0  16.9760      1  1901   18.5356\n",
       "1  19.9026      2  1901   16.2548\n",
       "2  24.3158      3  1901   70.7981\n",
       "3  28.1834      4  1901   66.1616\n",
       "4  27.8892      5  1901  267.2150"
      ]
     },
     "execution_count": 3,
     "metadata": {},
     "output_type": "execute_result"
    }
   ],
   "source": [
    "weather = pd.read_csv(r\"C:\\SPB_Data\\bangladesh-weather-dataset\\bangladesh-weather-dataset\\datasets\\weather\\weather.csv\")\n",
    "weather.head()"
   ]
  },
  {
   "cell_type": "code",
   "execution_count": 4,
   "metadata": {},
   "outputs": [
    {
     "data": {
      "text/plain": [
       "tem      0\n",
       "Month    0\n",
       "Year     0\n",
       "rain     0\n",
       "dtype: int64"
      ]
     },
     "execution_count": 4,
     "metadata": {},
     "output_type": "execute_result"
    }
   ],
   "source": [
    "weather.isnull().sum()"
   ]
  },
  {
   "cell_type": "code",
   "execution_count": 5,
   "metadata": {},
   "outputs": [
    {
     "data": {
      "text/plain": [
       "<matplotlib.axes._subplots.AxesSubplot at 0x2256f3b6a90>"
      ]
     },
     "execution_count": 5,
     "metadata": {},
     "output_type": "execute_result"
    },
    {
     "data": {
      "image/png": "[encoded data removed]",
      "text/plain": [
       "<Figure size 432x288 with 1 Axes>"
      ]
     },
     "metadata": {
      "needs_background": "light"
     },
     "output_type": "display_data"
    }
   ],
   "source": [
    "weather[['rain']].plot()"
   ]
  },
  {
   "cell_type": "code",
   "execution_count": 6,
   "metadata": {},
   "outputs": [
    {
     "data": {
      "text/plain": [
       "<matplotlib.axes._subplots.AxesSubplot at 0x2256f4ba160>"
      ]
     },
     "execution_count": 6,
     "metadata": {},
     "output_type": "execute_result"
    },
    {
     "data": {
      "image/png": "[encoded data removed]",
      "text/plain": [
       "<Figure size 432x288 with 1 Axes>"
      ]
     },
     "metadata": {
      "needs_background": "light"
     },
     "output_type": "display_data"
    }
   ],
   "source": [
    "weather.rain.hist()"
   ]
  },
  {
   "cell_type": "code",
   "execution_count": 7,
   "metadata": {},
   "outputs": [
    {
     "data": {
      "text/plain": [
       "<matplotlib.axes._subplots.AxesSubplot at 0x2256f567978>"
      ]
     },
     "execution_count": 7,
     "metadata": {},
     "output_type": "execute_result"
    },
    {
     "data": {
      "image/png": "[encoded data removed]",
      "text/plain": [
       "<Figure size 432x288 with 1 Axes>"
      ]
     },
     "metadata": {
      "needs_background": "light"
     },
     "output_type": "display_data"
    }
   ],
   "source": [
    "weather.tem.hist()"
   ]
  },
  {
   "cell_type": "code",
   "execution_count": 8,
   "metadata": {},
   "outputs": [
    {
     "name": "stderr",
     "output_type": "stream",
     "text": [
      "No handles with labels found to put in legend.\n"
     ]
    },
    {
     "data": {
      "text/plain": [
       "<matplotlib.legend.Legend at 0x22577d25908>"
      ]
     },
     "execution_count": 8,
     "metadata": {},
     "output_type": "execute_result"
    },
    {
     "data": {
      "image/png": "[encoded data removed]",
      "text/plain": [
       "<Figure size 432x288 with 1 Axes>"
      ]
     },
     "metadata": {
      "needs_background": "light"
     },
     "output_type": "display_data"
    }
   ],
   "source": [
    "plt.bar(weather['Year'],weather['rain'])\n",
    "plt.xlabel(\"Year\")\n",
    "plt.ylabel(\"Rain\")\n",
    "plt.legend()"
   ]
  },
  {
   "cell_type": "code",
   "execution_count": 9,
   "metadata": {},
   "outputs": [
    {
     "name": "stderr",
     "output_type": "stream",
     "text": [
      "No handles with labels found to put in legend.\n"
     ]
    },
    {
     "data": {
      "text/plain": [
       "<matplotlib.legend.Legend at 0x22578b844e0>"
      ]
     },
     "execution_count": 9,
     "metadata": {},
     "output_type": "execute_result"
    },
    {
     "data": {
      "image/png": "[encoded data removed]",
      "text/plain": [
       "<Figure size 432x288 with 1 Axes>"
      ]
     },
     "metadata": {
      "needs_background": "light"
     },
     "output_type": "display_data"
    }
   ],
   "source": [
    "plt.bar(weather['tem'],weather['rain'])\n",
    "plt.xlabel(\"TEMP\")\n",
    "plt.ylabel(\"Rain\")\n",
    "plt.legend()"
   ]
  },
  {
   "cell_type": "code",
   "execution_count": 10,
   "metadata": {},
   "outputs": [],
   "source": [
    "correlation = weather.corr()"
   ]
  },
  {
   "cell_type": "code",
   "execution_count": 11,
   "metadata": {},
   "outputs": [
    {
     "data": {
      "text/html": [
       "<div>\n",
       "<style scoped>\n",
       "    .dataframe tbody tr th:only-of-type {\n",
       "        vertical-align: middle;\n",
       "    }\n",
       "\n",
       "    .dataframe tbody tr th {\n",
       "        vertical-align: top;\n",
       "    }\n",
       "\n",
       "    .dataframe thead th {\n",
       "        text-align: right;\n",
       "    }\n",
       "</style>\n",
       "<table border=\"1\" class=\"dataframe\">\n",
       "  <thead>\n",
       "    <tr style=\"text-align: right;\">\n",
       "      <th></th>\n",
       "      <th>tem</th>\n",
       "      <th>Month</th>\n",
       "      <th>Year</th>\n",
       "      <th>rain</th>\n",
       "    </tr>\n",
       "  </thead>\n",
       "  <tbody>\n",
       "    <tr>\n",
       "      <th>tem</th>\n",
       "      <td>1.000000</td>\n",
       "      <td>0.159809</td>\n",
       "      <td>0.051686</td>\n",
       "      <td>0.699846</td>\n",
       "    </tr>\n",
       "    <tr>\n",
       "      <th>Month</th>\n",
       "      <td>0.159809</td>\n",
       "      <td>1.000000</td>\n",
       "      <td>0.000000</td>\n",
       "      <td>0.135204</td>\n",
       "    </tr>\n",
       "    <tr>\n",
       "      <th>Year</th>\n",
       "      <td>0.051686</td>\n",
       "      <td>0.000000</td>\n",
       "      <td>1.000000</td>\n",
       "      <td>-0.027024</td>\n",
       "    </tr>\n",
       "    <tr>\n",
       "      <th>rain</th>\n",
       "      <td>0.699846</td>\n",
       "      <td>0.135204</td>\n",
       "      <td>-0.027024</td>\n",
       "      <td>1.000000</td>\n",
       "    </tr>\n",
       "  </tbody>\n",
       "</table>\n",
       "</div>"
      ],
      "text/plain": [
       "            tem     Month      Year      rain\n",
       "tem    1.000000  0.159809  0.051686  0.699846\n",
       "Month  0.159809  1.000000  0.000000  0.135204\n",
       "Year   0.051686  0.000000  1.000000 -0.027024\n",
       "rain   0.699846  0.135204 -0.027024  1.000000"
      ]
     },
     "execution_count": 11,
     "metadata": {},
     "output_type": "execute_result"
    }
   ],
   "source": [
    "correlation"
   ]
  },
  {
   "cell_type": "code",
   "execution_count": 12,
   "metadata": {},
   "outputs": [
    {
     "data": {
      "text/plain": [
       "<matplotlib.axes._subplots.AxesSubplot at 0x2257aaa4b70>"
      ]
     },
     "execution_count": 12,
     "metadata": {},
     "output_type": "execute_result"
    },
    {
     "data": {
      "image/png": "[encoded data removed]",
      "text/plain": [
       "<Figure size 432x288 with 2 Axes>"
      ]
     },
     "metadata": {
      "needs_background": "light"
     },
     "output_type": "display_data"
    }
   ],
   "source": [
    "sns.heatmap(correlation,cmap='coolwarm',annot=True)"
   ]
  },
  {
   "cell_type": "code",
   "execution_count": 13,
   "metadata": {},
   "outputs": [],
   "source": [
    "sns.set(style=\"whitegrid\",color_codes=True)"
   ]
  },
  {
   "cell_type": "code",
   "execution_count": 14,
   "metadata": {},
   "outputs": [
    {
     "data": {
      "image/png": "[encoded data removed]",
      "text/plain": [
       "<Figure size 432x288 with 1 Axes>"
      ]
     },
     "metadata": {},
     "output_type": "display_data"
    }
   ],
   "source": [
    "sns.distplot(weather['rain'], kde=False, bins=100);"
   ]
  },
  {
   "cell_type": "code",
   "execution_count": 15,
   "metadata": {},
   "outputs": [
    {
     "data": {
      "image/png": "[encoded data removed]",
      "text/plain": [
       "<Figure size 432x288 with 1 Axes>"
      ]
     },
     "metadata": {},
     "output_type": "display_data"
    }
   ],
   "source": [
    "sns.distplot(weather['tem'],kde=False, bins=100);"
   ]
  },
  {
   "cell_type": "code",
   "execution_count": 16,
   "metadata": {},
   "outputs": [
    {
     "data": {
      "image/png": "[encoded data removed]",
      "text/plain": [
       "<Figure size 360x360 with 1 Axes>"
      ]
     },
     "metadata": {},
     "output_type": "display_data"
    }
   ],
   "source": [
    "sns.relplot(x=\"Year\", y=\"rain\", data=weather);"
   ]
  },
  {
   "cell_type": "code",
   "execution_count": 17,
   "metadata": {},
   "outputs": [
    {
     "data": {
      "image/png": "[encoded data removed]",
      "text/plain": [
       "<Figure size 360x360 with 1 Axes>"
      ]
     },
     "metadata": {},
     "output_type": "display_data"
    }
   ],
   "source": [
    "sns.relplot(x=\"Year\", y=\"tem\", data=weather);"
   ]
  },
  {
   "cell_type": "code",
   "execution_count": 18,
   "metadata": {},
   "outputs": [
    {
     "data": {
      "image/png": "[encoded data removed]",
      "text/plain": [
       "<Figure size 433.35x360 with 1 Axes>"
      ]
     },
     "metadata": {},
     "output_type": "display_data"
    }
   ],
   "source": [
    "sns.relplot(x=\"Year\", y=\"tem\", hue=\"rain\", data=weather);"
   ]
  },
  {
   "cell_type": "code",
   "execution_count": 19,
   "metadata": {},
   "outputs": [
    {
     "data": {
      "text/plain": [
       "<matplotlib.axes._subplots.AxesSubplot at 0x2257afd07b8>"
      ]
     },
     "execution_count": 19,
     "metadata": {},
     "output_type": "execute_result"
    },
    {
     "data": {
      "image/png": "[encoded data removed]",
      "text/plain": [
       "<Figure size 432x288 with 1 Axes>"
      ]
     },
     "metadata": {},
     "output_type": "display_data"
    }
   ],
   "source": [
    "sns.boxplot(data=weather,orient='h')"
   ]
  },
  {
   "cell_type": "code",
   "execution_count": 43,
   "metadata": {},
   "outputs": [],
   "source": [
    "from sklearn.model_selection import train_test_split\n",
    "from sklearn.preprocessing import MinMaxScaler\n"
   ]
  },
  {
   "cell_type": "code",
   "execution_count": 44,
   "metadata": {},
   "outputs": [],
   "source": [
    "weather.head()\n",
    "X = weather.drop('rain',axis=1)\n",
    "y = weather[['rain']]"
   ]
  },
  {
   "cell_type": "code",
   "execution_count": 45,
   "metadata": {},
   "outputs": [
    {
     "data": {
      "text/html": [
       "<div>\n",
       "<style scoped>\n",
       "    .dataframe tbody tr th:only-of-type {\n",
       "        vertical-align: middle;\n",
       "    }\n",
       "\n",
       "    .dataframe tbody tr th {\n",
       "        vertical-align: top;\n",
       "    }\n",
       "\n",
       "    .dataframe thead th {\n",
       "        text-align: right;\n",
       "    }\n",
       "</style>\n",
       "<table border=\"1\" class=\"dataframe\">\n",
       "  <thead>\n",
       "    <tr style=\"text-align: right;\">\n",
       "      <th></th>\n",
       "      <th>tem</th>\n",
       "      <th>Month</th>\n",
       "      <th>Year</th>\n",
       "    </tr>\n",
       "  </thead>\n",
       "  <tbody>\n",
       "    <tr>\n",
       "      <th>0</th>\n",
       "      <td>16.9760</td>\n",
       "      <td>1</td>\n",
       "      <td>1901</td>\n",
       "    </tr>\n",
       "    <tr>\n",
       "      <th>1</th>\n",
       "      <td>19.9026</td>\n",
       "      <td>2</td>\n",
       "      <td>1901</td>\n",
       "    </tr>\n",
       "    <tr>\n",
       "      <th>2</th>\n",
       "      <td>24.3158</td>\n",
       "      <td>3</td>\n",
       "      <td>1901</td>\n",
       "    </tr>\n",
       "    <tr>\n",
       "      <th>3</th>\n",
       "      <td>28.1834</td>\n",
       "      <td>4</td>\n",
       "      <td>1901</td>\n",
       "    </tr>\n",
       "    <tr>\n",
       "      <th>4</th>\n",
       "      <td>27.8892</td>\n",
       "      <td>5</td>\n",
       "      <td>1901</td>\n",
       "    </tr>\n",
       "  </tbody>\n",
       "</table>\n",
       "</div>"
      ],
      "text/plain": [
       "       tem  Month  Year\n",
       "0  16.9760      1  1901\n",
       "1  19.9026      2  1901\n",
       "2  24.3158      3  1901\n",
       "3  28.1834      4  1901\n",
       "4  27.8892      5  1901"
      ]
     },
     "execution_count": 45,
     "metadata": {},
     "output_type": "execute_result"
    }
   ],
   "source": [
    "X.head()"
   ]
  },
  {
   "cell_type": "code",
   "execution_count": 46,
   "metadata": {},
   "outputs": [
    {
     "data": {
      "text/html": [
       "<div>\n",
       "<style scoped>\n",
       "    .dataframe tbody tr th:only-of-type {\n",
       "        vertical-align: middle;\n",
       "    }\n",
       "\n",
       "    .dataframe tbody tr th {\n",
       "        vertical-align: top;\n",
       "    }\n",
       "\n",
       "    .dataframe thead th {\n",
       "        text-align: right;\n",
       "    }\n",
       "</style>\n",
       "<table border=\"1\" class=\"dataframe\">\n",
       "  <thead>\n",
       "    <tr style=\"text-align: right;\">\n",
       "      <th></th>\n",
       "      <th>rain</th>\n",
       "    </tr>\n",
       "  </thead>\n",
       "  <tbody>\n",
       "    <tr>\n",
       "      <th>0</th>\n",
       "      <td>18.5356</td>\n",
       "    </tr>\n",
       "    <tr>\n",
       "      <th>1</th>\n",
       "      <td>16.2548</td>\n",
       "    </tr>\n",
       "    <tr>\n",
       "      <th>2</th>\n",
       "      <td>70.7981</td>\n",
       "    </tr>\n",
       "    <tr>\n",
       "      <th>3</th>\n",
       "      <td>66.1616</td>\n",
       "    </tr>\n",
       "    <tr>\n",
       "      <th>4</th>\n",
       "      <td>267.2150</td>\n",
       "    </tr>\n",
       "  </tbody>\n",
       "</table>\n",
       "</div>"
      ],
      "text/plain": [
       "       rain\n",
       "0   18.5356\n",
       "1   16.2548\n",
       "2   70.7981\n",
       "3   66.1616\n",
       "4  267.2150"
      ]
     },
     "execution_count": 46,
     "metadata": {},
     "output_type": "execute_result"
    }
   ],
   "source": [
    "y.head()"
   ]
  },
  {
   "cell_type": "code",
   "execution_count": 47,
   "metadata": {},
   "outputs": [],
   "source": [
    "x_train,x_test,y_train,y_test = train_test_split(X,y,test_size=.2)\n",
    "result = y_test\n",
    "scaler = MinMaxScaler()\n",
    "\n",
    "scaler.fit(y_train)\n",
    "y_train =scaler.transform(y_train) # we transform the y so after predict we have to inverse transeform it\n",
    "scaler.fit(y_test)\n",
    "y_test =scaler.transform(y_test) # we transform the y so after predict we have to inverse transeform it"
   ]
  },
  {
   "cell_type": "code",
   "execution_count": 66,
   "metadata": {},
   "outputs": [],
   "source": [
    "from keras import Sequential\n",
    "from keras.layers import Dense,Dropout,LSTM,Flatten\n"
   ]
  },
  {
   "cell_type": "code",
   "execution_count": 67,
   "metadata": {},
   "outputs": [
    {
     "name": "stdout",
     "output_type": "stream",
     "text": [
      "(1104, 3, 1)\n",
      "(276, 3, 1)\n"
     ]
    }
   ],
   "source": [
    "print (x_train.shape)\n",
    "print (x_test.shape)"
   ]
  },
  {
   "cell_type": "code",
   "execution_count": 68,
   "metadata": {},
   "outputs": [],
   "source": [
    "x_train = np.array(x_train)\n",
    "x_test = np.array(x_test)"
   ]
  },
  {
   "cell_type": "code",
   "execution_count": 69,
   "metadata": {},
   "outputs": [
    {
     "data": {
      "text/plain": [
       "array([[[  26.8891],\n",
       "        [  10.    ],\n",
       "        [1956.    ]],\n",
       "\n",
       "       [[  27.7138],\n",
       "        [   8.    ],\n",
       "        [1943.    ]],\n",
       "\n",
       "       [[  28.2071],\n",
       "        [   7.    ],\n",
       "        [1973.    ]],\n",
       "\n",
       "       ...,\n",
       "\n",
       "       [[  23.1647],\n",
       "        [  11.    ],\n",
       "        [1920.    ]],\n",
       "\n",
       "       [[  28.2602],\n",
       "        [   9.    ],\n",
       "        [1987.    ]],\n",
       "\n",
       "       [[  20.3254],\n",
       "        [  12.    ],\n",
       "        [1951.    ]]])"
      ]
     },
     "execution_count": 69,
     "metadata": {},
     "output_type": "execute_result"
    }
   ],
   "source": [
    "x_train"
   ]
  },
  {
   "cell_type": "code",
   "execution_count": 70,
   "metadata": {},
   "outputs": [],
   "source": [
    "x_train = np.reshape(x_train, (x_train.shape[0],x_train.shape[1],1))\n",
    "x_test = np.reshape(x_test, (x_test.shape[0],x_test.shape[1],1))"
   ]
  },
  {
   "cell_type": "code",
   "execution_count": 71,
   "metadata": {},
   "outputs": [
    {
     "name": "stdout",
     "output_type": "stream",
     "text": [
      "(1104, 3, 1)\n",
      "(276, 3, 1)\n",
      "(1104, 1)\n",
      "(276, 1)\n"
     ]
    }
   ],
   "source": [
    "print (x_train.shape)\n",
    "print (x_test.shape)\n",
    "print (y_train.shape)\n",
    "print (y_test.shape)"
   ]
  },
  {
   "cell_type": "code",
   "execution_count": null,
   "metadata": {},
   "outputs": [],
   "source": []
  },
  {
   "cell_type": "code",
   "execution_count": 72,
   "metadata": {},
   "outputs": [],
   "source": [
    "def RNN_model():\n",
    "    regressor = Sequential()\n",
    "    regressor.add(LSTM(units = 50,return_sequences = True))\n",
    "    regressor.add(Dropout(.2))\n",
    "    regressor.add(LSTM(units = 50))\n",
    "    regressor.add(Dropout(0.2))\n",
    "    regressor.add(Dense(units = 1)) #we want single feature output which is df['Close']\n",
    "    regressor.compile(optimizer = 'adam',loss = 'mean_squared_error')\n",
    "    return regressor"
   ]
  },
  {
   "cell_type": "code",
   "execution_count": 73,
   "metadata": {},
   "outputs": [
    {
     "name": "stdout",
     "output_type": "stream",
     "text": [
      "WARNING:tensorflow:From C:\\Users\\NaimHasan\\Anaconda3\\envs\\tensorflow_gpuenv\\lib\\site-packages\\tensorflow\\python\\framework\\op_def_library.py:263: colocate_with (from tensorflow.python.framework.ops) is deprecated and will be removed in a future version.\n",
      "Instructions for updating:\n",
      "Colocations handled automatically by placer.\n"
     ]
    }
   ],
   "source": [
    "regressor = RNN_model()"
   ]
  },
  {
   "cell_type": "code",
   "execution_count": 74,
   "metadata": {},
   "outputs": [
    {
     "name": "stdout",
     "output_type": "stream",
     "text": [
      "WARNING:tensorflow:From C:\\Users\\NaimHasan\\Anaconda3\\envs\\tensorflow_gpuenv\\lib\\site-packages\\keras\\backend\\tensorflow_backend.py:3445: calling dropout (from tensorflow.python.ops.nn_ops) with keep_prob is deprecated and will be removed in a future version.\n",
      "Instructions for updating:\n",
      "Please use `rate` instead of `keep_prob`. Rate should be set to `rate = 1 - keep_prob`.\n",
      "WARNING:tensorflow:From C:\\Users\\NaimHasan\\Anaconda3\\envs\\tensorflow_gpuenv\\lib\\site-packages\\tensorflow\\python\\ops\\math_ops.py:3066: to_int32 (from tensorflow.python.ops.math_ops) is deprecated and will be removed in a future version.\n",
      "Instructions for updating:\n",
      "Use tf.cast instead.\n",
      "Epoch 1/100\n",
      "1104/1104 [==============================] - 17s 16ms/step - loss: 0.0399\n",
      "Epoch 2/100\n",
      "1104/1104 [==============================] - 0s 416us/step - loss: 0.0295\n",
      "Epoch 3/100\n",
      "1104/1104 [==============================] - 0s 402us/step - loss: 0.0240\n",
      "Epoch 4/100\n",
      "1104/1104 [==============================] - 0s 406us/step - loss: 0.0204\n",
      "Epoch 5/100\n",
      "1104/1104 [==============================] - 0s 415us/step - loss: 0.0191\n",
      "Epoch 6/100\n",
      "1104/1104 [==============================] - 0s 413us/step - loss: 0.0182\n",
      "Epoch 7/100\n",
      "1104/1104 [==============================] - 0s 431us/step - loss: 0.0157\n",
      "Epoch 8/100\n",
      "1104/1104 [==============================] - 1s 481us/step - loss: 0.0145\n",
      "Epoch 9/100\n",
      "1104/1104 [==============================] - 0s 432us/step - loss: 0.0140\n",
      "Epoch 10/100\n",
      "1104/1104 [==============================] - 0s 413us/step - loss: 0.0126\n",
      "Epoch 11/100\n",
      "1104/1104 [==============================] - 0s 412us/step - loss: 0.0123\n",
      "Epoch 12/100\n",
      "1104/1104 [==============================] - 0s 404us/step - loss: 0.0111\n",
      "Epoch 13/100\n",
      "1104/1104 [==============================] - 0s 434us/step - loss: 0.0113\n",
      "Epoch 14/100\n",
      "1104/1104 [==============================] - 1s 478us/step - loss: 0.0105\n",
      "Epoch 15/100\n",
      "1104/1104 [==============================] - 0s 442us/step - loss: 0.0096\n",
      "Epoch 16/100\n",
      "1104/1104 [==============================] - 0s 439us/step - loss: 0.0097\n",
      "Epoch 17/100\n",
      "1104/1104 [==============================] - 0s 430us/step - loss: 0.0100\n",
      "Epoch 18/100\n",
      "1104/1104 [==============================] - 0s 403us/step - loss: 0.0100\n",
      "Epoch 19/100\n",
      "1104/1104 [==============================] - 0s 418us/step - loss: 0.0097\n",
      "Epoch 20/100\n",
      "1104/1104 [==============================] - 0s 420us/step - loss: 0.0096\n",
      "Epoch 21/100\n",
      "1104/1104 [==============================] - 0s 420us/step - loss: 0.0095\n",
      "Epoch 22/100\n",
      "1104/1104 [==============================] - 0s 429us/step - loss: 0.0094\n",
      "Epoch 23/100\n",
      "1104/1104 [==============================] - 0s 429us/step - loss: 0.0091\n",
      "Epoch 24/100\n",
      "1104/1104 [==============================] - 0s 421us/step - loss: 0.0092\n",
      "Epoch 25/100\n",
      "1104/1104 [==============================] - 0s 435us/step - loss: 0.0092\n",
      "Epoch 26/100\n",
      "1104/1104 [==============================] - 0s 428us/step - loss: 0.0092\n",
      "Epoch 27/100\n",
      "1104/1104 [==============================] - 0s 423us/step - loss: 0.0090\n",
      "Epoch 28/100\n",
      "1104/1104 [==============================] - 0s 425us/step - loss: 0.0082\n",
      "Epoch 29/100\n",
      "1104/1104 [==============================] - 0s 438us/step - loss: 0.0086\n",
      "Epoch 30/100\n",
      "1104/1104 [==============================] - 0s 401us/step - loss: 0.0100\n",
      "Epoch 31/100\n",
      "1104/1104 [==============================] - 0s 409us/step - loss: 0.0082\n",
      "Epoch 32/100\n",
      "1104/1104 [==============================] - 0s 424us/step - loss: 0.0088\n",
      "Epoch 33/100\n",
      "1104/1104 [==============================] - 0s 412us/step - loss: 0.0080\n",
      "Epoch 34/100\n",
      "1104/1104 [==============================] - 0s 415us/step - loss: 0.0085\n",
      "Epoch 35/100\n",
      "1104/1104 [==============================] - 0s 410us/step - loss: 0.0086\n",
      "Epoch 36/100\n",
      "1104/1104 [==============================] - 0s 424us/step - loss: 0.0082\n",
      "Epoch 37/100\n",
      "1104/1104 [==============================] - 0s 415us/step - loss: 0.0081\n",
      "Epoch 38/100\n",
      "1104/1104 [==============================] - 0s 413us/step - loss: 0.0082\n",
      "Epoch 39/100\n",
      "1104/1104 [==============================] - 0s 427us/step - loss: 0.0084\n",
      "Epoch 40/100\n",
      "1104/1104 [==============================] - 0s 435us/step - loss: 0.0085\n",
      "Epoch 41/100\n",
      "1104/1104 [==============================] - 0s 443us/step - loss: 0.0084\n",
      "Epoch 42/100\n",
      "1104/1104 [==============================] - 1s 485us/step - loss: 0.0084\n",
      "Epoch 43/100\n",
      "1104/1104 [==============================] - 0s 425us/step - loss: 0.0084\n",
      "Epoch 44/100\n",
      "1104/1104 [==============================] - 0s 421us/step - loss: 0.0082\n",
      "Epoch 45/100\n",
      "1104/1104 [==============================] - 0s 430us/step - loss: 0.0081\n",
      "Epoch 46/100\n",
      "1104/1104 [==============================] - 0s 429us/step - loss: 0.0081\n",
      "Epoch 47/100\n",
      "1104/1104 [==============================] - 0s 429us/step - loss: 0.0083\n",
      "Epoch 48/100\n",
      "1104/1104 [==============================] - 0s 424us/step - loss: 0.0076\n",
      "Epoch 49/100\n",
      "1104/1104 [==============================] - 0s 428us/step - loss: 0.0084\n",
      "Epoch 50/100\n",
      "1104/1104 [==============================] - 0s 403us/step - loss: 0.0084\n",
      "Epoch 51/100\n",
      "1104/1104 [==============================] - 0s 425us/step - loss: 0.0081\n",
      "Epoch 52/100\n",
      "1104/1104 [==============================] - 0s 442us/step - loss: 0.0081\n",
      "Epoch 53/100\n",
      "1104/1104 [==============================] - 0s 444us/step - loss: 0.0075\n",
      "Epoch 54/100\n",
      "1104/1104 [==============================] - 0s 432us/step - loss: 0.0077\n",
      "Epoch 55/100\n",
      "1104/1104 [==============================] - 0s 443us/step - loss: 0.0081\n",
      "Epoch 56/100\n",
      "1104/1104 [==============================] - 0s 419us/step - loss: 0.0080\n",
      "Epoch 57/100\n",
      "1104/1104 [==============================] - 1s 465us/step - loss: 0.0077\n",
      "Epoch 58/100\n",
      "1104/1104 [==============================] - 1s 457us/step - loss: 0.0076\n",
      "Epoch 59/100\n",
      "1104/1104 [==============================] - 1s 485us/step - loss: 0.0078\n",
      "Epoch 60/100\n",
      "1104/1104 [==============================] - 1s 455us/step - loss: 0.0078\n",
      "Epoch 61/100\n",
      "1104/1104 [==============================] - 1s 459us/step - loss: 0.0072\n",
      "Epoch 62/100\n",
      "1104/1104 [==============================] - 0s 430us/step - loss: 0.0075\n",
      "Epoch 63/100\n",
      "1104/1104 [==============================] - 0s 409us/step - loss: 0.0076\n",
      "Epoch 64/100\n",
      "1104/1104 [==============================] - 0s 428us/step - loss: 0.0080\n",
      "Epoch 65/100\n",
      "1104/1104 [==============================] - 0s 423us/step - loss: 0.0075\n",
      "Epoch 66/100\n",
      "1104/1104 [==============================] - 0s 446us/step - loss: 0.0077\n",
      "Epoch 67/100\n",
      "1104/1104 [==============================] - 0s 411us/step - loss: 0.0076\n",
      "Epoch 68/100\n",
      "1104/1104 [==============================] - 0s 425us/step - loss: 0.0078\n",
      "Epoch 69/100\n",
      "1104/1104 [==============================] - 0s 415us/step - loss: 0.0079\n",
      "Epoch 70/100\n",
      "1104/1104 [==============================] - 0s 420us/step - loss: 0.0077\n",
      "Epoch 71/100\n",
      "1104/1104 [==============================] - 0s 412us/step - loss: 0.0077\n",
      "Epoch 72/100\n",
      "1104/1104 [==============================] - 0s 430us/step - loss: 0.0075\n",
      "Epoch 73/100\n",
      "1104/1104 [==============================] - 0s 419us/step - loss: 0.0071\n",
      "Epoch 74/100\n",
      "1104/1104 [==============================] - 0s 437us/step - loss: 0.0074\n",
      "Epoch 75/100\n",
      "1104/1104 [==============================] - 1s 482us/step - loss: 0.0068\n",
      "Epoch 76/100\n",
      "1104/1104 [==============================] - 0s 433us/step - loss: 0.0081\n",
      "Epoch 77/100\n",
      "1104/1104 [==============================] - 0s 414us/step - loss: 0.0071 0s - loss:\n",
      "Epoch 78/100\n",
      "1104/1104 [==============================] - 0s 444us/step - loss: 0.0072\n",
      "Epoch 79/100\n",
      "1104/1104 [==============================] - 0s 428us/step - loss: 0.0075\n",
      "Epoch 80/100\n",
      "1104/1104 [==============================] - 0s 420us/step - loss: 0.0071\n",
      "Epoch 81/100\n",
      "1104/1104 [==============================] - 0s 418us/step - loss: 0.0071\n",
      "Epoch 82/100\n",
      "1104/1104 [==============================] - 0s 432us/step - loss: 0.0073\n",
      "Epoch 83/100\n",
      "1104/1104 [==============================] - 0s 421us/step - loss: 0.0080\n",
      "Epoch 84/100\n",
      "1104/1104 [==============================] - 0s 422us/step - loss: 0.0075\n",
      "Epoch 85/100\n",
      "1104/1104 [==============================] - 0s 416us/step - loss: 0.0077\n",
      "Epoch 86/100\n",
      "1104/1104 [==============================] - 0s 434us/step - loss: 0.0076\n",
      "Epoch 87/100\n"
     ]
    },
    {
     "name": "stdout",
     "output_type": "stream",
     "text": [
      "1104/1104 [==============================] - 0s 439us/step - loss: 0.0072\n",
      "Epoch 88/100\n",
      "1104/1104 [==============================] - 0s 426us/step - loss: 0.0080\n",
      "Epoch 89/100\n",
      "1104/1104 [==============================] - 1s 506us/step - loss: 0.0074\n",
      "Epoch 90/100\n",
      "1104/1104 [==============================] - 1s 461us/step - loss: 0.0078\n",
      "Epoch 91/100\n",
      "1104/1104 [==============================] - 1s 472us/step - loss: 0.0077\n",
      "Epoch 92/100\n",
      "1104/1104 [==============================] - 1s 471us/step - loss: 0.0078\n",
      "Epoch 93/100\n",
      "1104/1104 [==============================] - 0s 423us/step - loss: 0.0075\n",
      "Epoch 94/100\n",
      "1104/1104 [==============================] - 0s 418us/step - loss: 0.0083\n",
      "Epoch 95/100\n",
      "1104/1104 [==============================] - 0s 422us/step - loss: 0.0074\n",
      "Epoch 96/100\n",
      "1104/1104 [==============================] - 0s 423us/step - loss: 0.0074\n",
      "Epoch 97/100\n",
      "1104/1104 [==============================] - 0s 423us/step - loss: 0.0079\n",
      "Epoch 98/100\n",
      "1104/1104 [==============================] - 0s 421us/step - loss: 0.0070\n",
      "Epoch 99/100\n",
      "1104/1104 [==============================] - 0s 421us/step - loss: 0.0075\n",
      "Epoch 100/100\n",
      "1104/1104 [==============================] - 0s 418us/step - loss: 0.0075\n"
     ]
    },
    {
     "data": {
      "text/plain": [
       "<keras.callbacks.History at 0x2257ccc7b70>"
      ]
     },
     "execution_count": 74,
     "metadata": {},
     "output_type": "execute_result"
    }
   ],
   "source": [
    "regressor.fit(x_train,y_train,epochs = 100)"
   ]
  },
  {
   "cell_type": "code",
   "execution_count": 75,
   "metadata": {},
   "outputs": [],
   "source": [
    "y_pred = regressor.predict(x_test)"
   ]
  },
  {
   "cell_type": "code",
   "execution_count": 76,
   "metadata": {},
   "outputs": [
    {
     "data": {
      "text/plain": [
       "array([[ 3.14642265e-02],\n",
       "       [-6.75027072e-03],\n",
       "       [ 2.71064699e-01],\n",
       "       [-9.76750255e-03],\n",
       "       [-2.97252834e-03],\n",
       "       [-7.66813755e-05],\n",
       "       [ 4.51776803e-01],\n",
       "       [ 4.49187338e-01],\n",
       "       [ 1.35924026e-01],\n",
       "       [ 3.71003151e-01],\n",
       "       [ 3.38983759e-02],\n",
       "       [ 8.13980773e-02],\n",
       "       [ 1.37831047e-01],\n",
       "       [ 3.38277459e-01],\n",
       "       [ 1.66621357e-02],\n",
       "       [ 1.12631619e-02],\n",
       "       [ 1.32825240e-01],\n",
       "       [ 2.12015063e-01],\n",
       "       [ 4.41342220e-02],\n",
       "       [ 2.44859666e-01],\n",
       "       [-3.85753810e-04],\n",
       "       [ 3.74337658e-02],\n",
       "       [ 4.49788272e-01],\n",
       "       [ 4.39759120e-02],\n",
       "       [ 1.07978500e-01],\n",
       "       [-1.07567012e-02],\n",
       "       [ 4.44728583e-01],\n",
       "       [ 2.74171531e-01],\n",
       "       [ 2.51411647e-02],\n",
       "       [ 2.06286982e-02],\n",
       "       [ 2.72016972e-03],\n",
       "       [ 1.14084557e-01],\n",
       "       [ 1.43051952e-01],\n",
       "       [ 3.32335979e-02],\n",
       "       [-1.40401721e-03],\n",
       "       [-7.28368759e-05],\n",
       "       [ 3.69941592e-02],\n",
       "       [ 4.59124923e-01],\n",
       "       [ 1.91617474e-01],\n",
       "       [ 3.22948396e-03],\n",
       "       [ 2.18037426e-01],\n",
       "       [ 3.95476937e-01],\n",
       "       [ 2.27043509e-01],\n",
       "       [ 4.08577546e-02],\n",
       "       [ 1.11356415e-01],\n",
       "       [ 7.06497580e-03],\n",
       "       [ 2.71090925e-01],\n",
       "       [ 5.72961457e-02],\n",
       "       [ 3.97451043e-01],\n",
       "       [ 2.70133287e-01],\n",
       "       [ 2.72307917e-02],\n",
       "       [ 8.05301070e-02],\n",
       "       [ 1.11291863e-01],\n",
       "       [ 3.39333713e-02],\n",
       "       [ 1.87380776e-01],\n",
       "       [ 4.01229590e-01],\n",
       "       [ 2.64172330e-02],\n",
       "       [-1.82574987e-03],\n",
       "       [ 1.33914009e-01],\n",
       "       [ 3.98041278e-01],\n",
       "       [ 1.61724120e-01],\n",
       "       [ 2.05065474e-01],\n",
       "       [ 3.40166688e-02],\n",
       "       [ 2.41271242e-01],\n",
       "       [ 3.98377061e-01],\n",
       "       [ 1.26402453e-02],\n",
       "       [ 4.11870480e-01],\n",
       "       [ 1.38535559e-01],\n",
       "       [ 4.80024666e-02],\n",
       "       [ 4.92852330e-02],\n",
       "       [ 1.55598044e-01],\n",
       "       [ 1.60690397e-03],\n",
       "       [ 4.40179378e-01],\n",
       "       [ 2.70362020e-01],\n",
       "       [-1.79433078e-02],\n",
       "       [ 3.98420811e-01],\n",
       "       [ 2.70667285e-01],\n",
       "       [ 4.49423194e-01],\n",
       "       [ 2.71042526e-01],\n",
       "       [ 1.42720357e-01],\n",
       "       [-1.46329403e-03],\n",
       "       [ 3.53984833e-02],\n",
       "       [-1.50702596e-02],\n",
       "       [ 3.99582505e-01],\n",
       "       [ 4.53947842e-01],\n",
       "       [ 2.07729712e-02],\n",
       "       [ 4.09336656e-01],\n",
       "       [ 2.09458917e-02],\n",
       "       [ 1.67313457e-01],\n",
       "       [ 3.11242789e-03],\n",
       "       [ 1.11864574e-01],\n",
       "       [ 4.22215909e-02],\n",
       "       [ 1.09588057e-02],\n",
       "       [ 1.16944239e-02],\n",
       "       [ 2.04000548e-02],\n",
       "       [ 3.86420578e-01],\n",
       "       [ 3.16384882e-02],\n",
       "       [ 3.72619152e-01],\n",
       "       [ 3.47670376e-01],\n",
       "       [ 1.10366493e-02],\n",
       "       [ 4.21901047e-03],\n",
       "       [ 7.58839324e-02],\n",
       "       [ 2.70306468e-01],\n",
       "       [ 4.06680048e-01],\n",
       "       [ 1.17910504e-02],\n",
       "       [ 4.34309751e-01],\n",
       "       [-5.06423414e-04],\n",
       "       [ 2.94720680e-02],\n",
       "       [ 5.48684523e-02],\n",
       "       [ 3.70572150e-01],\n",
       "       [ 1.05970442e-01],\n",
       "       [ 4.55848902e-01],\n",
       "       [ 3.28818336e-02],\n",
       "       [ 3.67128670e-01],\n",
       "       [ 4.43711460e-01],\n",
       "       [ 1.70753539e-01],\n",
       "       [ 3.47087383e-01],\n",
       "       [ 4.45612013e-01],\n",
       "       [ 2.72010148e-01],\n",
       "       [ 2.62241513e-02],\n",
       "       [-9.57846642e-05],\n",
       "       [ 2.68875778e-01],\n",
       "       [ 3.21095735e-02],\n",
       "       [ 4.00549173e-03],\n",
       "       [ 3.98661524e-01],\n",
       "       [ 4.39604074e-02],\n",
       "       [ 1.66306019e-01],\n",
       "       [ 4.26520973e-01],\n",
       "       [ 3.63927707e-02],\n",
       "       [ 1.58658087e-01],\n",
       "       [ 2.76654586e-02],\n",
       "       [ 1.69473141e-02],\n",
       "       [ 1.53003633e-03],\n",
       "       [ 2.71160156e-01],\n",
       "       [ 3.72187316e-01],\n",
       "       [ 2.48781860e-01],\n",
       "       [ 1.94845349e-03],\n",
       "       [ 4.60951835e-01],\n",
       "       [ 2.71519333e-01],\n",
       "       [ 4.08729166e-01],\n",
       "       [ 1.13894016e-01],\n",
       "       [ 2.70963788e-01],\n",
       "       [ 2.51482487e-01],\n",
       "       [ 2.71546543e-01],\n",
       "       [ 4.95380014e-02],\n",
       "       [ 4.05081898e-01],\n",
       "       [-1.80075318e-03],\n",
       "       [ 2.71826327e-01],\n",
       "       [ 1.15597874e-01],\n",
       "       [ 4.80327308e-02],\n",
       "       [ 5.55250794e-03],\n",
       "       [ 2.56092399e-02],\n",
       "       [ 2.12134838e-01],\n",
       "       [ 3.96247149e-01],\n",
       "       [ 2.70294309e-01],\n",
       "       [ 7.16470927e-03],\n",
       "       [ 3.88201326e-03],\n",
       "       [ 2.70003706e-01],\n",
       "       [ 4.00100589e-01],\n",
       "       [ 7.92260021e-02],\n",
       "       [ 2.69537389e-01],\n",
       "       [ 3.87323871e-02],\n",
       "       [ 3.78244996e-01],\n",
       "       [ 3.90641958e-01],\n",
       "       [-1.04944408e-02],\n",
       "       [ 4.53596830e-01],\n",
       "       [ 8.89673308e-02],\n",
       "       [ 2.69745886e-01],\n",
       "       [ 4.03854102e-01],\n",
       "       [ 4.39155489e-01],\n",
       "       [ 1.05765402e-01],\n",
       "       [ 3.15882713e-02],\n",
       "       [ 2.71257818e-01],\n",
       "       [ 1.53571695e-01],\n",
       "       [ 1.06718630e-01],\n",
       "       [ 3.61152351e-01],\n",
       "       [-7.22855330e-04],\n",
       "       [ 2.52493560e-01],\n",
       "       [ 1.37610272e-01],\n",
       "       [ 3.73540074e-03],\n",
       "       [ 1.12395935e-01],\n",
       "       [ 3.97035152e-01],\n",
       "       [ 4.27066177e-01],\n",
       "       [ 1.21682398e-01],\n",
       "       [-8.72559845e-03],\n",
       "       [ 3.75740975e-02],\n",
       "       [ 3.98425490e-01],\n",
       "       [ 4.21286821e-02],\n",
       "       [ 1.47331819e-01],\n",
       "       [ 2.71148801e-01],\n",
       "       [ 4.59278136e-01],\n",
       "       [ 3.63443941e-01],\n",
       "       [ 3.40334922e-02],\n",
       "       [ 3.43118012e-01],\n",
       "       [ 2.69822106e-02],\n",
       "       [ 7.26145506e-03],\n",
       "       [ 4.32874382e-01],\n",
       "       [ 1.72842592e-02],\n",
       "       [ 5.11540473e-03],\n",
       "       [-3.97793949e-04],\n",
       "       [ 4.00501966e-01],\n",
       "       [ 1.62059069e-03],\n",
       "       [ 4.51799691e-01],\n",
       "       [ 3.79081696e-01],\n",
       "       [ 3.49052325e-02],\n",
       "       [ 3.44913527e-02],\n",
       "       [ 4.38460708e-02],\n",
       "       [ 3.93617451e-02],\n",
       "       [ 3.66009995e-02],\n",
       "       [ 3.85099560e-01],\n",
       "       [ 4.53562558e-01],\n",
       "       [ 4.36646104e-01],\n",
       "       [ 5.30511141e-04],\n",
       "       [ 1.68072805e-02],\n",
       "       [-9.24400985e-04],\n",
       "       [ 1.26860514e-01],\n",
       "       [ 2.68841505e-01],\n",
       "       [ 3.97797883e-01],\n",
       "       [ 3.73461515e-01],\n",
       "       [ 6.79455549e-02],\n",
       "       [-6.14301860e-03],\n",
       "       [ 9.20121223e-02],\n",
       "       [ 1.98998168e-01],\n",
       "       [ 2.45985538e-01],\n",
       "       [ 3.50489095e-02],\n",
       "       [ 6.56535178e-02],\n",
       "       [ 1.89992562e-02],\n",
       "       [ 3.45699787e-02],\n",
       "       [ 2.80462205e-02],\n",
       "       [ 2.71306247e-01],\n",
       "       [ 1.42409235e-01],\n",
       "       [ 2.69458920e-01],\n",
       "       [ 3.68115455e-02],\n",
       "       [ 3.49890217e-02],\n",
       "       [-4.73561883e-03],\n",
       "       [ 1.08539388e-02],\n",
       "       [ 1.65935308e-01],\n",
       "       [ 6.45294785e-03],\n",
       "       [-1.16300881e-02],\n",
       "       [ 2.34419420e-01],\n",
       "       [ 1.68409809e-01],\n",
       "       [ 1.64503738e-01],\n",
       "       [ 8.24873149e-02],\n",
       "       [ 4.28741053e-02],\n",
       "       [ 4.58770424e-01],\n",
       "       [ 3.99487644e-01],\n",
       "       [ 4.44644839e-01],\n",
       "       [ 3.86550069e-01],\n",
       "       [ 8.75723138e-02],\n",
       "       [ 1.36792913e-01],\n",
       "       [ 4.41749811e-01],\n",
       "       [ 3.91357660e-01],\n",
       "       [ 4.54478383e-01],\n",
       "       [ 3.50971147e-02],\n",
       "       [ 3.80783826e-02],\n",
       "       [ 4.79700938e-02],\n",
       "       [ 3.43965590e-02],\n",
       "       [-1.17227435e-04],\n",
       "       [ 2.19408303e-01],\n",
       "       [ 1.71062574e-01],\n",
       "       [ 4.54695135e-01],\n",
       "       [ 3.93990517e-01],\n",
       "       [ 3.92004997e-01],\n",
       "       [ 1.24450773e-03],\n",
       "       [-1.04503334e-02],\n",
       "       [ 1.08170509e-03],\n",
       "       [ 2.72362649e-01],\n",
       "       [ 1.18652247e-01],\n",
       "       [ 4.24924076e-01],\n",
       "       [ 1.35063007e-01],\n",
       "       [ 2.71975636e-01],\n",
       "       [ 3.31103802e-03],\n",
       "       [ 5.12661785e-03],\n",
       "       [ 2.32107177e-01],\n",
       "       [ 3.98551702e-01],\n",
       "       [ 2.70551860e-01]], dtype=float32)"
      ]
     },
     "execution_count": 76,
     "metadata": {},
     "output_type": "execute_result"
    }
   ],
   "source": [
    "y_pred"
   ]
  },
  {
   "cell_type": "code",
   "execution_count": 77,
   "metadata": {},
   "outputs": [],
   "source": [
    "output = scaler.inverse_transform(y_pred)"
   ]
  },
  {
   "cell_type": "code",
   "execution_count": 78,
   "metadata": {},
   "outputs": [],
   "source": [
    "real_output = []\n",
    "for item in output:\n",
    "    real_output.append((item[0]))"
   ]
  },
  {
   "cell_type": "code",
   "execution_count": 79,
   "metadata": {},
   "outputs": [
    {
     "data": {
      "text/plain": [
       "[28.259552,\n",
       " -6.0597224,\n",
       " 243.43742,\n",
       " -8.769406,\n",
       " -2.667047,\n",
       " -0.0663752,\n",
       " 405.72946,\n",
       " 403.40393,\n",
       " 122.07172,\n",
       " 333.18912,\n",
       " 30.445587,\n",
       " 73.10362,\n",
       " 123.78435,\n",
       " 303.79916,\n",
       " 14.966247,\n",
       " 10.117592,\n",
       " 119.28879,\n",
       " 190.40675,\n",
       " 39.63809,\n",
       " 219.90349,\n",
       " -0.34394374,\n",
       " 33.620613,\n",
       " 403.94363,\n",
       " 39.495914,\n",
       " 96.974686,\n",
       " -9.657776,\n",
       " 399.39966,\n",
       " 246.22758,\n",
       " 22.581005,\n",
       " 18.528496,\n",
       " 2.4453914,\n",
       " 102.45835,\n",
       " 128.47308,\n",
       " 29.84857,\n",
       " -1.258415,\n",
       " -0.06292258,\n",
       " 33.225815,\n",
       " 412.32858,\n",
       " 172.0883,\n",
       " 2.902791,\n",
       " 195.81525,\n",
       " 355.16827,\n",
       " 203.90334,\n",
       " 36.69559,\n",
       " 100.00829,\n",
       " 6.347329,\n",
       " 243.46098,\n",
       " 51.458412,\n",
       " 356.94116,\n",
       " 242.60095,\n",
       " 24.457634,\n",
       " 72.32412,\n",
       " 99.95032,\n",
       " 30.477015,\n",
       " 168.28345,\n",
       " 360.33456,\n",
       " 23.727003,\n",
       " -1.6371603,\n",
       " 120.26658,\n",
       " 357.47122,\n",
       " 145.24199,\n",
       " 184.16554,\n",
       " 30.551823,\n",
       " 216.68083,\n",
       " 357.77277,\n",
       " 11.354309,\n",
       " 369.8908,\n",
       " 124.41705,\n",
       " 43.11204,\n",
       " 44.264053,\n",
       " 139.74034,\n",
       " 1.4456015,\n",
       " 395.31418,\n",
       " 242.80638,\n",
       " -16.111847,\n",
       " 357.81207,\n",
       " 243.08052,\n",
       " 403.61575,\n",
       " 243.41751,\n",
       " 128.1753,\n",
       " -1.3116497,\n",
       " 31.792788,\n",
       " -13.531651,\n",
       " 358.85535,\n",
       " 407.6792,\n",
       " 18.658062,\n",
       " 367.61526,\n",
       " 18.813358,\n",
       " 150.2616,\n",
       " 2.7976665,\n",
       " 100.46465,\n",
       " 37.920414,\n",
       " 9.844259,\n",
       " 10.504895,\n",
       " 18.323158,\n",
       " 347.03503,\n",
       " 28.41605,\n",
       " 334.64038,\n",
       " 312.23465,\n",
       " 9.914168,\n",
       " 3.7914546,\n",
       " 68.151535,\n",
       " 242.75648,\n",
       " 365.22943,\n",
       " 10.591673,\n",
       " 390.04285,\n",
       " -0.45231342,\n",
       " 26.470457,\n",
       " 49.27817,\n",
       " 332.80203,\n",
       " 95.17131,\n",
       " 409.38647,\n",
       " 29.532661,\n",
       " 329.70956,\n",
       " 398.48624,\n",
       " 153.35103,\n",
       " 311.7111,\n",
       " 400.19305,\n",
       " 244.28651,\n",
       " 23.553602,\n",
       " -0.08353129,\n",
       " 241.47163,\n",
       " 28.839119,\n",
       " 3.5997,\n",
       " 358.02826,\n",
       " 39.48199,\n",
       " 149.35686,\n",
       " 383.04797,\n",
       " 32.685726,\n",
       " 142.48848,\n",
       " 24.847996,\n",
       " 15.222357,\n",
       " 1.376569,\n",
       " 243.52316,\n",
       " 334.25256,\n",
       " 223.42589,\n",
       " 1.7523367,\n",
       " 413.96927,\n",
       " 243.84572,\n",
       " 367.0697,\n",
       " 102.28723,\n",
       " 243.3468,\n",
       " 225.85124,\n",
       " 243.87016,\n",
       " 44.49106,\n",
       " 363.7942,\n",
       " -1.6147115,\n",
       " 244.12143,\n",
       " 103.81741,\n",
       " 43.13922,\n",
       " 4.989028,\n",
       " 23.001368,\n",
       " 190.51431,\n",
       " 355.86,\n",
       " 242.74556,\n",
       " 6.436897,\n",
       " 3.4888077,\n",
       " 242.48459,\n",
       " 359.32062,\n",
       " 71.15295,\n",
       " 242.0658,\n",
       " 34.786865,\n",
       " 339.69278,\n",
       " 350.8261,\n",
       " -9.422247,\n",
       " 407.36398,\n",
       " 79.90134,\n",
       " 242.25305,\n",
       " 362.69156,\n",
       " 394.39465,\n",
       " 94.987175,\n",
       " 28.370953,\n",
       " 243.61087,\n",
       " 137.92055,\n",
       " 95.84324,\n",
       " 324.3424,\n",
       " -0.64668435,\n",
       " 226.75926,\n",
       " 123.586075,\n",
       " 3.3571393,\n",
       " 100.94185,\n",
       " 356.56766,\n",
       " 383.5376,\n",
       " 109.28174,\n",
       " -7.833704,\n",
       " 33.74664,\n",
       " 357.81628,\n",
       " 37.836975,\n",
       " 132.3167,\n",
       " 243.51295,\n",
       " 412.4662,\n",
       " 326.40042,\n",
       " 30.56693,\n",
       " 308.1463,\n",
       " 24.234392,\n",
       " 6.5237813,\n",
       " 388.75378,\n",
       " 15.524957,\n",
       " 4.596479,\n",
       " -0.35475662,\n",
       " 359.6811,\n",
       " 1.4578931,\n",
       " 405.75003,\n",
       " 340.4442,\n",
       " 31.349813,\n",
       " 30.97812,\n",
       " 39.379307,\n",
       " 35.352074,\n",
       " 32.87273,\n",
       " 345.84866,\n",
       " 407.3332,\n",
       " 392.14105,\n",
       " 0.47892588,\n",
       " 15.096597,\n",
       " -0.82768637,\n",
       " 113.93205,\n",
       " 241.44084,\n",
       " 357.25262,\n",
       " 335.39688,\n",
       " 61.02232,\n",
       " -5.5143676,\n",
       " 82.63577,\n",
       " 178.71667,\n",
       " 220.9146,\n",
       " 31.478846,\n",
       " 58.963913,\n",
       " 17.065144,\n",
       " 31.048733,\n",
       " 25.189947,\n",
       " 243.65436,\n",
       " 127.89588,\n",
       " 241.99533,\n",
       " 33.061817,\n",
       " 31.425062,\n",
       " -4.250425,\n",
       " 9.750081,\n",
       " 149.02393,\n",
       " 5.7976856,\n",
       " -10.442138,\n",
       " 210.52742,\n",
       " 151.2462,\n",
       " 147.73828,\n",
       " 74.08183,\n",
       " 38.506416,\n",
       " 412.01022,\n",
       " 358.77017,\n",
       " 399.32446,\n",
       " 347.1513,\n",
       " 78.64851,\n",
       " 122.852036,\n",
       " 396.72452,\n",
       " 351.46887,\n",
       " 408.15567,\n",
       " 31.522139,\n",
       " 34.199524,\n",
       " 43.082966,\n",
       " 30.89299,\n",
       " -0.10278839,\n",
       " 197.0464,\n",
       " 153.62857,\n",
       " 408.3503,\n",
       " 353.83337,\n",
       " 352.05023,\n",
       " 1.1201445,\n",
       " -9.382636,\n",
       " 0.9739364,\n",
       " 244.60307,\n",
       " 106.560455,\n",
       " 381.61383,\n",
       " 121.298454,\n",
       " 244.25551,\n",
       " 2.9760323,\n",
       " 4.6065493,\n",
       " 208.45087,\n",
       " 357.92963,\n",
       " 242.97687]"
      ]
     },
     "execution_count": 79,
     "metadata": {},
     "output_type": "execute_result"
    }
   ],
   "source": [
    "real_output"
   ]
  },
  {
   "cell_type": "code",
   "execution_count": 80,
   "metadata": {},
   "outputs": [
    {
     "name": "stderr",
     "output_type": "stream",
     "text": [
      "C:\\Users\\NaimHasan\\Anaconda3\\envs\\tensorflow_gpuenv\\lib\\site-packages\\ipykernel_launcher.py:1: SettingWithCopyWarning: \n",
      "A value is trying to be set on a copy of a slice from a DataFrame.\n",
      "Try using .loc[row_indexer,col_indexer] = value instead\n",
      "\n",
      "See the caveats in the documentation: http://pandas.pydata.org/pandas-docs/stable/user_guide/indexing.html#returning-a-view-versus-a-copy\n",
      "  \"\"\"Entry point for launching an IPython kernel.\n"
     ]
    }
   ],
   "source": [
    "result['predited value'] = np.array(real_output)\n"
   ]
  },
  {
   "cell_type": "code",
   "execution_count": 81,
   "metadata": {},
   "outputs": [
    {
     "data": {
      "text/html": [
       "<div>\n",
       "<style scoped>\n",
       "    .dataframe tbody tr th:only-of-type {\n",
       "        vertical-align: middle;\n",
       "    }\n",
       "\n",
       "    .dataframe tbody tr th {\n",
       "        vertical-align: top;\n",
       "    }\n",
       "\n",
       "    .dataframe thead th {\n",
       "        text-align: right;\n",
       "    }\n",
       "</style>\n",
       "<table border=\"1\" class=\"dataframe\">\n",
       "  <thead>\n",
       "    <tr style=\"text-align: right;\">\n",
       "      <th></th>\n",
       "      <th>rain</th>\n",
       "      <th>predited value</th>\n",
       "    </tr>\n",
       "  </thead>\n",
       "  <tbody>\n",
       "    <tr>\n",
       "      <th>98</th>\n",
       "      <td>0.05684</td>\n",
       "      <td>28.259552</td>\n",
       "    </tr>\n",
       "    <tr>\n",
       "      <th>228</th>\n",
       "      <td>2.20118</td>\n",
       "      <td>-6.059722</td>\n",
       "    </tr>\n",
       "    <tr>\n",
       "      <th>248</th>\n",
       "      <td>239.81800</td>\n",
       "      <td>243.437424</td>\n",
       "    </tr>\n",
       "    <tr>\n",
       "      <th>240</th>\n",
       "      <td>25.53790</td>\n",
       "      <td>-8.769406</td>\n",
       "    </tr>\n",
       "    <tr>\n",
       "      <th>1249</th>\n",
       "      <td>6.00206</td>\n",
       "      <td>-2.667047</td>\n",
       "    </tr>\n",
       "  </tbody>\n",
       "</table>\n",
       "</div>"
      ],
      "text/plain": [
       "           rain  predited value\n",
       "98      0.05684       28.259552\n",
       "228     2.20118       -6.059722\n",
       "248   239.81800      243.437424\n",
       "240    25.53790       -8.769406\n",
       "1249    6.00206       -2.667047"
      ]
     },
     "execution_count": 81,
     "metadata": {},
     "output_type": "execute_result"
    }
   ],
   "source": [
    "result.head()\n"
   ]
  },
  {
   "cell_type": "code",
   "execution_count": 102,
   "metadata": {},
   "outputs": [],
   "source": [
    "from sklearn.metrics import mean_squared_error\n",
    "mse = mean_squared_error(np.array(result['rain']), np.array(result['predited value']))"
   ]
  },
  {
   "cell_type": "code",
   "execution_count": 103,
   "metadata": {},
   "outputs": [
    {
     "name": "stdout",
     "output_type": "stream",
     "text": [
      "MSE: 11793.38024015486\n",
      "MSE: 108.5973307229734\n"
     ]
    }
   ],
   "source": [
    "import math\n",
    "print (\"MSE: \"+str(mse))\n",
    "print (\"MSE: \"+str(math.sqrt(mse)))"
   ]
  },
  {
   "cell_type": "code",
   "execution_count": 104,
   "metadata": {},
   "outputs": [],
   "source": [
    "weather = pd.read_csv(r\"C:\\SPB_Data\\bangladesh-weather-dataset\\bangladesh-weather-dataset\\datasets\\weather\\weather.csv\")\n",
    "X = weather.drop('rain',axis=1)\n",
    "y = weather[['rain']]\n",
    "x_train,x_test,y_train,y_test = train_test_split(X,y,test_size=.2)"
   ]
  },
  {
   "cell_type": "code",
   "execution_count": 105,
   "metadata": {},
   "outputs": [],
   "source": [
    "from sklearn.neighbors import KNeighborsRegressor"
   ]
  },
  {
   "cell_type": "code",
   "execution_count": 106,
   "metadata": {
    "scrolled": true
   },
   "outputs": [],
   "source": [
    "knn = KNeighborsRegressor(n_neighbors=5)\n"
   ]
  },
  {
   "cell_type": "code",
   "execution_count": 107,
   "metadata": {},
   "outputs": [],
   "source": [
    "knn.fit(x_train,y_train)\n",
    "predicted=knn.predict(x_test)"
   ]
  },
  {
   "cell_type": "code",
   "execution_count": 108,
   "metadata": {},
   "outputs": [
    {
     "data": {
      "text/plain": [
       "array([[362.1782  ],\n",
       "       [  1.878564],\n",
       "       [494.8436  ],\n",
       "       [115.697508],\n",
       "       [377.602   ],\n",
       "       [292.7662  ],\n",
       "       [507.349   ],\n",
       "       [234.164   ],\n",
       "       [536.372   ],\n",
       "       [170.9079  ],\n",
       "       [ 10.526732],\n",
       "       [248.6378  ],\n",
       "       [605.2798  ],\n",
       "       [287.35    ],\n",
       "       [383.5076  ],\n",
       "       [ 23.133538],\n",
       "       [507.7308  ],\n",
       "       [289.7608  ],\n",
       "       [256.9022  ],\n",
       "       [423.8798  ],\n",
       "       [  6.337798],\n",
       "       [488.297   ],\n",
       "       [  2.585508],\n",
       "       [286.9048  ],\n",
       "       [ 21.511416],\n",
       "       [458.3682  ],\n",
       "       [183.7768  ],\n",
       "       [ 20.220294],\n",
       "       [502.1708  ],\n",
       "       [ 11.355774],\n",
       "       [388.0922  ],\n",
       "       [349.77718 ],\n",
       "       [546.5742  ],\n",
       "       [218.7143  ],\n",
       "       [598.465   ],\n",
       "       [369.5018  ],\n",
       "       [550.3438  ],\n",
       "       [ 66.244686],\n",
       "       [225.09466 ],\n",
       "       [526.3942  ],\n",
       "       [ 80.640322],\n",
       "       [325.1484  ],\n",
       "       [432.0086  ],\n",
       "       [399.6194  ],\n",
       "       [ 34.03604 ],\n",
       "       [373.37266 ],\n",
       "       [ 16.71107 ],\n",
       "       [ 10.384462],\n",
       "       [  8.632812],\n",
       "       [  4.640518],\n",
       "       [ 55.462014],\n",
       "       [ 35.760276],\n",
       "       [450.6728  ],\n",
       "       [ 16.495524],\n",
       "       [449.1852  ],\n",
       "       [369.3876  ],\n",
       "       [ 13.956616],\n",
       "       [ 11.978874],\n",
       "       [ 16.74378 ],\n",
       "       [241.7614  ],\n",
       "       [ 57.732094],\n",
       "       [ 10.131554],\n",
       "       [ 52.8871  ],\n",
       "       [ 21.05416 ],\n",
       "       [232.8279  ],\n",
       "       [480.9298  ],\n",
       "       [400.2224  ],\n",
       "       [387.7362  ],\n",
       "       [512.1836  ],\n",
       "       [  8.077144],\n",
       "       [ 12.280126],\n",
       "       [425.203   ],\n",
       "       [250.434   ],\n",
       "       [375.612   ],\n",
       "       [470.1422  ],\n",
       "       [103.366038],\n",
       "       [  8.828194],\n",
       "       [343.6142  ],\n",
       "       [ 20.16989 ],\n",
       "       [358.0876  ],\n",
       "       [295.2088  ],\n",
       "       [342.9904  ],\n",
       "       [405.0852  ],\n",
       "       [  6.644236],\n",
       "       [313.83986 ],\n",
       "       [444.3612  ],\n",
       "       [150.20292 ],\n",
       "       [331.4694  ],\n",
       "       [  9.1693  ],\n",
       "       [  9.820242],\n",
       "       [416.947   ],\n",
       "       [446.051   ],\n",
       "       [ 14.973008],\n",
       "       [230.4258  ],\n",
       "       [ 62.84016 ],\n",
       "       [502.4022  ],\n",
       "       [238.90618 ],\n",
       "       [434.2072  ],\n",
       "       [395.0822  ],\n",
       "       [378.1778  ],\n",
       "       [ 34.9854  ],\n",
       "       [ 11.474416],\n",
       "       [391.7558  ],\n",
       "       [  6.65431 ],\n",
       "       [ 58.843902],\n",
       "       [334.607   ],\n",
       "       [337.8266  ],\n",
       "       [ 14.001038],\n",
       "       [122.62346 ],\n",
       "       [385.721   ],\n",
       "       [373.3772  ],\n",
       "       [521.4542  ],\n",
       "       [313.15378 ],\n",
       "       [  3.732942],\n",
       "       [  2.944586],\n",
       "       [336.281   ],\n",
       "       [397.9598  ],\n",
       "       [  9.769102],\n",
       "       [547.3582  ],\n",
       "       [436.727   ],\n",
       "       [294.254   ],\n",
       "       [448.893   ],\n",
       "       [269.1038  ],\n",
       "       [234.2578  ],\n",
       "       [ 15.2112  ],\n",
       "       [155.64692 ],\n",
       "       [ 33.441548],\n",
       "       [483.7536  ],\n",
       "       [183.29052 ],\n",
       "       [ 10.700338],\n",
       "       [221.2752  ],\n",
       "       [ 10.810218],\n",
       "       [ 87.46553 ],\n",
       "       [495.0394  ],\n",
       "       [417.1678  ],\n",
       "       [231.92208 ],\n",
       "       [356.0928  ],\n",
       "       [434.4678  ],\n",
       "       [ 40.316314],\n",
       "       [464.317   ],\n",
       "       [ 37.906414],\n",
       "       [ 61.292716],\n",
       "       [462.295   ],\n",
       "       [  6.490432],\n",
       "       [374.9018  ],\n",
       "       [175.46784 ],\n",
       "       [435.609   ],\n",
       "       [ 15.963202],\n",
       "       [ 10.374482],\n",
       "       [555.005   ],\n",
       "       [434.2416  ],\n",
       "       [482.212   ],\n",
       "       [273.9982  ],\n",
       "       [205.48732 ],\n",
       "       [ 14.769154],\n",
       "       [ 58.62526 ],\n",
       "       [240.3554  ],\n",
       "       [229.34984 ],\n",
       "       [536.1262  ],\n",
       "       [360.8996  ],\n",
       "       [258.2852  ],\n",
       "       [  8.682992],\n",
       "       [220.4632  ],\n",
       "       [ 94.2135  ],\n",
       "       [ 11.63029 ],\n",
       "       [253.30254 ],\n",
       "       [238.50608 ],\n",
       "       [422.0728  ],\n",
       "       [519.179   ],\n",
       "       [ 15.431568],\n",
       "       [227.3222  ],\n",
       "       [ 17.071712],\n",
       "       [446.7748  ],\n",
       "       [ 38.929698],\n",
       "       [332.8918  ],\n",
       "       [256.5248  ],\n",
       "       [ 44.990374],\n",
       "       [273.99326 ],\n",
       "       [ 24.302872],\n",
       "       [405.8132  ],\n",
       "       [ 10.533722],\n",
       "       [188.0668  ],\n",
       "       [507.3944  ],\n",
       "       [268.8767  ],\n",
       "       [ 43.928972],\n",
       "       [  3.611758],\n",
       "       [ 14.129112],\n",
       "       [430.2702  ],\n",
       "       [490.247   ],\n",
       "       [323.639   ],\n",
       "       [ 85.846566],\n",
       "       [462.288   ],\n",
       "       [ 19.826286],\n",
       "       [322.8045  ],\n",
       "       [  1.804442],\n",
       "       [459.9872  ],\n",
       "       [381.0592  ],\n",
       "       [363.9112  ],\n",
       "       [383.6764  ],\n",
       "       [471.7514  ],\n",
       "       [428.2226  ],\n",
       "       [  7.629458],\n",
       "       [325.4612  ],\n",
       "       [111.746402],\n",
       "       [ 14.68644 ],\n",
       "       [512.5936  ],\n",
       "       [311.981   ],\n",
       "       [ 39.79647 ],\n",
       "       [316.233   ],\n",
       "       [324.839   ],\n",
       "       [457.2188  ],\n",
       "       [398.8256  ],\n",
       "       [  9.961242],\n",
       "       [ 38.960852],\n",
       "       [150.10765 ],\n",
       "       [537.8262  ],\n",
       "       [339.8392  ],\n",
       "       [460.438   ],\n",
       "       [311.0364  ],\n",
       "       [350.7398  ],\n",
       "       [327.999   ],\n",
       "       [243.1832  ],\n",
       "       [ 20.64228 ],\n",
       "       [253.6502  ],\n",
       "       [280.1168  ],\n",
       "       [ 49.10202 ],\n",
       "       [ 51.337422],\n",
       "       [ 60.30898 ],\n",
       "       [544.867   ],\n",
       "       [ 65.296556],\n",
       "       [ 19.469822],\n",
       "       [  1.99784 ],\n",
       "       [502.2476  ],\n",
       "       [252.826   ],\n",
       "       [280.6328  ],\n",
       "       [ 19.524126],\n",
       "       [ 16.71107 ],\n",
       "       [  8.066152],\n",
       "       [510.966   ],\n",
       "       [  8.305224],\n",
       "       [ 12.146324],\n",
       "       [522.9348  ],\n",
       "       [ 69.619202],\n",
       "       [ 21.480618],\n",
       "       [497.027   ],\n",
       "       [235.2811  ],\n",
       "       [  9.320246],\n",
       "       [  2.679902],\n",
       "       [258.3992  ],\n",
       "       [  6.866732],\n",
       "       [448.8646  ],\n",
       "       [491.9138  ],\n",
       "       [ 57.24768 ],\n",
       "       [277.4944  ],\n",
       "       [280.24384 ],\n",
       "       [  6.669736],\n",
       "       [  9.579406],\n",
       "       [266.9712  ],\n",
       "       [593.5176  ],\n",
       "       [343.013   ],\n",
       "       [505.8104  ],\n",
       "       [244.0518  ],\n",
       "       [353.3872  ],\n",
       "       [  4.90001 ],\n",
       "       [376.5384  ],\n",
       "       [266.9712  ],\n",
       "       [  8.825476],\n",
       "       [ 17.071712],\n",
       "       [386.49644 ],\n",
       "       [319.4076  ],\n",
       "       [  3.450666],\n",
       "       [  8.969116],\n",
       "       [247.5912  ],\n",
       "       [387.0442  ],\n",
       "       [175.7665  ],\n",
       "       [ 13.41524 ]])"
      ]
     },
     "execution_count": 108,
     "metadata": {},
     "output_type": "execute_result"
    }
   ],
   "source": [
    "predicted"
   ]
  },
  {
   "cell_type": "code",
   "execution_count": 109,
   "metadata": {},
   "outputs": [],
   "source": [
    "real_output = []\n",
    "for item in predicted:\n",
    "    real_output.append((item[0]))"
   ]
  },
  {
   "cell_type": "code",
   "execution_count": 110,
   "metadata": {},
   "outputs": [
    {
     "data": {
      "text/plain": [
       "[362.17820000000006,\n",
       " 1.8785639999999997,\n",
       " 494.8436,\n",
       " 115.697508,\n",
       " 377.60200000000003,\n",
       " 292.76619999999997,\n",
       " 507.349,\n",
       " 234.16400000000004,\n",
       " 536.372,\n",
       " 170.9079,\n",
       " 10.526731999999999,\n",
       " 248.63780000000003,\n",
       " 605.2798,\n",
       " 287.35,\n",
       " 383.5076,\n",
       " 23.133537999999998,\n",
       " 507.7308,\n",
       " 289.7608,\n",
       " 256.9022,\n",
       " 423.8798,\n",
       " 6.337798,\n",
       " 488.297,\n",
       " 2.5855080000000004,\n",
       " 286.90479999999997,\n",
       " 21.511416,\n",
       " 458.36820000000006,\n",
       " 183.7768,\n",
       " 20.220294000000003,\n",
       " 502.17080000000004,\n",
       " 11.355774,\n",
       " 388.0922,\n",
       " 349.77718,\n",
       " 546.5741999999999,\n",
       " 218.7143,\n",
       " 598.4649999999999,\n",
       " 369.5018,\n",
       " 550.3438,\n",
       " 66.244686,\n",
       " 225.09466000000003,\n",
       " 526.3942,\n",
       " 80.640322,\n",
       " 325.14840000000004,\n",
       " 432.00859999999994,\n",
       " 399.6194,\n",
       " 34.03604,\n",
       " 373.37266,\n",
       " 16.71107,\n",
       " 10.384462,\n",
       " 8.632812,\n",
       " 4.640518,\n",
       " 55.462013999999996,\n",
       " 35.760276,\n",
       " 450.6728,\n",
       " 16.495524,\n",
       " 449.1852,\n",
       " 369.38759999999996,\n",
       " 13.956615999999997,\n",
       " 11.978874000000001,\n",
       " 16.74378,\n",
       " 241.7614,\n",
       " 57.732094000000004,\n",
       " 10.131554,\n",
       " 52.8871,\n",
       " 21.054160000000003,\n",
       " 232.8279,\n",
       " 480.92980000000006,\n",
       " 400.2224,\n",
       " 387.73619999999994,\n",
       " 512.1836000000001,\n",
       " 8.077144,\n",
       " 12.280126000000001,\n",
       " 425.203,\n",
       " 250.43399999999997,\n",
       " 375.61199999999997,\n",
       " 470.14220000000006,\n",
       " 103.366038,\n",
       " 8.828194,\n",
       " 343.6142,\n",
       " 20.169890000000002,\n",
       " 358.0876,\n",
       " 295.2088,\n",
       " 342.9904,\n",
       " 405.0852,\n",
       " 6.644236000000001,\n",
       " 313.83986,\n",
       " 444.3612,\n",
       " 150.20292,\n",
       " 331.46939999999995,\n",
       " 9.1693,\n",
       " 9.820241999999999,\n",
       " 416.947,\n",
       " 446.05100000000004,\n",
       " 14.973007999999998,\n",
       " 230.42579999999998,\n",
       " 62.840160000000004,\n",
       " 502.4022,\n",
       " 238.90618,\n",
       " 434.2072,\n",
       " 395.08220000000006,\n",
       " 378.17780000000005,\n",
       " 34.9854,\n",
       " 11.474416,\n",
       " 391.7558,\n",
       " 6.65431,\n",
       " 58.843902,\n",
       " 334.60699999999997,\n",
       " 337.8266,\n",
       " 14.001038,\n",
       " 122.62346,\n",
       " 385.721,\n",
       " 373.3772,\n",
       " 521.4541999999999,\n",
       " 313.15378,\n",
       " 3.732942,\n",
       " 2.9445859999999997,\n",
       " 336.28099999999995,\n",
       " 397.9598,\n",
       " 9.769102,\n",
       " 547.3582,\n",
       " 436.727,\n",
       " 294.254,\n",
       " 448.89300000000003,\n",
       " 269.1038,\n",
       " 234.2578,\n",
       " 15.2112,\n",
       " 155.64692,\n",
       " 33.441548,\n",
       " 483.7536,\n",
       " 183.29052,\n",
       " 10.700338,\n",
       " 221.27519999999998,\n",
       " 10.810218,\n",
       " 87.46552999999999,\n",
       " 495.0394,\n",
       " 417.1678,\n",
       " 231.92208,\n",
       " 356.0928,\n",
       " 434.4678,\n",
       " 40.316314000000006,\n",
       " 464.317,\n",
       " 37.906414,\n",
       " 61.292716,\n",
       " 462.2949999999999,\n",
       " 6.490432,\n",
       " 374.9018,\n",
       " 175.46784,\n",
       " 435.60900000000004,\n",
       " 15.963202,\n",
       " 10.374481999999999,\n",
       " 555.0049999999999,\n",
       " 434.2416,\n",
       " 482.2119999999999,\n",
       " 273.99820000000005,\n",
       " 205.48732,\n",
       " 14.769154,\n",
       " 58.625260000000004,\n",
       " 240.3554,\n",
       " 229.34984,\n",
       " 536.1261999999999,\n",
       " 360.8996,\n",
       " 258.2852,\n",
       " 8.682992,\n",
       " 220.4632,\n",
       " 94.2135,\n",
       " 11.630289999999999,\n",
       " 253.30254,\n",
       " 238.50607999999997,\n",
       " 422.07280000000003,\n",
       " 519.179,\n",
       " 15.431567999999999,\n",
       " 227.32219999999998,\n",
       " 17.071711999999998,\n",
       " 446.7748,\n",
       " 38.929697999999995,\n",
       " 332.8918,\n",
       " 256.52479999999997,\n",
       " 44.990374,\n",
       " 273.99325999999996,\n",
       " 24.302871999999997,\n",
       " 405.8132,\n",
       " 10.533722,\n",
       " 188.0668,\n",
       " 507.39439999999996,\n",
       " 268.87669999999997,\n",
       " 43.928972,\n",
       " 3.6117580000000005,\n",
       " 14.129112000000001,\n",
       " 430.27020000000005,\n",
       " 490.24699999999996,\n",
       " 323.639,\n",
       " 85.846566,\n",
       " 462.288,\n",
       " 19.826286000000003,\n",
       " 322.8045,\n",
       " 1.8044419999999999,\n",
       " 459.9871999999999,\n",
       " 381.0592,\n",
       " 363.9112,\n",
       " 383.6764,\n",
       " 471.75139999999993,\n",
       " 428.22259999999994,\n",
       " 7.629458,\n",
       " 325.4612,\n",
       " 111.74640199999999,\n",
       " 14.68644,\n",
       " 512.5936,\n",
       " 311.981,\n",
       " 39.79647,\n",
       " 316.233,\n",
       " 324.839,\n",
       " 457.2188,\n",
       " 398.8256,\n",
       " 9.961242,\n",
       " 38.960852,\n",
       " 150.10764999999998,\n",
       " 537.8262,\n",
       " 339.8392,\n",
       " 460.438,\n",
       " 311.0364,\n",
       " 350.7398,\n",
       " 327.99899999999997,\n",
       " 243.18320000000003,\n",
       " 20.64228,\n",
       " 253.65020000000004,\n",
       " 280.11680000000007,\n",
       " 49.102019999999996,\n",
       " 51.337422000000004,\n",
       " 60.308980000000005,\n",
       " 544.867,\n",
       " 65.29655600000001,\n",
       " 19.469822,\n",
       " 1.99784,\n",
       " 502.2476,\n",
       " 252.82600000000002,\n",
       " 280.6328,\n",
       " 19.524126000000003,\n",
       " 16.71107,\n",
       " 8.066151999999999,\n",
       " 510.966,\n",
       " 8.305224,\n",
       " 12.146324,\n",
       " 522.9348,\n",
       " 69.619202,\n",
       " 21.480618,\n",
       " 497.02700000000004,\n",
       " 235.28109999999998,\n",
       " 9.320246000000001,\n",
       " 2.679902,\n",
       " 258.39919999999995,\n",
       " 6.866732000000001,\n",
       " 448.86460000000005,\n",
       " 491.9138,\n",
       " 57.24767999999999,\n",
       " 277.4944,\n",
       " 280.24384,\n",
       " 6.669736,\n",
       " 9.579406,\n",
       " 266.9712,\n",
       " 593.5176,\n",
       " 343.01300000000003,\n",
       " 505.8104,\n",
       " 244.05180000000001,\n",
       " 353.38719999999995,\n",
       " 4.90001,\n",
       " 376.5384,\n",
       " 266.97120000000007,\n",
       " 8.825476,\n",
       " 17.071711999999998,\n",
       " 386.49644,\n",
       " 319.40760000000006,\n",
       " 3.4506659999999996,\n",
       " 8.969116,\n",
       " 247.5912,\n",
       " 387.04420000000005,\n",
       " 175.7665,\n",
       " 13.41524]"
      ]
     },
     "execution_count": 110,
     "metadata": {},
     "output_type": "execute_result"
    }
   ],
   "source": [
    "real_output"
   ]
  },
  {
   "cell_type": "code",
   "execution_count": 111,
   "metadata": {},
   "outputs": [],
   "source": [
    "from sklearn.metrics import mean_squared_error\n",
    "mse = mean_squared_error(np.array(y_test), np.array(real_output))"
   ]
  },
  {
   "cell_type": "code",
   "execution_count": 112,
   "metadata": {},
   "outputs": [
    {
     "name": "stdout",
     "output_type": "stream",
     "text": [
      "MSE: 9964.904354866207\n",
      "MSE: 99.82436754052694\n"
     ]
    }
   ],
   "source": [
    "import math\n",
    "print (\"MSE: \"+str(mse))\n",
    "print (\"MSE: \"+str(math.sqrt(mse)))"
   ]
  },
  {
   "cell_type": "code",
   "execution_count": 113,
   "metadata": {},
   "outputs": [],
   "source": [
    "accuracy=[]\n",
    "for k in range(1,50):\n",
    "    knn = KNeighborsRegressor(n_neighbors=k)\n",
    "    knn.fit(x_train,y_train)\n",
    "    accuracy.append(knn.score(x_test,y_test))\n"
   ]
  },
  {
   "cell_type": "code",
   "execution_count": 114,
   "metadata": {},
   "outputs": [
    {
     "data": {
      "text/plain": [
       "[<matplotlib.lines.Line2D at 0x226041dae48>]"
      ]
     },
     "execution_count": 114,
     "metadata": {},
     "output_type": "execute_result"
    },
    {
     "data": {
      "image/png": "[encoded data removed]",
      "text/plain": [
       "<Figure size 432x288 with 1 Axes>"
      ]
     },
     "metadata": {},
     "output_type": "display_data"
    }
   ],
   "source": [
    "plt.plot(range(1,50),accuracy)"
   ]
  },
  {
   "cell_type": "code",
   "execution_count": 115,
   "metadata": {},
   "outputs": [
    {
     "data": {
      "text/plain": [
       "<matplotlib.legend.Legend at 0x2260424a2e8>"
      ]
     },
     "execution_count": 115,
     "metadata": {},
     "output_type": "execute_result"
    },
    {
     "data": {
      "image/png": "[encoded data removed]",
      "text/plain": [
       "<Figure size 432x288 with 1 Axes>"
      ]
     },
     "metadata": {},
     "output_type": "display_data"
    }
   ],
   "source": [
    "training_accuracy=[]\n",
    "testing_accuracy=[]\n",
    "\n",
    "neighbors = list(range(1,50))\n",
    "\n",
    "\n",
    "for k in neighbors:\n",
    "    knn = KNeighborsRegressor(n_neighbors=k)\n",
    "    knn.fit(x_train,y_train)\n",
    "    training_accuracy.append(knn.score(x_train,y_train))\n",
    "    testing_accuracy.append(knn.score(x_test,y_test))    \n",
    "\n",
    "plt.plot(neighbors,training_accuracy,label='training accuracy')\n",
    "plt.plot(neighbors,testing_accuracy,label='testing accuracy')\n",
    "plt.ylabel(\"Accuracy\")\n",
    "plt.xlabel(\"K value\")\n",
    "plt.legend()"
   ]
  },
  {
   "cell_type": "code",
   "execution_count": 116,
   "metadata": {},
   "outputs": [
    {
     "name": "stdout",
     "output_type": "stream",
     "text": [
      "[0.53926205 0.63794373 0.63591033 0.6132531  0.70957694 0.65164386\n",
      " 0.68751551 0.68529809 0.59948161 0.57247632]\n",
      "0.6332361530807367\n",
      "Mean Accuracy 0.6332361530807367\n"
     ]
    }
   ],
   "source": [
    "from sklearn.model_selection import cross_val_score\n",
    "\n",
    "knn = KNeighborsRegressor(n_neighbors=5)\n",
    "\n",
    "scores = cross_val_score(knn,X,y,cv=10)\n",
    "\n",
    "print (scores)\n",
    "print (scores.mean())\n",
    "\n",
    "print (\"Mean Accuracy \"+str(scores.mean()))"
   ]
  },
  {
   "cell_type": "code",
   "execution_count": 117,
   "metadata": {},
   "outputs": [
    {
     "name": "stdout",
     "output_type": "stream",
     "text": [
      "[0.5890862800332627, 0.6368412357716976, 0.6251761466175294, 0.635131905707175, 0.6332361530807367, 0.6240289491085217, 0.6146147414997081, 0.5932227642880721, 0.5790634878801005, 0.5654580681628537, 0.5539408488627677, 0.5502078592164259, 0.5435095390772633, 0.5371952374012771, 0.5213913830423494, 0.5108500900341703, 0.5000941004449586, 0.48975940807935625, 0.4856129507215143, 0.4746927772419194, 0.46610143580782876, 0.45696397411776524, 0.4449989935124198, 0.436538713158126, 0.4240497048372494, 0.4139526525889913, 0.406609075788854, 0.40160785078752215, 0.39513067306474814, 0.3909585186926251, 0.3824885396086105, 0.3791323790945146, 0.37193650066123923, 0.36629309819768263, 0.36070701438600195, 0.35530915992143586, 0.3490393727230455, 0.34224798499785924, 0.33827620924195567, 0.3332144266850137, 0.327320875525738, 0.3215561550409562, 0.31595712644398144, 0.31063489186640314, 0.3055315803108783, 0.3050221750332077, 0.3051704674402034, 0.30375369421732595, 0.30326175496278523]\n"
     ]
    },
    {
     "data": {
      "text/plain": [
       "Text(0, 0.5, 'scores')"
      ]
     },
     "execution_count": 117,
     "metadata": {},
     "output_type": "execute_result"
    },
    {
     "data": {
      "image/png": "[encoded data removed]",
      "text/plain": [
       "<Figure size 432x288 with 1 Axes>"
      ]
     },
     "metadata": {},
     "output_type": "display_data"
    }
   ],
   "source": [
    "k_range = range(1,50)\n",
    "k_scores = []\n",
    "\n",
    "for k in k_range:\n",
    "    knn = KNeighborsRegressor(n_neighbors=k)\n",
    "    scores = cross_val_score(knn,X,y,cv=10)\n",
    "    k_scores.append(scores.mean())\n",
    "    \n",
    "print (k_scores)\n",
    "\n",
    "\n",
    "plt.plot(k_range,k_scores)\n",
    "plt.xlabel(\"k range\")\n",
    "plt.ylabel(\"scores\")"
   ]
  },
  {
   "cell_type": "code",
   "execution_count": 118,
   "metadata": {},
   "outputs": [],
   "source": [
    "from sklearn.tree import DecisionTreeRegressor"
   ]
  },
  {
   "cell_type": "code",
   "execution_count": 119,
   "metadata": {},
   "outputs": [],
   "source": [
    "tree_clf = DecisionTreeRegressor(max_depth=2,random_state=42)"
   ]
  },
  {
   "cell_type": "code",
   "execution_count": 120,
   "metadata": {},
   "outputs": [
    {
     "data": {
      "text/plain": [
       "DecisionTreeRegressor(criterion='mse', max_depth=2, max_features=None,\n",
       "                      max_leaf_nodes=None, min_impurity_decrease=0.0,\n",
       "                      min_impurity_split=None, min_samples_leaf=1,\n",
       "                      min_samples_split=2, min_weight_fraction_leaf=0.0,\n",
       "                      presort=False, random_state=42, splitter='best')"
      ]
     },
     "execution_count": 120,
     "metadata": {},
     "output_type": "execute_result"
    }
   ],
   "source": [
    "tree_clf.fit(X,y)"
   ]
  },
  {
   "cell_type": "code",
   "execution_count": 121,
   "metadata": {},
   "outputs": [
    {
     "data": {
      "text/plain": [
       "0.7059955999135619"
      ]
     },
     "execution_count": 121,
     "metadata": {},
     "output_type": "execute_result"
    }
   ],
   "source": [
    "tree_clf.score(X,y)"
   ]
  },
  {
   "cell_type": "code",
   "execution_count": 122,
   "metadata": {},
   "outputs": [],
   "source": [
    "accuracy=[]\n",
    "for depth in range(1,50):\n",
    "    dt = DecisionTreeRegressor(max_depth=depth,random_state=42)\n",
    "    dt.fit(x_train,y_train)\n",
    "    accuracy.append(dt.score(x_test,y_test))"
   ]
  },
  {
   "cell_type": "code",
   "execution_count": 123,
   "metadata": {},
   "outputs": [
    {
     "data": {
      "text/plain": [
       "[<matplotlib.lines.Line2D at 0x2260d5b3128>]"
      ]
     },
     "execution_count": 123,
     "metadata": {},
     "output_type": "execute_result"
    },
    {
     "data": {
      "image/png": "[encoded data removed]",
      "text/plain": [
       "<Figure size 432x288 with 1 Axes>"
      ]
     },
     "metadata": {},
     "output_type": "display_data"
    }
   ],
   "source": [
    "plt.plot(range(1,50),accuracy)"
   ]
  },
  {
   "cell_type": "code",
   "execution_count": 124,
   "metadata": {},
   "outputs": [],
   "source": [
    "from sklearn.ensemble import RandomForestRegressor"
   ]
  },
  {
   "cell_type": "code",
   "execution_count": 125,
   "metadata": {},
   "outputs": [],
   "source": [
    "rnd = RandomForestRegressor(max_depth=10)"
   ]
  },
  {
   "cell_type": "code",
   "execution_count": 126,
   "metadata": {},
   "outputs": [
    {
     "name": "stderr",
     "output_type": "stream",
     "text": [
      "C:\\Users\\NaimHasan\\Anaconda3\\envs\\tensorflow_gpuenv\\lib\\site-packages\\sklearn\\ensemble\\forest.py:245: FutureWarning: The default value of n_estimators will change from 10 in version 0.20 to 100 in 0.22.\n",
      "  \"10 in version 0.20 to 100 in 0.22.\", FutureWarning)\n",
      "C:\\Users\\NaimHasan\\Anaconda3\\envs\\tensorflow_gpuenv\\lib\\site-packages\\ipykernel_launcher.py:1: DataConversionWarning: A column-vector y was passed when a 1d array was expected. Please change the shape of y to (n_samples,), for example using ravel().\n",
      "  \"\"\"Entry point for launching an IPython kernel.\n"
     ]
    },
    {
     "data": {
      "text/plain": [
       "RandomForestRegressor(bootstrap=True, criterion='mse', max_depth=10,\n",
       "                      max_features='auto', max_leaf_nodes=None,\n",
       "                      min_impurity_decrease=0.0, min_impurity_split=None,\n",
       "                      min_samples_leaf=1, min_samples_split=2,\n",
       "                      min_weight_fraction_leaf=0.0, n_estimators=10,\n",
       "                      n_jobs=None, oob_score=False, random_state=None,\n",
       "                      verbose=0, warm_start=False)"
      ]
     },
     "execution_count": 126,
     "metadata": {},
     "output_type": "execute_result"
    }
   ],
   "source": [
    "rnd.fit(x_train,y_train)\n"
   ]
  },
  {
   "cell_type": "code",
   "execution_count": 127,
   "metadata": {},
   "outputs": [
    {
     "data": {
      "text/plain": [
       "0.8122802952426994"
      ]
     },
     "execution_count": 127,
     "metadata": {},
     "output_type": "execute_result"
    }
   ],
   "source": [
    "rnd.score(x_test,y_test)"
   ]
  },
  {
   "cell_type": "code",
   "execution_count": 128,
   "metadata": {},
   "outputs": [
    {
     "name": "stderr",
     "output_type": "stream",
     "text": [
      "C:\\Users\\NaimHasan\\Anaconda3\\envs\\tensorflow_gpuenv\\lib\\site-packages\\sklearn\\ensemble\\forest.py:245: FutureWarning: The default value of n_estimators will change from 10 in version 0.20 to 100 in 0.22.\n",
      "  \"10 in version 0.20 to 100 in 0.22.\", FutureWarning)\n",
      "C:\\Users\\NaimHasan\\Anaconda3\\envs\\tensorflow_gpuenv\\lib\\site-packages\\ipykernel_launcher.py:4: DataConversionWarning: A column-vector y was passed when a 1d array was expected. Please change the shape of y to (n_samples,), for example using ravel().\n",
      "  after removing the cwd from sys.path.\n",
      "C:\\Users\\NaimHasan\\Anaconda3\\envs\\tensorflow_gpuenv\\lib\\site-packages\\sklearn\\ensemble\\forest.py:245: FutureWarning: The default value of n_estimators will change from 10 in version 0.20 to 100 in 0.22.\n",
      "  \"10 in version 0.20 to 100 in 0.22.\", FutureWarning)\n",
      "C:\\Users\\NaimHasan\\Anaconda3\\envs\\tensorflow_gpuenv\\lib\\site-packages\\ipykernel_launcher.py:4: DataConversionWarning: A column-vector y was passed when a 1d array was expected. Please change the shape of y to (n_samples,), for example using ravel().\n",
      "  after removing the cwd from sys.path.\n",
      "C:\\Users\\NaimHasan\\Anaconda3\\envs\\tensorflow_gpuenv\\lib\\site-packages\\sklearn\\ensemble\\forest.py:245: FutureWarning: The default value of n_estimators will change from 10 in version 0.20 to 100 in 0.22.\n",
      "  \"10 in version 0.20 to 100 in 0.22.\", FutureWarning)\n",
      "C:\\Users\\NaimHasan\\Anaconda3\\envs\\tensorflow_gpuenv\\lib\\site-packages\\ipykernel_launcher.py:4: DataConversionWarning: A column-vector y was passed when a 1d array was expected. Please change the shape of y to (n_samples,), for example using ravel().\n",
      "  after removing the cwd from sys.path.\n",
      "C:\\Users\\NaimHasan\\Anaconda3\\envs\\tensorflow_gpuenv\\lib\\site-packages\\sklearn\\ensemble\\forest.py:245: FutureWarning: The default value of n_estimators will change from 10 in version 0.20 to 100 in 0.22.\n",
      "  \"10 in version 0.20 to 100 in 0.22.\", FutureWarning)\n",
      "C:\\Users\\NaimHasan\\Anaconda3\\envs\\tensorflow_gpuenv\\lib\\site-packages\\ipykernel_launcher.py:4: DataConversionWarning: A column-vector y was passed when a 1d array was expected. Please change the shape of y to (n_samples,), for example using ravel().\n",
      "  after removing the cwd from sys.path.\n",
      "C:\\Users\\NaimHasan\\Anaconda3\\envs\\tensorflow_gpuenv\\lib\\site-packages\\sklearn\\ensemble\\forest.py:245: FutureWarning: The default value of n_estimators will change from 10 in version 0.20 to 100 in 0.22.\n",
      "  \"10 in version 0.20 to 100 in 0.22.\", FutureWarning)\n",
      "C:\\Users\\NaimHasan\\Anaconda3\\envs\\tensorflow_gpuenv\\lib\\site-packages\\ipykernel_launcher.py:4: DataConversionWarning: A column-vector y was passed when a 1d array was expected. Please change the shape of y to (n_samples,), for example using ravel().\n",
      "  after removing the cwd from sys.path.\n",
      "C:\\Users\\NaimHasan\\Anaconda3\\envs\\tensorflow_gpuenv\\lib\\site-packages\\sklearn\\ensemble\\forest.py:245: FutureWarning: The default value of n_estimators will change from 10 in version 0.20 to 100 in 0.22.\n",
      "  \"10 in version 0.20 to 100 in 0.22.\", FutureWarning)\n",
      "C:\\Users\\NaimHasan\\Anaconda3\\envs\\tensorflow_gpuenv\\lib\\site-packages\\ipykernel_launcher.py:4: DataConversionWarning: A column-vector y was passed when a 1d array was expected. Please change the shape of y to (n_samples,), for example using ravel().\n",
      "  after removing the cwd from sys.path.\n",
      "C:\\Users\\NaimHasan\\Anaconda3\\envs\\tensorflow_gpuenv\\lib\\site-packages\\sklearn\\ensemble\\forest.py:245: FutureWarning: The default value of n_estimators will change from 10 in version 0.20 to 100 in 0.22.\n",
      "  \"10 in version 0.20 to 100 in 0.22.\", FutureWarning)\n",
      "C:\\Users\\NaimHasan\\Anaconda3\\envs\\tensorflow_gpuenv\\lib\\site-packages\\ipykernel_launcher.py:4: DataConversionWarning: A column-vector y was passed when a 1d array was expected. Please change the shape of y to (n_samples,), for example using ravel().\n",
      "  after removing the cwd from sys.path.\n",
      "C:\\Users\\NaimHasan\\Anaconda3\\envs\\tensorflow_gpuenv\\lib\\site-packages\\sklearn\\ensemble\\forest.py:245: FutureWarning: The default value of n_estimators will change from 10 in version 0.20 to 100 in 0.22.\n",
      "  \"10 in version 0.20 to 100 in 0.22.\", FutureWarning)\n",
      "C:\\Users\\NaimHasan\\Anaconda3\\envs\\tensorflow_gpuenv\\lib\\site-packages\\ipykernel_launcher.py:4: DataConversionWarning: A column-vector y was passed when a 1d array was expected. Please change the shape of y to (n_samples,), for example using ravel().\n",
      "  after removing the cwd from sys.path.\n",
      "C:\\Users\\NaimHasan\\Anaconda3\\envs\\tensorflow_gpuenv\\lib\\site-packages\\sklearn\\ensemble\\forest.py:245: FutureWarning: The default value of n_estimators will change from 10 in version 0.20 to 100 in 0.22.\n",
      "  \"10 in version 0.20 to 100 in 0.22.\", FutureWarning)\n",
      "C:\\Users\\NaimHasan\\Anaconda3\\envs\\tensorflow_gpuenv\\lib\\site-packages\\ipykernel_launcher.py:4: DataConversionWarning: A column-vector y was passed when a 1d array was expected. Please change the shape of y to (n_samples,), for example using ravel().\n",
      "  after removing the cwd from sys.path.\n",
      "C:\\Users\\NaimHasan\\Anaconda3\\envs\\tensorflow_gpuenv\\lib\\site-packages\\sklearn\\ensemble\\forest.py:245: FutureWarning: The default value of n_estimators will change from 10 in version 0.20 to 100 in 0.22.\n",
      "  \"10 in version 0.20 to 100 in 0.22.\", FutureWarning)\n",
      "C:\\Users\\NaimHasan\\Anaconda3\\envs\\tensorflow_gpuenv\\lib\\site-packages\\ipykernel_launcher.py:4: DataConversionWarning: A column-vector y was passed when a 1d array was expected. Please change the shape of y to (n_samples,), for example using ravel().\n",
      "  after removing the cwd from sys.path.\n",
      "C:\\Users\\NaimHasan\\Anaconda3\\envs\\tensorflow_gpuenv\\lib\\site-packages\\sklearn\\ensemble\\forest.py:245: FutureWarning: The default value of n_estimators will change from 10 in version 0.20 to 100 in 0.22.\n",
      "  \"10 in version 0.20 to 100 in 0.22.\", FutureWarning)\n",
      "C:\\Users\\NaimHasan\\Anaconda3\\envs\\tensorflow_gpuenv\\lib\\site-packages\\ipykernel_launcher.py:4: DataConversionWarning: A column-vector y was passed when a 1d array was expected. Please change the shape of y to (n_samples,), for example using ravel().\n",
      "  after removing the cwd from sys.path.\n",
      "C:\\Users\\NaimHasan\\Anaconda3\\envs\\tensorflow_gpuenv\\lib\\site-packages\\sklearn\\ensemble\\forest.py:245: FutureWarning: The default value of n_estimators will change from 10 in version 0.20 to 100 in 0.22.\n",
      "  \"10 in version 0.20 to 100 in 0.22.\", FutureWarning)\n",
      "C:\\Users\\NaimHasan\\Anaconda3\\envs\\tensorflow_gpuenv\\lib\\site-packages\\ipykernel_launcher.py:4: DataConversionWarning: A column-vector y was passed when a 1d array was expected. Please change the shape of y to (n_samples,), for example using ravel().\n",
      "  after removing the cwd from sys.path.\n",
      "C:\\Users\\NaimHasan\\Anaconda3\\envs\\tensorflow_gpuenv\\lib\\site-packages\\sklearn\\ensemble\\forest.py:245: FutureWarning: The default value of n_estimators will change from 10 in version 0.20 to 100 in 0.22.\n",
      "  \"10 in version 0.20 to 100 in 0.22.\", FutureWarning)\n",
      "C:\\Users\\NaimHasan\\Anaconda3\\envs\\tensorflow_gpuenv\\lib\\site-packages\\ipykernel_launcher.py:4: DataConversionWarning: A column-vector y was passed when a 1d array was expected. Please change the shape of y to (n_samples,), for example using ravel().\n",
      "  after removing the cwd from sys.path.\n",
      "C:\\Users\\NaimHasan\\Anaconda3\\envs\\tensorflow_gpuenv\\lib\\site-packages\\sklearn\\ensemble\\forest.py:245: FutureWarning: The default value of n_estimators will change from 10 in version 0.20 to 100 in 0.22.\n",
      "  \"10 in version 0.20 to 100 in 0.22.\", FutureWarning)\n",
      "C:\\Users\\NaimHasan\\Anaconda3\\envs\\tensorflow_gpuenv\\lib\\site-packages\\ipykernel_launcher.py:4: DataConversionWarning: A column-vector y was passed when a 1d array was expected. Please change the shape of y to (n_samples,), for example using ravel().\n",
      "  after removing the cwd from sys.path.\n",
      "C:\\Users\\NaimHasan\\Anaconda3\\envs\\tensorflow_gpuenv\\lib\\site-packages\\sklearn\\ensemble\\forest.py:245: FutureWarning: The default value of n_estimators will change from 10 in version 0.20 to 100 in 0.22.\n",
      "  \"10 in version 0.20 to 100 in 0.22.\", FutureWarning)\n",
      "C:\\Users\\NaimHasan\\Anaconda3\\envs\\tensorflow_gpuenv\\lib\\site-packages\\ipykernel_launcher.py:4: DataConversionWarning: A column-vector y was passed when a 1d array was expected. Please change the shape of y to (n_samples,), for example using ravel().\n",
      "  after removing the cwd from sys.path.\n",
      "C:\\Users\\NaimHasan\\Anaconda3\\envs\\tensorflow_gpuenv\\lib\\site-packages\\sklearn\\ensemble\\forest.py:245: FutureWarning: The default value of n_estimators will change from 10 in version 0.20 to 100 in 0.22.\n",
      "  \"10 in version 0.20 to 100 in 0.22.\", FutureWarning)\n"
     ]
    },
    {
     "name": "stderr",
     "output_type": "stream",
     "text": [
      "C:\\Users\\NaimHasan\\Anaconda3\\envs\\tensorflow_gpuenv\\lib\\site-packages\\ipykernel_launcher.py:4: DataConversionWarning: A column-vector y was passed when a 1d array was expected. Please change the shape of y to (n_samples,), for example using ravel().\n",
      "  after removing the cwd from sys.path.\n",
      "C:\\Users\\NaimHasan\\Anaconda3\\envs\\tensorflow_gpuenv\\lib\\site-packages\\sklearn\\ensemble\\forest.py:245: FutureWarning: The default value of n_estimators will change from 10 in version 0.20 to 100 in 0.22.\n",
      "  \"10 in version 0.20 to 100 in 0.22.\", FutureWarning)\n",
      "C:\\Users\\NaimHasan\\Anaconda3\\envs\\tensorflow_gpuenv\\lib\\site-packages\\ipykernel_launcher.py:4: DataConversionWarning: A column-vector y was passed when a 1d array was expected. Please change the shape of y to (n_samples,), for example using ravel().\n",
      "  after removing the cwd from sys.path.\n",
      "C:\\Users\\NaimHasan\\Anaconda3\\envs\\tensorflow_gpuenv\\lib\\site-packages\\sklearn\\ensemble\\forest.py:245: FutureWarning: The default value of n_estimators will change from 10 in version 0.20 to 100 in 0.22.\n",
      "  \"10 in version 0.20 to 100 in 0.22.\", FutureWarning)\n",
      "C:\\Users\\NaimHasan\\Anaconda3\\envs\\tensorflow_gpuenv\\lib\\site-packages\\ipykernel_launcher.py:4: DataConversionWarning: A column-vector y was passed when a 1d array was expected. Please change the shape of y to (n_samples,), for example using ravel().\n",
      "  after removing the cwd from sys.path.\n",
      "C:\\Users\\NaimHasan\\Anaconda3\\envs\\tensorflow_gpuenv\\lib\\site-packages\\sklearn\\ensemble\\forest.py:245: FutureWarning: The default value of n_estimators will change from 10 in version 0.20 to 100 in 0.22.\n",
      "  \"10 in version 0.20 to 100 in 0.22.\", FutureWarning)\n",
      "C:\\Users\\NaimHasan\\Anaconda3\\envs\\tensorflow_gpuenv\\lib\\site-packages\\ipykernel_launcher.py:4: DataConversionWarning: A column-vector y was passed when a 1d array was expected. Please change the shape of y to (n_samples,), for example using ravel().\n",
      "  after removing the cwd from sys.path.\n",
      "C:\\Users\\NaimHasan\\Anaconda3\\envs\\tensorflow_gpuenv\\lib\\site-packages\\sklearn\\ensemble\\forest.py:245: FutureWarning: The default value of n_estimators will change from 10 in version 0.20 to 100 in 0.22.\n",
      "  \"10 in version 0.20 to 100 in 0.22.\", FutureWarning)\n",
      "C:\\Users\\NaimHasan\\Anaconda3\\envs\\tensorflow_gpuenv\\lib\\site-packages\\ipykernel_launcher.py:4: DataConversionWarning: A column-vector y was passed when a 1d array was expected. Please change the shape of y to (n_samples,), for example using ravel().\n",
      "  after removing the cwd from sys.path.\n",
      "C:\\Users\\NaimHasan\\Anaconda3\\envs\\tensorflow_gpuenv\\lib\\site-packages\\sklearn\\ensemble\\forest.py:245: FutureWarning: The default value of n_estimators will change from 10 in version 0.20 to 100 in 0.22.\n",
      "  \"10 in version 0.20 to 100 in 0.22.\", FutureWarning)\n",
      "C:\\Users\\NaimHasan\\Anaconda3\\envs\\tensorflow_gpuenv\\lib\\site-packages\\ipykernel_launcher.py:4: DataConversionWarning: A column-vector y was passed when a 1d array was expected. Please change the shape of y to (n_samples,), for example using ravel().\n",
      "  after removing the cwd from sys.path.\n",
      "C:\\Users\\NaimHasan\\Anaconda3\\envs\\tensorflow_gpuenv\\lib\\site-packages\\sklearn\\ensemble\\forest.py:245: FutureWarning: The default value of n_estimators will change from 10 in version 0.20 to 100 in 0.22.\n",
      "  \"10 in version 0.20 to 100 in 0.22.\", FutureWarning)\n",
      "C:\\Users\\NaimHasan\\Anaconda3\\envs\\tensorflow_gpuenv\\lib\\site-packages\\ipykernel_launcher.py:4: DataConversionWarning: A column-vector y was passed when a 1d array was expected. Please change the shape of y to (n_samples,), for example using ravel().\n",
      "  after removing the cwd from sys.path.\n",
      "C:\\Users\\NaimHasan\\Anaconda3\\envs\\tensorflow_gpuenv\\lib\\site-packages\\sklearn\\ensemble\\forest.py:245: FutureWarning: The default value of n_estimators will change from 10 in version 0.20 to 100 in 0.22.\n",
      "  \"10 in version 0.20 to 100 in 0.22.\", FutureWarning)\n",
      "C:\\Users\\NaimHasan\\Anaconda3\\envs\\tensorflow_gpuenv\\lib\\site-packages\\ipykernel_launcher.py:4: DataConversionWarning: A column-vector y was passed when a 1d array was expected. Please change the shape of y to (n_samples,), for example using ravel().\n",
      "  after removing the cwd from sys.path.\n",
      "C:\\Users\\NaimHasan\\Anaconda3\\envs\\tensorflow_gpuenv\\lib\\site-packages\\sklearn\\ensemble\\forest.py:245: FutureWarning: The default value of n_estimators will change from 10 in version 0.20 to 100 in 0.22.\n",
      "  \"10 in version 0.20 to 100 in 0.22.\", FutureWarning)\n",
      "C:\\Users\\NaimHasan\\Anaconda3\\envs\\tensorflow_gpuenv\\lib\\site-packages\\ipykernel_launcher.py:4: DataConversionWarning: A column-vector y was passed when a 1d array was expected. Please change the shape of y to (n_samples,), for example using ravel().\n",
      "  after removing the cwd from sys.path.\n",
      "C:\\Users\\NaimHasan\\Anaconda3\\envs\\tensorflow_gpuenv\\lib\\site-packages\\sklearn\\ensemble\\forest.py:245: FutureWarning: The default value of n_estimators will change from 10 in version 0.20 to 100 in 0.22.\n",
      "  \"10 in version 0.20 to 100 in 0.22.\", FutureWarning)\n",
      "C:\\Users\\NaimHasan\\Anaconda3\\envs\\tensorflow_gpuenv\\lib\\site-packages\\ipykernel_launcher.py:4: DataConversionWarning: A column-vector y was passed when a 1d array was expected. Please change the shape of y to (n_samples,), for example using ravel().\n",
      "  after removing the cwd from sys.path.\n",
      "C:\\Users\\NaimHasan\\Anaconda3\\envs\\tensorflow_gpuenv\\lib\\site-packages\\sklearn\\ensemble\\forest.py:245: FutureWarning: The default value of n_estimators will change from 10 in version 0.20 to 100 in 0.22.\n",
      "  \"10 in version 0.20 to 100 in 0.22.\", FutureWarning)\n",
      "C:\\Users\\NaimHasan\\Anaconda3\\envs\\tensorflow_gpuenv\\lib\\site-packages\\ipykernel_launcher.py:4: DataConversionWarning: A column-vector y was passed when a 1d array was expected. Please change the shape of y to (n_samples,), for example using ravel().\n",
      "  after removing the cwd from sys.path.\n",
      "C:\\Users\\NaimHasan\\Anaconda3\\envs\\tensorflow_gpuenv\\lib\\site-packages\\sklearn\\ensemble\\forest.py:245: FutureWarning: The default value of n_estimators will change from 10 in version 0.20 to 100 in 0.22.\n",
      "  \"10 in version 0.20 to 100 in 0.22.\", FutureWarning)\n",
      "C:\\Users\\NaimHasan\\Anaconda3\\envs\\tensorflow_gpuenv\\lib\\site-packages\\ipykernel_launcher.py:4: DataConversionWarning: A column-vector y was passed when a 1d array was expected. Please change the shape of y to (n_samples,), for example using ravel().\n",
      "  after removing the cwd from sys.path.\n",
      "C:\\Users\\NaimHasan\\Anaconda3\\envs\\tensorflow_gpuenv\\lib\\site-packages\\sklearn\\ensemble\\forest.py:245: FutureWarning: The default value of n_estimators will change from 10 in version 0.20 to 100 in 0.22.\n",
      "  \"10 in version 0.20 to 100 in 0.22.\", FutureWarning)\n",
      "C:\\Users\\NaimHasan\\Anaconda3\\envs\\tensorflow_gpuenv\\lib\\site-packages\\ipykernel_launcher.py:4: DataConversionWarning: A column-vector y was passed when a 1d array was expected. Please change the shape of y to (n_samples,), for example using ravel().\n",
      "  after removing the cwd from sys.path.\n",
      "C:\\Users\\NaimHasan\\Anaconda3\\envs\\tensorflow_gpuenv\\lib\\site-packages\\sklearn\\ensemble\\forest.py:245: FutureWarning: The default value of n_estimators will change from 10 in version 0.20 to 100 in 0.22.\n",
      "  \"10 in version 0.20 to 100 in 0.22.\", FutureWarning)\n",
      "C:\\Users\\NaimHasan\\Anaconda3\\envs\\tensorflow_gpuenv\\lib\\site-packages\\ipykernel_launcher.py:4: DataConversionWarning: A column-vector y was passed when a 1d array was expected. Please change the shape of y to (n_samples,), for example using ravel().\n",
      "  after removing the cwd from sys.path.\n",
      "C:\\Users\\NaimHasan\\Anaconda3\\envs\\tensorflow_gpuenv\\lib\\site-packages\\sklearn\\ensemble\\forest.py:245: FutureWarning: The default value of n_estimators will change from 10 in version 0.20 to 100 in 0.22.\n",
      "  \"10 in version 0.20 to 100 in 0.22.\", FutureWarning)\n",
      "C:\\Users\\NaimHasan\\Anaconda3\\envs\\tensorflow_gpuenv\\lib\\site-packages\\ipykernel_launcher.py:4: DataConversionWarning: A column-vector y was passed when a 1d array was expected. Please change the shape of y to (n_samples,), for example using ravel().\n",
      "  after removing the cwd from sys.path.\n",
      "C:\\Users\\NaimHasan\\Anaconda3\\envs\\tensorflow_gpuenv\\lib\\site-packages\\sklearn\\ensemble\\forest.py:245: FutureWarning: The default value of n_estimators will change from 10 in version 0.20 to 100 in 0.22.\n",
      "  \"10 in version 0.20 to 100 in 0.22.\", FutureWarning)\n",
      "C:\\Users\\NaimHasan\\Anaconda3\\envs\\tensorflow_gpuenv\\lib\\site-packages\\ipykernel_launcher.py:4: DataConversionWarning: A column-vector y was passed when a 1d array was expected. Please change the shape of y to (n_samples,), for example using ravel().\n",
      "  after removing the cwd from sys.path.\n",
      "C:\\Users\\NaimHasan\\Anaconda3\\envs\\tensorflow_gpuenv\\lib\\site-packages\\sklearn\\ensemble\\forest.py:245: FutureWarning: The default value of n_estimators will change from 10 in version 0.20 to 100 in 0.22.\n",
      "  \"10 in version 0.20 to 100 in 0.22.\", FutureWarning)\n",
      "C:\\Users\\NaimHasan\\Anaconda3\\envs\\tensorflow_gpuenv\\lib\\site-packages\\ipykernel_launcher.py:4: DataConversionWarning: A column-vector y was passed when a 1d array was expected. Please change the shape of y to (n_samples,), for example using ravel().\n",
      "  after removing the cwd from sys.path.\n",
      "C:\\Users\\NaimHasan\\Anaconda3\\envs\\tensorflow_gpuenv\\lib\\site-packages\\sklearn\\ensemble\\forest.py:245: FutureWarning: The default value of n_estimators will change from 10 in version 0.20 to 100 in 0.22.\n",
      "  \"10 in version 0.20 to 100 in 0.22.\", FutureWarning)\n",
      "C:\\Users\\NaimHasan\\Anaconda3\\envs\\tensorflow_gpuenv\\lib\\site-packages\\ipykernel_launcher.py:4: DataConversionWarning: A column-vector y was passed when a 1d array was expected. Please change the shape of y to (n_samples,), for example using ravel().\n",
      "  after removing the cwd from sys.path.\n",
      "C:\\Users\\NaimHasan\\Anaconda3\\envs\\tensorflow_gpuenv\\lib\\site-packages\\sklearn\\ensemble\\forest.py:245: FutureWarning: The default value of n_estimators will change from 10 in version 0.20 to 100 in 0.22.\n",
      "  \"10 in version 0.20 to 100 in 0.22.\", FutureWarning)\n"
     ]
    },
    {
     "name": "stderr",
     "output_type": "stream",
     "text": [
      "C:\\Users\\NaimHasan\\Anaconda3\\envs\\tensorflow_gpuenv\\lib\\site-packages\\ipykernel_launcher.py:4: DataConversionWarning: A column-vector y was passed when a 1d array was expected. Please change the shape of y to (n_samples,), for example using ravel().\n",
      "  after removing the cwd from sys.path.\n",
      "C:\\Users\\NaimHasan\\Anaconda3\\envs\\tensorflow_gpuenv\\lib\\site-packages\\sklearn\\ensemble\\forest.py:245: FutureWarning: The default value of n_estimators will change from 10 in version 0.20 to 100 in 0.22.\n",
      "  \"10 in version 0.20 to 100 in 0.22.\", FutureWarning)\n",
      "C:\\Users\\NaimHasan\\Anaconda3\\envs\\tensorflow_gpuenv\\lib\\site-packages\\ipykernel_launcher.py:4: DataConversionWarning: A column-vector y was passed when a 1d array was expected. Please change the shape of y to (n_samples,), for example using ravel().\n",
      "  after removing the cwd from sys.path.\n",
      "C:\\Users\\NaimHasan\\Anaconda3\\envs\\tensorflow_gpuenv\\lib\\site-packages\\sklearn\\ensemble\\forest.py:245: FutureWarning: The default value of n_estimators will change from 10 in version 0.20 to 100 in 0.22.\n",
      "  \"10 in version 0.20 to 100 in 0.22.\", FutureWarning)\n",
      "C:\\Users\\NaimHasan\\Anaconda3\\envs\\tensorflow_gpuenv\\lib\\site-packages\\ipykernel_launcher.py:4: DataConversionWarning: A column-vector y was passed when a 1d array was expected. Please change the shape of y to (n_samples,), for example using ravel().\n",
      "  after removing the cwd from sys.path.\n",
      "C:\\Users\\NaimHasan\\Anaconda3\\envs\\tensorflow_gpuenv\\lib\\site-packages\\sklearn\\ensemble\\forest.py:245: FutureWarning: The default value of n_estimators will change from 10 in version 0.20 to 100 in 0.22.\n",
      "  \"10 in version 0.20 to 100 in 0.22.\", FutureWarning)\n",
      "C:\\Users\\NaimHasan\\Anaconda3\\envs\\tensorflow_gpuenv\\lib\\site-packages\\ipykernel_launcher.py:4: DataConversionWarning: A column-vector y was passed when a 1d array was expected. Please change the shape of y to (n_samples,), for example using ravel().\n",
      "  after removing the cwd from sys.path.\n",
      "C:\\Users\\NaimHasan\\Anaconda3\\envs\\tensorflow_gpuenv\\lib\\site-packages\\sklearn\\ensemble\\forest.py:245: FutureWarning: The default value of n_estimators will change from 10 in version 0.20 to 100 in 0.22.\n",
      "  \"10 in version 0.20 to 100 in 0.22.\", FutureWarning)\n",
      "C:\\Users\\NaimHasan\\Anaconda3\\envs\\tensorflow_gpuenv\\lib\\site-packages\\ipykernel_launcher.py:4: DataConversionWarning: A column-vector y was passed when a 1d array was expected. Please change the shape of y to (n_samples,), for example using ravel().\n",
      "  after removing the cwd from sys.path.\n",
      "C:\\Users\\NaimHasan\\Anaconda3\\envs\\tensorflow_gpuenv\\lib\\site-packages\\sklearn\\ensemble\\forest.py:245: FutureWarning: The default value of n_estimators will change from 10 in version 0.20 to 100 in 0.22.\n",
      "  \"10 in version 0.20 to 100 in 0.22.\", FutureWarning)\n",
      "C:\\Users\\NaimHasan\\Anaconda3\\envs\\tensorflow_gpuenv\\lib\\site-packages\\ipykernel_launcher.py:4: DataConversionWarning: A column-vector y was passed when a 1d array was expected. Please change the shape of y to (n_samples,), for example using ravel().\n",
      "  after removing the cwd from sys.path.\n",
      "C:\\Users\\NaimHasan\\Anaconda3\\envs\\tensorflow_gpuenv\\lib\\site-packages\\sklearn\\ensemble\\forest.py:245: FutureWarning: The default value of n_estimators will change from 10 in version 0.20 to 100 in 0.22.\n",
      "  \"10 in version 0.20 to 100 in 0.22.\", FutureWarning)\n",
      "C:\\Users\\NaimHasan\\Anaconda3\\envs\\tensorflow_gpuenv\\lib\\site-packages\\ipykernel_launcher.py:4: DataConversionWarning: A column-vector y was passed when a 1d array was expected. Please change the shape of y to (n_samples,), for example using ravel().\n",
      "  after removing the cwd from sys.path.\n",
      "C:\\Users\\NaimHasan\\Anaconda3\\envs\\tensorflow_gpuenv\\lib\\site-packages\\sklearn\\ensemble\\forest.py:245: FutureWarning: The default value of n_estimators will change from 10 in version 0.20 to 100 in 0.22.\n",
      "  \"10 in version 0.20 to 100 in 0.22.\", FutureWarning)\n",
      "C:\\Users\\NaimHasan\\Anaconda3\\envs\\tensorflow_gpuenv\\lib\\site-packages\\ipykernel_launcher.py:4: DataConversionWarning: A column-vector y was passed when a 1d array was expected. Please change the shape of y to (n_samples,), for example using ravel().\n",
      "  after removing the cwd from sys.path.\n",
      "C:\\Users\\NaimHasan\\Anaconda3\\envs\\tensorflow_gpuenv\\lib\\site-packages\\sklearn\\ensemble\\forest.py:245: FutureWarning: The default value of n_estimators will change from 10 in version 0.20 to 100 in 0.22.\n",
      "  \"10 in version 0.20 to 100 in 0.22.\", FutureWarning)\n",
      "C:\\Users\\NaimHasan\\Anaconda3\\envs\\tensorflow_gpuenv\\lib\\site-packages\\ipykernel_launcher.py:4: DataConversionWarning: A column-vector y was passed when a 1d array was expected. Please change the shape of y to (n_samples,), for example using ravel().\n",
      "  after removing the cwd from sys.path.\n",
      "C:\\Users\\NaimHasan\\Anaconda3\\envs\\tensorflow_gpuenv\\lib\\site-packages\\sklearn\\ensemble\\forest.py:245: FutureWarning: The default value of n_estimators will change from 10 in version 0.20 to 100 in 0.22.\n",
      "  \"10 in version 0.20 to 100 in 0.22.\", FutureWarning)\n",
      "C:\\Users\\NaimHasan\\Anaconda3\\envs\\tensorflow_gpuenv\\lib\\site-packages\\ipykernel_launcher.py:4: DataConversionWarning: A column-vector y was passed when a 1d array was expected. Please change the shape of y to (n_samples,), for example using ravel().\n",
      "  after removing the cwd from sys.path.\n",
      "C:\\Users\\NaimHasan\\Anaconda3\\envs\\tensorflow_gpuenv\\lib\\site-packages\\sklearn\\ensemble\\forest.py:245: FutureWarning: The default value of n_estimators will change from 10 in version 0.20 to 100 in 0.22.\n",
      "  \"10 in version 0.20 to 100 in 0.22.\", FutureWarning)\n",
      "C:\\Users\\NaimHasan\\Anaconda3\\envs\\tensorflow_gpuenv\\lib\\site-packages\\ipykernel_launcher.py:4: DataConversionWarning: A column-vector y was passed when a 1d array was expected. Please change the shape of y to (n_samples,), for example using ravel().\n",
      "  after removing the cwd from sys.path.\n",
      "C:\\Users\\NaimHasan\\Anaconda3\\envs\\tensorflow_gpuenv\\lib\\site-packages\\sklearn\\ensemble\\forest.py:245: FutureWarning: The default value of n_estimators will change from 10 in version 0.20 to 100 in 0.22.\n",
      "  \"10 in version 0.20 to 100 in 0.22.\", FutureWarning)\n",
      "C:\\Users\\NaimHasan\\Anaconda3\\envs\\tensorflow_gpuenv\\lib\\site-packages\\ipykernel_launcher.py:4: DataConversionWarning: A column-vector y was passed when a 1d array was expected. Please change the shape of y to (n_samples,), for example using ravel().\n",
      "  after removing the cwd from sys.path.\n",
      "C:\\Users\\NaimHasan\\Anaconda3\\envs\\tensorflow_gpuenv\\lib\\site-packages\\sklearn\\ensemble\\forest.py:245: FutureWarning: The default value of n_estimators will change from 10 in version 0.20 to 100 in 0.22.\n",
      "  \"10 in version 0.20 to 100 in 0.22.\", FutureWarning)\n",
      "C:\\Users\\NaimHasan\\Anaconda3\\envs\\tensorflow_gpuenv\\lib\\site-packages\\ipykernel_launcher.py:4: DataConversionWarning: A column-vector y was passed when a 1d array was expected. Please change the shape of y to (n_samples,), for example using ravel().\n",
      "  after removing the cwd from sys.path.\n",
      "C:\\Users\\NaimHasan\\Anaconda3\\envs\\tensorflow_gpuenv\\lib\\site-packages\\sklearn\\ensemble\\forest.py:245: FutureWarning: The default value of n_estimators will change from 10 in version 0.20 to 100 in 0.22.\n",
      "  \"10 in version 0.20 to 100 in 0.22.\", FutureWarning)\n",
      "C:\\Users\\NaimHasan\\Anaconda3\\envs\\tensorflow_gpuenv\\lib\\site-packages\\ipykernel_launcher.py:4: DataConversionWarning: A column-vector y was passed when a 1d array was expected. Please change the shape of y to (n_samples,), for example using ravel().\n",
      "  after removing the cwd from sys.path.\n",
      "C:\\Users\\NaimHasan\\Anaconda3\\envs\\tensorflow_gpuenv\\lib\\site-packages\\sklearn\\ensemble\\forest.py:245: FutureWarning: The default value of n_estimators will change from 10 in version 0.20 to 100 in 0.22.\n",
      "  \"10 in version 0.20 to 100 in 0.22.\", FutureWarning)\n",
      "C:\\Users\\NaimHasan\\Anaconda3\\envs\\tensorflow_gpuenv\\lib\\site-packages\\ipykernel_launcher.py:4: DataConversionWarning: A column-vector y was passed when a 1d array was expected. Please change the shape of y to (n_samples,), for example using ravel().\n",
      "  after removing the cwd from sys.path.\n",
      "C:\\Users\\NaimHasan\\Anaconda3\\envs\\tensorflow_gpuenv\\lib\\site-packages\\sklearn\\ensemble\\forest.py:245: FutureWarning: The default value of n_estimators will change from 10 in version 0.20 to 100 in 0.22.\n",
      "  \"10 in version 0.20 to 100 in 0.22.\", FutureWarning)\n",
      "C:\\Users\\NaimHasan\\Anaconda3\\envs\\tensorflow_gpuenv\\lib\\site-packages\\ipykernel_launcher.py:4: DataConversionWarning: A column-vector y was passed when a 1d array was expected. Please change the shape of y to (n_samples,), for example using ravel().\n",
      "  after removing the cwd from sys.path.\n"
     ]
    }
   ],
   "source": [
    "accuracy=[]\n",
    "for depth in range(1,50):\n",
    "    dt = RandomForestRegressor(max_depth=depth,random_state=42)\n",
    "    dt.fit(x_train,y_train)\n",
    "    accuracy.append(dt.score(x_test,y_test))"
   ]
  },
  {
   "cell_type": "code",
   "execution_count": 129,
   "metadata": {},
   "outputs": [
    {
     "data": {
      "text/plain": [
       "[<matplotlib.lines.Line2D at 0x2260d6ae438>]"
      ]
     },
     "execution_count": 129,
     "metadata": {},
     "output_type": "execute_result"
    },
    {
     "data": {
      "image/png": "[encoded data removed]",
      "text/plain": [
       "<Figure size 432x288 with 1 Axes>"
      ]
     },
     "metadata": {},
     "output_type": "display_data"
    }
   ],
   "source": [
    "plt.plot(range(1,50),accuracy)"
   ]
  },
  {
   "cell_type": "code",
   "execution_count": 131,
   "metadata": {},
   "outputs": [],
   "source": [
    "from sklearn.tree import DecisionTreeRegressor\n",
    "from sklearn.svm import SVR,LinearSVR\n",
    "from sklearn.ensemble import RandomForestRegressor,GradientBoostingRegressor\n",
    "from sklearn.ensemble import BaggingRegressor\n",
    "from sklearn.model_selection import cross_val_score\n",
    "from sklearn.neighbors import KNeighborsRegressor\n",
    "\n",
    "from mlxtend.regressor import StackingRegressor\n",
    "lsvc=LinearSVR()\n",
    "dtc=DecisionTreeRegressor()\n",
    "knnc=KNeighborsRegressor()\n",
    "svc=SVR()\n",
    "gbc=GradientBoostingRegressor()\n",
    "rfc=RandomForestRegressor()"
   ]
  },
  {
   "cell_type": "code",
   "execution_count": 132,
   "metadata": {},
   "outputs": [],
   "source": [
    "stregr = StackingRegressor(regressors=[lsvc,dtc,knnc,svc,gbc,rfc], \n",
    "                           meta_regressor=lsvc)"
   ]
  },
  {
   "cell_type": "code",
   "execution_count": 133,
   "metadata": {},
   "outputs": [
    {
     "name": "stderr",
     "output_type": "stream",
     "text": [
      "C:\\Users\\NaimHasan\\Anaconda3\\envs\\tensorflow_gpuenv\\lib\\site-packages\\sklearn\\utils\\validation.py:724: DataConversionWarning: A column-vector y was passed when a 1d array was expected. Please change the shape of y to (n_samples, ), for example using ravel().\n",
      "  y = column_or_1d(y, warn=True)\n",
      "C:\\Users\\NaimHasan\\Anaconda3\\envs\\tensorflow_gpuenv\\lib\\site-packages\\sklearn\\svm\\base.py:929: ConvergenceWarning: Liblinear failed to converge, increase the number of iterations.\n",
      "  \"the number of iterations.\", ConvergenceWarning)\n",
      "C:\\Users\\NaimHasan\\Anaconda3\\envs\\tensorflow_gpuenv\\lib\\site-packages\\sklearn\\utils\\validation.py:724: DataConversionWarning: A column-vector y was passed when a 1d array was expected. Please change the shape of y to (n_samples, ), for example using ravel().\n",
      "  y = column_or_1d(y, warn=True)\n",
      "C:\\Users\\NaimHasan\\Anaconda3\\envs\\tensorflow_gpuenv\\lib\\site-packages\\sklearn\\svm\\base.py:193: FutureWarning: The default value of gamma will change from 'auto' to 'scale' in version 0.22 to account better for unscaled features. Set gamma explicitly to 'auto' or 'scale' to avoid this warning.\n",
      "  \"avoid this warning.\", FutureWarning)\n",
      "C:\\Users\\NaimHasan\\Anaconda3\\envs\\tensorflow_gpuenv\\lib\\site-packages\\sklearn\\ensemble\\gradient_boosting.py:1450: DataConversionWarning: A column-vector y was passed when a 1d array was expected. Please change the shape of y to (n_samples, ), for example using ravel().\n",
      "  y = column_or_1d(y, warn=True)\n",
      "C:\\Users\\NaimHasan\\Anaconda3\\envs\\tensorflow_gpuenv\\lib\\site-packages\\sklearn\\ensemble\\forest.py:245: FutureWarning: The default value of n_estimators will change from 10 in version 0.20 to 100 in 0.22.\n",
      "  \"10 in version 0.20 to 100 in 0.22.\", FutureWarning)\n",
      "C:\\Users\\NaimHasan\\Anaconda3\\envs\\tensorflow_gpuenv\\lib\\site-packages\\mlxtend\\regressor\\stacking_regression.py:148: DataConversionWarning: A column-vector y was passed when a 1d array was expected. Please change the shape of y to (n_samples,), for example using ravel().\n",
      "  regr.fit(X, y)\n",
      "C:\\Users\\NaimHasan\\Anaconda3\\envs\\tensorflow_gpuenv\\lib\\site-packages\\sklearn\\utils\\validation.py:724: DataConversionWarning: A column-vector y was passed when a 1d array was expected. Please change the shape of y to (n_samples, ), for example using ravel().\n",
      "  y = column_or_1d(y, warn=True)\n"
     ]
    },
    {
     "data": {
      "text/plain": [
       "StackingRegressor(meta_regressor=LinearSVR(C=1.0, dual=True, epsilon=0.0,\n",
       "                                           fit_intercept=True,\n",
       "                                           intercept_scaling=1.0,\n",
       "                                           loss='epsilon_insensitive',\n",
       "                                           max_iter=1000, random_state=None,\n",
       "                                           tol=0.0001, verbose=0),\n",
       "                  refit=True,\n",
       "                  regressors=[LinearSVR(C=1.0, dual=True, epsilon=0.0,\n",
       "                                        fit_intercept=True,\n",
       "                                        intercept_scaling=1.0,\n",
       "                                        loss='epsilon_insensitive',\n",
       "                                        max_iter=1000, random_state=N...\n",
       "                                                    criterion='mse',\n",
       "                                                    max_depth=None,\n",
       "                                                    max_features='auto',\n",
       "                                                    max_leaf_nodes=None,\n",
       "                                                    min_impurity_decrease=0.0,\n",
       "                                                    min_impurity_split=None,\n",
       "                                                    min_samples_leaf=1,\n",
       "                                                    min_samples_split=2,\n",
       "                                                    min_weight_fraction_leaf=0.0,\n",
       "                                                    n_estimators='warn',\n",
       "                                                    n_jobs=None,\n",
       "                                                    oob_score=False,\n",
       "                                                    random_state=None,\n",
       "                                                    verbose=0,\n",
       "                                                    warm_start=False)],\n",
       "                  store_train_meta_features=False,\n",
       "                  use_features_in_secondary=False, verbose=0)"
      ]
     },
     "execution_count": 133,
     "metadata": {},
     "output_type": "execute_result"
    }
   ],
   "source": [
    "stregr.fit(x_train, y_train)"
   ]
  },
  {
   "cell_type": "code",
   "execution_count": 134,
   "metadata": {},
   "outputs": [],
   "source": [
    "prediction = stregr.predict(x_test)"
   ]
  },
  {
   "cell_type": "code",
   "execution_count": 135,
   "metadata": {},
   "outputs": [
    {
     "data": {
      "text/plain": [
       "0.724446422211642"
      ]
     },
     "execution_count": 135,
     "metadata": {},
     "output_type": "execute_result"
    }
   ],
   "source": [
    "stregr.score(x_test,y_test)"
   ]
  },
  {
   "cell_type": "code",
   "execution_count": null,
   "metadata": {},
   "outputs": [],
   "source": [
    "\n"
   ]
  },
  {
   "cell_type": "code",
   "execution_count": null,
   "metadata": {},
   "outputs": [],
   "source": []
  }
 ],
 "metadata": {
  "kernelspec": {
   "display_name": "Python 3",
   "language": "python",
   "name": "python3"
  },
  "language_info": {
   "codemirror_mode": {
    "name": "ipython",
    "version": 3
   },
   "file_extension": ".py",
   "mimetype": "text/x-python",
   "name": "python",
   "nbconvert_exporter": "python",
   "pygments_lexer": "ipython3",
   "version": "3.7.3"
  }
 },
 "nbformat": 4,
 "nbformat_minor": 2
}
